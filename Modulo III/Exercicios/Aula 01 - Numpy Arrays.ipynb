{
 "cells": [
  {
   "cell_type": "markdown",
   "id": "identified-jefferson",
   "metadata": {},
   "source": [
    "## 🎯 Exercícios 🎯 <a class=\"anchor\" id=\"cinco\"></a>\n",
    "1) Transforme as duas listas em duas arrays diferentes arr1 e arr2.\n",
    "2) Verifique o dtype dos array\n",
    "3) Transforme os dois array em float\n",
    "4) Compare as duas arrays e mostre os indices dos elementos que são iguais(dica = .where)\n",
    "5) Retorne os numeros do array que são iguais usando o output do passo 4"
   ]
  },
  {
   "cell_type": "code",
   "execution_count": 2,
   "id": "recorded-banks",
   "metadata": {
    "execution": {
     "iopub.execute_input": "2022-06-24T18:28:06.748636Z",
     "iopub.status.busy": "2022-06-24T18:28:06.746631Z",
     "iopub.status.idle": "2022-06-24T18:28:06.789408Z",
     "shell.execute_reply": "2022-06-24T18:28:06.788427Z",
     "shell.execute_reply.started": "2022-06-24T18:28:06.748556Z"
    },
    "tags": []
   },
   "outputs": [
    {
     "name": "stdout",
     "output_type": "stream",
     "text": [
      "int32\n",
      "float64\n",
      "[1. 2. 3. 4. 5.]\n",
      "[1.  3.  2.2 4.  5. ]\n",
      "(array([0, 3, 4], dtype=int64),)\n",
      "[1 4 5]\n"
     ]
    }
   ],
   "source": [
    "import numpy as np\n",
    "\n",
    "list_1 = [1,2,3,4,5]\n",
    "list_2 = [1,3,2.2,4,5]\n",
    "\n",
    "arr1 = np.array(list_1)\n",
    "arr2 = np.array(list_2)\n",
    "\n",
    "print(arr1.dtype)\n",
    "print(arr2.dtype)\n",
    "\n",
    "print(arr1.astype(float))\n",
    "print(arr2.astype(float))\n",
    "\n",
    "print(np.where(arr1 == arr2))\n",
    "\n",
    "print(arr1[[0,3,4]])"
   ]
  },
  {
   "cell_type": "markdown",
   "id": "lesbian-perry",
   "metadata": {},
   "source": [
    "\n",
    "1) Gere uma array com 3 dimensões com shape. (2,2,2)\n",
    "2) Printe o ndim da array e o shape\n",
    "3) Retire um elemento especifico [bloco][linha][coluna]\n",
    "\n"
   ]
  },
  {
   "cell_type": "code",
   "execution_count": 15,
   "id": "53719e13",
   "metadata": {},
   "outputs": [
    {
     "name": "stdout",
     "output_type": "stream",
     "text": [
      "[[[4. 7.]\n",
      "  [0. 3.]]\n",
      "\n",
      " [[1. 0.]\n",
      "  [1. 3.]]]\n",
      "3\n",
      "(2, 2, 2)\n"
     ]
    },
    {
     "data": {
      "text/plain": [
       "1.0"
      ]
     },
     "execution_count": 15,
     "metadata": {},
     "output_type": "execute_result"
    }
   ],
   "source": [
    "np.random.seed(1)\n",
    "arr = np.floor(10*np.random.random_sample((2,2,2)))\n",
    "\n",
    "print(arr)\n",
    "\n",
    "print(arr.ndim)\n",
    "print(arr.shape)\n",
    "\n",
    "arr[1][1][0]\n"
   ]
  },
  {
   "cell_type": "markdown",
   "id": "international-bristol",
   "metadata": {},
   "source": [
    "#### DIY - Grupos"
   ]
  },
  {
   "cell_type": "markdown",
   "id": "solid-framework",
   "metadata": {},
   "source": [
    "https://archive.ics.uci.edu/ml/datasets/Wine+Quality"
   ]
  },
  {
   "cell_type": "code",
   "execution_count": 16,
   "id": "ancient-opening",
   "metadata": {
    "execution": {
     "iopub.execute_input": "2022-06-24T18:12:52.580575Z",
     "iopub.status.busy": "2022-06-24T18:12:52.579985Z",
     "iopub.status.idle": "2022-06-24T18:12:52.604019Z",
     "shell.execute_reply": "2022-06-24T18:12:52.587740Z",
     "shell.execute_reply.started": "2022-06-24T18:12:52.580539Z"
    },
    "tags": []
   },
   "outputs": [],
   "source": [
    "url = 'https://archive.ics.uci.edu/ml/machine-learning-databases/wine-quality/winequality-red.csv'"
   ]
  },
  {
   "cell_type": "code",
   "execution_count": 28,
   "id": "ebe69531",
   "metadata": {},
   "outputs": [
    {
     "data": {
      "text/html": [
       "<div>\n",
       "<style scoped>\n",
       "    .dataframe tbody tr th:only-of-type {\n",
       "        vertical-align: middle;\n",
       "    }\n",
       "\n",
       "    .dataframe tbody tr th {\n",
       "        vertical-align: top;\n",
       "    }\n",
       "\n",
       "    .dataframe thead th {\n",
       "        text-align: right;\n",
       "    }\n",
       "</style>\n",
       "<table border=\"1\" class=\"dataframe\">\n",
       "  <thead>\n",
       "    <tr style=\"text-align: right;\">\n",
       "      <th></th>\n",
       "      <th>fixed acidity</th>\n",
       "      <th>volatile acidity</th>\n",
       "      <th>citric acid</th>\n",
       "      <th>residual sugar</th>\n",
       "      <th>chlorides</th>\n",
       "      <th>free sulfur dioxide</th>\n",
       "      <th>total sulfur dioxide</th>\n",
       "      <th>density</th>\n",
       "      <th>pH</th>\n",
       "      <th>sulphates</th>\n",
       "      <th>alcohol</th>\n",
       "      <th>quality</th>\n",
       "    </tr>\n",
       "  </thead>\n",
       "  <tbody>\n",
       "    <tr>\n",
       "      <th>0</th>\n",
       "      <td>7.4</td>\n",
       "      <td>0.700</td>\n",
       "      <td>0.00</td>\n",
       "      <td>1.9</td>\n",
       "      <td>0.076</td>\n",
       "      <td>11.0</td>\n",
       "      <td>34.0</td>\n",
       "      <td>0.99780</td>\n",
       "      <td>3.51</td>\n",
       "      <td>0.56</td>\n",
       "      <td>9.4</td>\n",
       "      <td>5</td>\n",
       "    </tr>\n",
       "    <tr>\n",
       "      <th>1</th>\n",
       "      <td>7.8</td>\n",
       "      <td>0.880</td>\n",
       "      <td>0.00</td>\n",
       "      <td>2.6</td>\n",
       "      <td>0.098</td>\n",
       "      <td>25.0</td>\n",
       "      <td>67.0</td>\n",
       "      <td>0.99680</td>\n",
       "      <td>3.20</td>\n",
       "      <td>0.68</td>\n",
       "      <td>9.8</td>\n",
       "      <td>5</td>\n",
       "    </tr>\n",
       "    <tr>\n",
       "      <th>2</th>\n",
       "      <td>7.8</td>\n",
       "      <td>0.760</td>\n",
       "      <td>0.04</td>\n",
       "      <td>2.3</td>\n",
       "      <td>0.092</td>\n",
       "      <td>15.0</td>\n",
       "      <td>54.0</td>\n",
       "      <td>0.99700</td>\n",
       "      <td>3.26</td>\n",
       "      <td>0.65</td>\n",
       "      <td>9.8</td>\n",
       "      <td>5</td>\n",
       "    </tr>\n",
       "    <tr>\n",
       "      <th>3</th>\n",
       "      <td>11.2</td>\n",
       "      <td>0.280</td>\n",
       "      <td>0.56</td>\n",
       "      <td>1.9</td>\n",
       "      <td>0.075</td>\n",
       "      <td>17.0</td>\n",
       "      <td>60.0</td>\n",
       "      <td>0.99800</td>\n",
       "      <td>3.16</td>\n",
       "      <td>0.58</td>\n",
       "      <td>9.8</td>\n",
       "      <td>6</td>\n",
       "    </tr>\n",
       "    <tr>\n",
       "      <th>4</th>\n",
       "      <td>7.4</td>\n",
       "      <td>0.700</td>\n",
       "      <td>0.00</td>\n",
       "      <td>1.9</td>\n",
       "      <td>0.076</td>\n",
       "      <td>11.0</td>\n",
       "      <td>34.0</td>\n",
       "      <td>0.99780</td>\n",
       "      <td>3.51</td>\n",
       "      <td>0.56</td>\n",
       "      <td>9.4</td>\n",
       "      <td>5</td>\n",
       "    </tr>\n",
       "    <tr>\n",
       "      <th>...</th>\n",
       "      <td>...</td>\n",
       "      <td>...</td>\n",
       "      <td>...</td>\n",
       "      <td>...</td>\n",
       "      <td>...</td>\n",
       "      <td>...</td>\n",
       "      <td>...</td>\n",
       "      <td>...</td>\n",
       "      <td>...</td>\n",
       "      <td>...</td>\n",
       "      <td>...</td>\n",
       "      <td>...</td>\n",
       "    </tr>\n",
       "    <tr>\n",
       "      <th>1594</th>\n",
       "      <td>6.2</td>\n",
       "      <td>0.600</td>\n",
       "      <td>0.08</td>\n",
       "      <td>2.0</td>\n",
       "      <td>0.090</td>\n",
       "      <td>32.0</td>\n",
       "      <td>44.0</td>\n",
       "      <td>0.99490</td>\n",
       "      <td>3.45</td>\n",
       "      <td>0.58</td>\n",
       "      <td>10.5</td>\n",
       "      <td>5</td>\n",
       "    </tr>\n",
       "    <tr>\n",
       "      <th>1595</th>\n",
       "      <td>5.9</td>\n",
       "      <td>0.550</td>\n",
       "      <td>0.10</td>\n",
       "      <td>2.2</td>\n",
       "      <td>0.062</td>\n",
       "      <td>39.0</td>\n",
       "      <td>51.0</td>\n",
       "      <td>0.99512</td>\n",
       "      <td>3.52</td>\n",
       "      <td>0.76</td>\n",
       "      <td>11.2</td>\n",
       "      <td>6</td>\n",
       "    </tr>\n",
       "    <tr>\n",
       "      <th>1596</th>\n",
       "      <td>6.3</td>\n",
       "      <td>0.510</td>\n",
       "      <td>0.13</td>\n",
       "      <td>2.3</td>\n",
       "      <td>0.076</td>\n",
       "      <td>29.0</td>\n",
       "      <td>40.0</td>\n",
       "      <td>0.99574</td>\n",
       "      <td>3.42</td>\n",
       "      <td>0.75</td>\n",
       "      <td>11.0</td>\n",
       "      <td>6</td>\n",
       "    </tr>\n",
       "    <tr>\n",
       "      <th>1597</th>\n",
       "      <td>5.9</td>\n",
       "      <td>0.645</td>\n",
       "      <td>0.12</td>\n",
       "      <td>2.0</td>\n",
       "      <td>0.075</td>\n",
       "      <td>32.0</td>\n",
       "      <td>44.0</td>\n",
       "      <td>0.99547</td>\n",
       "      <td>3.57</td>\n",
       "      <td>0.71</td>\n",
       "      <td>10.2</td>\n",
       "      <td>5</td>\n",
       "    </tr>\n",
       "    <tr>\n",
       "      <th>1598</th>\n",
       "      <td>6.0</td>\n",
       "      <td>0.310</td>\n",
       "      <td>0.47</td>\n",
       "      <td>3.6</td>\n",
       "      <td>0.067</td>\n",
       "      <td>18.0</td>\n",
       "      <td>42.0</td>\n",
       "      <td>0.99549</td>\n",
       "      <td>3.39</td>\n",
       "      <td>0.66</td>\n",
       "      <td>11.0</td>\n",
       "      <td>6</td>\n",
       "    </tr>\n",
       "  </tbody>\n",
       "</table>\n",
       "<p>1599 rows × 12 columns</p>\n",
       "</div>"
      ],
      "text/plain": [
       "      fixed acidity  volatile acidity  citric acid  residual sugar  chlorides  \\\n",
       "0               7.4             0.700         0.00             1.9      0.076   \n",
       "1               7.8             0.880         0.00             2.6      0.098   \n",
       "2               7.8             0.760         0.04             2.3      0.092   \n",
       "3              11.2             0.280         0.56             1.9      0.075   \n",
       "4               7.4             0.700         0.00             1.9      0.076   \n",
       "...             ...               ...          ...             ...        ...   \n",
       "1594            6.2             0.600         0.08             2.0      0.090   \n",
       "1595            5.9             0.550         0.10             2.2      0.062   \n",
       "1596            6.3             0.510         0.13             2.3      0.076   \n",
       "1597            5.9             0.645         0.12             2.0      0.075   \n",
       "1598            6.0             0.310         0.47             3.6      0.067   \n",
       "\n",
       "      free sulfur dioxide  total sulfur dioxide  density    pH  sulphates  \\\n",
       "0                    11.0                  34.0  0.99780  3.51       0.56   \n",
       "1                    25.0                  67.0  0.99680  3.20       0.68   \n",
       "2                    15.0                  54.0  0.99700  3.26       0.65   \n",
       "3                    17.0                  60.0  0.99800  3.16       0.58   \n",
       "4                    11.0                  34.0  0.99780  3.51       0.56   \n",
       "...                   ...                   ...      ...   ...        ...   \n",
       "1594                 32.0                  44.0  0.99490  3.45       0.58   \n",
       "1595                 39.0                  51.0  0.99512  3.52       0.76   \n",
       "1596                 29.0                  40.0  0.99574  3.42       0.75   \n",
       "1597                 32.0                  44.0  0.99547  3.57       0.71   \n",
       "1598                 18.0                  42.0  0.99549  3.39       0.66   \n",
       "\n",
       "      alcohol  quality  \n",
       "0         9.4        5  \n",
       "1         9.8        5  \n",
       "2         9.8        5  \n",
       "3         9.8        6  \n",
       "4         9.4        5  \n",
       "...       ...      ...  \n",
       "1594     10.5        5  \n",
       "1595     11.2        6  \n",
       "1596     11.0        6  \n",
       "1597     10.2        5  \n",
       "1598     11.0        6  \n",
       "\n",
       "[1599 rows x 12 columns]"
      ]
     },
     "execution_count": 28,
     "metadata": {},
     "output_type": "execute_result"
    }
   ],
   "source": [
    "import pandas as pd\n",
    "\n",
    "pd.read_csv(url,delimiter = \";\")"
   ]
  },
  {
   "cell_type": "markdown",
   "id": "informed-intention",
   "metadata": {},
   "source": [
    "DICA = Procure por nan e substitua por 0 (dica: is_nan e nan_to_num)"
   ]
  },
  {
   "cell_type": "markdown",
   "id": "dental-comparison",
   "metadata": {},
   "source": [
    "https://numpy.org/devdocs/user/basics.io.genfromtxt.html\n",
    "1) Verifique a url e veja quais são as colunas do arquivo\n",
    "2) Veja qual é o delimiter do arquivo ',' , ':', ';'\n",
    "3) Selecione as colunas (param usecols) Citric Acid, PH e  Alcohol\n",
    "4) Mostre o array e as caracteristicas dele ndim, shape, dtype\n",
    "5) Procure o maximo e minimo da coluna PH \n",
    "6) Obtenha a media da coluna Alcohol"
   ]
  },
  {
   "cell_type": "code",
   "execution_count": 60,
   "id": "broken-jumping",
   "metadata": {
    "execution": {
     "iopub.execute_input": "2022-06-24T18:13:16.984902Z",
     "iopub.status.busy": "2022-06-24T18:13:16.984476Z",
     "iopub.status.idle": "2022-06-24T18:13:17.001457Z",
     "shell.execute_reply": "2022-06-24T18:13:17.000241Z",
     "shell.execute_reply.started": "2022-06-24T18:13:16.984848Z"
    },
    "tags": []
   },
   "outputs": [
    {
     "name": "stdout",
     "output_type": "stream",
     "text": [
      "[[ 0.    3.51  9.4 ]\n",
      " [ 0.    3.2   9.8 ]\n",
      " [ 0.04  3.26  9.8 ]\n",
      " ...\n",
      " [ 0.13  3.42 11.  ]\n",
      " [ 0.12  3.57 10.2 ]\n",
      " [ 0.47  3.39 11.  ]]\n"
     ]
    }
   ],
   "source": [
    "#Import data\n",
    "wine_arr = np.genfromtxt(url, delimiter=\";\",usecols = (2,8,10),skip_header = 1)\n",
    "\n",
    "# indexes = np.isnan(wine_arr)\n",
    "# wine_arr[(indexes)] = 0\n",
    "\n",
    "print(wine_arr)"
   ]
  },
  {
   "cell_type": "code",
   "execution_count": 33,
   "id": "connected-conspiracy",
   "metadata": {
    "tags": []
   },
   "outputs": [
    {
     "name": "stdout",
     "output_type": "stream",
     "text": [
      "2\n",
      "(1599, 3)\n",
      "float64\n"
     ]
    }
   ],
   "source": [
    "#Show array\n",
    "\n",
    "print(wine_arr.ndim)\n",
    "\n",
    "print(wine_arr.shape)\n",
    "\n",
    "print(wine_arr.dtype)\n"
   ]
  },
  {
   "cell_type": "code",
   "execution_count": 62,
   "id": "filled-liechtenstein",
   "metadata": {
    "tags": []
   },
   "outputs": [
    {
     "name": "stdout",
     "output_type": "stream",
     "text": [
      "Mínimo: 2.74 | Máximo: 4.01\n"
     ]
    }
   ],
   "source": [
    "#Max e Min\n",
    "\n",
    "maximo = wine_arr.max(axis = 0)[1]\n",
    "\n",
    "minimo = wine_arr.min(axis = 0)[1]\n",
    "\n",
    "print(f\"Mínimo: {minimo} | Máximo: {maximo}\")\n"
   ]
  },
  {
   "cell_type": "code",
   "execution_count": 64,
   "id": "scientific-spirit",
   "metadata": {
    "execution": {
     "iopub.execute_input": "2022-06-24T18:18:22.400093Z",
     "iopub.status.busy": "2022-06-24T18:18:22.399795Z",
     "iopub.status.idle": "2022-06-24T18:18:22.405591Z",
     "shell.execute_reply": "2022-06-24T18:18:22.404144Z",
     "shell.execute_reply.started": "2022-06-24T18:18:22.400065Z"
    },
    "tags": []
   },
   "outputs": [
    {
     "name": "stdout",
     "output_type": "stream",
     "text": [
      "Média Alcohol: 10.42%\n"
     ]
    }
   ],
   "source": [
    "#Media coluna Alcohol\n",
    "\n",
    "media = wine_arr.mean(axis = 0)[2]\n",
    "print(f\"Média Alcohol: {media:.2f}%\")"
   ]
  },
  {
   "cell_type": "markdown",
   "id": "colonial-irish",
   "metadata": {},
   "source": [
    "#### Extra"
   ]
  },
  {
   "cell_type": "markdown",
   "id": "russian-entertainment",
   "metadata": {},
   "source": [
    "1) Faça um for loop que itere por todos os elementos de uma array de 3 dimensões"
   ]
  },
  {
   "cell_type": "code",
   "execution_count": 77,
   "id": "framed-processing",
   "metadata": {
    "execution": {
     "iopub.execute_input": "2022-06-24T17:50:43.129777Z",
     "iopub.status.busy": "2022-06-24T17:50:43.129346Z",
     "iopub.status.idle": "2022-06-24T17:50:43.150465Z",
     "shell.execute_reply": "2022-06-24T17:50:43.147653Z",
     "shell.execute_reply.started": "2022-06-24T17:50:43.129751Z"
    },
    "tags": []
   },
   "outputs": [
    {
     "name": "stdout",
     "output_type": "stream",
     "text": [
      "[[[37 12]\n",
      "  [72  9]]\n",
      "\n",
      " [[75  5]\n",
      "  [79 64]]\n",
      "\n",
      " [[16  1]\n",
      "  [76 71]]]\n",
      "[0, 0, 0] -> 37\n",
      "[0, 0, 1] -> 12\n",
      "[0, 1, 0] -> 72\n",
      "[0, 1, 1] -> 9\n",
      "[1, 0, 0] -> 75\n",
      "[1, 0, 1] -> 5\n",
      "[1, 1, 0] -> 79\n",
      "[1, 1, 1] -> 64\n",
      "[2, 0, 0] -> 16\n",
      "[2, 0, 1] -> 1\n",
      "[2, 1, 0] -> 76\n",
      "[2, 1, 1] -> 71\n"
     ]
    }
   ],
   "source": [
    "np.random.seed(1)\n",
    "arr = np.random.randint(0,100,(3,2,2))\n",
    "\n",
    "print(arr)\n",
    "\n",
    "for index_i,i in enumerate(arr):\n",
    "    for index_j,j in enumerate(i):\n",
    "        for index_k,k in enumerate(j):\n",
    "            print(f\"[{index_i}, {index_j}, {index_k}] -> {k}\")\n"
   ]
  }
 ],
 "metadata": {
  "kernelspec": {
   "display_name": "Python 3.6.13 ('dsfs')",
   "language": "python",
   "name": "python3"
  },
  "language_info": {
   "codemirror_mode": {
    "name": "ipython",
    "version": 3
   },
   "file_extension": ".py",
   "mimetype": "text/x-python",
   "name": "python",
   "nbconvert_exporter": "python",
   "pygments_lexer": "ipython3",
   "version": "3.6.13"
  },
  "vscode": {
   "interpreter": {
    "hash": "76598fc9c6bb65fd476139221b204b3eabf86e849c6757e508689cac37d36b9f"
   }
  }
 },
 "nbformat": 4,
 "nbformat_minor": 5
}
