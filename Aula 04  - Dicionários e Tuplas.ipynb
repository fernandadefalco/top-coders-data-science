{
 "cells": [
  {
   "cell_type": "markdown",
   "metadata": {},
   "source": [
    "## 🎯 Exercícios 🎯 <a class=\"anchor\" id=\"quatro\"></a>\n",
    "\n",
    "**1)** Escreva uma função que conta a quantidade de vogais em um texto e armazena tal quantidade em um dicionário, onde a chave é a vogal considerada."
   ]
  },
  {
   "cell_type": "code",
   "execution_count": 5,
   "metadata": {},
   "outputs": [
    {
     "data": {
      "text/plain": [
       "{'A': 2, 'E': 2, 'I': 1, 'O': 2, 'U': 3}"
      ]
     },
     "execution_count": 5,
     "metadata": {},
     "output_type": "execute_result"
    }
   ],
   "source": [
    "def qtdeVogais(texto):\n",
    "    dicionario = {'A': 0, 'E':0, 'I':0, 'O':0, 'U':0}\n",
    "    vogais = ['A','E','I','O','U']\n",
    "    for i in range(0,len(texto)):\n",
    "         for j in vogais:   \n",
    "            if texto[i] == j:\n",
    "                dicionario[j] += 1\n",
    "    return dicionario\n",
    "\n",
    "texto = input(\"Insira um texto: \").upper()\n",
    "qtdeVogais(texto)"
   ]
  },
  {
   "cell_type": "markdown",
   "metadata": {},
   "source": [
    "**2)** Escreva um programa que lê duas notas de vários alunos e armazena tais notas em um dicionário, onde a chave é o nome\n",
    "do aluno. A entrada de dados deve terminar quando for lida uma string vazia como nome. Escreva uma função que retorna a média do aluno, dado seu nome. "
   ]
  },
  {
   "cell_type": "code",
   "execution_count": 13,
   "metadata": {},
   "outputs": [
    {
     "data": {
      "text/plain": [
       "' A média de Fernanda é 6.3'"
      ]
     },
     "execution_count": 13,
     "metadata": {},
     "output_type": "execute_result"
    }
   ],
   "source": [
    "def mediaAluno (dicionario,nome):\n",
    "    return (f\" A média de {nome} é {sum(dicionario[nome])/len(dicionario[nome])}\")\n",
    "\n",
    "qtde_alunos = int(input(\"Insira uma quantidade de alunos: \"))\n",
    "dicionario = {}\n",
    "lista_notas = []\n",
    "for i in range (0,qtde_alunos):\n",
    "    nome = input(\"Insira o nome do aluno: \")\n",
    "    nota1 = float(input(\"Insira a primeira nota do aluno: \"))\n",
    "    nota2 = float(input(\"Insira a segunda nota do aluno: \"))\n",
    "    lista_notas.extend([nota1,nota2])\n",
    "    dicionario[nome] = lista_notas\n",
    "    lista_notas = []\n",
    "\n",
    "aluno = input(\"Insira o nome de um aluno: \")\n",
    "mediaAluno(dicionario,aluno)"
   ]
  },
  {
   "cell_type": "markdown",
   "metadata": {},
   "source": [
    "**3)** Uma pista de Kart permite 10 voltas para cada um de 6 corredores. Escreva um programa que leia todos os tempos\n",
    "em segundos e os guarde em um dicionário, onde a chave é o nome do corredor. Ao final diga de quem foi a melhor volta da\n",
    "prova e em que volta; e ainda a classificação final em ordem. O campeão é o que tem a menor média de\n",
    "tempos. (Para facilitar use listas no código e não trabalhe com _input_).\n",
    "\n",
    "Dica: Para ordenar uma lista bidimensional usem o paramêtro \"key= lambda x: x[<i>index referência</i>]\" no método de sort."
   ]
  },
  {
   "cell_type": "code",
   "execution_count": 42,
   "metadata": {},
   "outputs": [
    {
     "name": "stdout",
     "output_type": "stream",
     "text": [
      "O tempo mínimo é 84s, do corredor4, na volta 10.\n"
     ]
    },
    {
     "data": {
      "text/plain": [
       "[('corredor4', 129.9),\n",
       " ('corredor5', 136.2),\n",
       " ('corredor6', 138.8),\n",
       " ('corredor1', 142.6),\n",
       " ('corredor3', 148.5),\n",
       " ('corredor2', 154.4)]"
      ]
     },
     "execution_count": 42,
     "metadata": {},
     "output_type": "execute_result"
    }
   ],
   "source": [
    "tempos = {\n",
    "    \"corredor1\": [120, 147, 133, 190, 120, 110, 128, 118, 170, 190],\n",
    "    \"corredor2\": [150, 197, 121, 190, 150, 130, 128, 118, 170, 190],\n",
    "    \"corredor3\": [150, 123, 146, 190, 150, 130, 128, 118, 170, 180],\n",
    "    \"corredor4\": [110, 102, 167, 190, 120, 110, 128, 118, 170, 84],\n",
    "    \"corredor5\": [130, 121, 174, 190, 120, 112, 128, 118, 170, 99],\n",
    "    \"corredor6\": [135, 111, 176, 190, 120, 110, 128, 118, 170, 130],\n",
    "}\n",
    "\n",
    "minimo = min(tempos[\"corredor1\"])\n",
    "for i in range(1,len(tempos)+1):\n",
    "    if min(tempos[\"corredor\"+str(i)]) < minimo:\n",
    "            minimo = min(tempos[\"corredor\"+str(i)])\n",
    "            corredor_min = \"corredor\"+str(i)\n",
    "            volta = tempos[\"corredor\"+str(i)].index(minimo)+1\n",
    "\n",
    "print(f\"O tempo mínimo é {minimo}s, do {corredor_min}, na volta {volta}.\")\n",
    "\n",
    "dic_melhor_tempo={}\n",
    "for i in range(1,len(tempos)+1):\n",
    "    dic_melhor_tempo.update({\"corredor\"+str(i):(sum(tempos[\"corredor\"+str(i)])/len(tempos[\"corredor\"+str(i)]))})\n",
    "\n",
    "sorted(dic_melhor_tempo.items(), key = lambda x: [x[1], x[0]])"
   ]
  },
  {
   "cell_type": "markdown",
   "metadata": {},
   "source": [
    "**4)** Escreva um programa para armazenar uma agenda de telefones em um dicionário. Cada pessoa pode ter um ou mais telefones e a chave do dicionário é o nome da pessoa. Seu programa deve ter as seguintes funções:\n",
    "- incluirNovoNome: essa função acrescenta um novo nome na agenda, com um ou mais telefones. Ela deve receber como argumentos o nome e os telefones.\n",
    "- incluirTelefone: essa função acrescenta um telefone em um nome existente na agenda. Caso o nome não exista na agenda, você deve perguntar se a pessoa deseja incluí-lo. Caso a resposta seja afirmativa, use a função anterior para incluir o novo nome.\n",
    "- excluirTelefone: essa função exclui um telefone de uma pessoa que já está na agenda. Se a pessoa tiver apenas um telefone, ela deve ser excluída da agenda.\n",
    "- excluirNome: essa função exclui uma pessoa da agenda.\n",
    "- consultarTelefone – essa função retorna os telefones de uma pessoa na agenda. "
   ]
  },
  {
   "cell_type": "code",
   "execution_count": 93,
   "metadata": {},
   "outputs": [
    {
     "name": "stdout",
     "output_type": "stream",
     "text": [
      "------ Agenda de Telefones ------\n",
      "            Escolha uma opção:\n",
      "                1. Incluir novo nome na agenda\n",
      "                2. Incluir telefone\n",
      "                3. Excluir telefone\n",
      "                4. Excluir nome\n",
      "                5. Consultar telefone\n",
      "                6. Sair\n",
      "\n",
      "{'Fernanda': ['243643634']}\n",
      "['243643634']\n",
      "{'Fernanda': ['243643634'], 'Marcio': ['43435325']}\n",
      "Fim do programa\n"
     ]
    }
   ],
   "source": [
    "def incluirNovoNome (agenda,nome, telefone):\n",
    "    while nome in list(agenda.keys()):\n",
    "        return \"Nome já existe na agenda\"\n",
    "    agenda.update({nome:[telefone]})\n",
    "    return agenda\n",
    "\n",
    "def incluirTelefone (agenda,nome,telefone):\n",
    "    if nome not in list(agenda.keys()):\n",
    "        validacao = input(\"Nome não encontrado, deseja incluí-lo na lista? (S/N): \").upper()\n",
    "        if validacao == \"S\":\n",
    "           incluirNovoNome(agenda,nome,telefone)\n",
    "           return agenda\n",
    "        else: return \"Contato não adicionado\"\n",
    "    else:\n",
    "       agenda[nome].append(telefone)\n",
    "       return agenda\n",
    "\n",
    "def excluirTelefone(agenda,nome,telefone):\n",
    "    while nome not in list(agenda.keys()):\n",
    "        return \"Nome não existe na agenda\"\n",
    "\n",
    "    if telefone not in agenda[nome]:\n",
    "            return \"Número inválido\"\n",
    "\n",
    "    else:\n",
    "        if len(agenda[nome]) == 1:\n",
    "            agenda.pop(nome)\n",
    "            return agenda\n",
    "        else:\n",
    "            (agenda[nome]).remove(telefone)\n",
    "            return agenda\n",
    "\n",
    "def excluirNome(agenda,nome):\n",
    "    while nome not in list(agenda.keys()):\n",
    "        return \"Nome não existe na agenda\"\n",
    "    agenda.pop(nome)\n",
    "    return agenda\n",
    "\n",
    "def consultarTelefone(agenda,nome):\n",
    "    while nome not in list(agenda.keys()):\n",
    "        return \"Nome não existe na agenda\"\n",
    "    return agenda[nome]\n",
    "\n",
    "agenda ={}\n",
    "def menu(opcao):\n",
    "    if opcao == 1:\n",
    "        nome = input(\"Insira o nome do contato: \")\n",
    "        telefone = input(\"Insira o telefone: \")\n",
    "        resposta = incluirNovoNome (agenda,nome,telefone)\n",
    "    elif opcao == 2:\n",
    "        nome = input(\"Insira o nome do contato: \")\n",
    "        telefone = input(\"Insira o telefone: \")\n",
    "        resposta =  incluirTelefone(agenda,nome,telefone)\n",
    "    elif opcao == 3:\n",
    "        nome = input(\"Insira o nome do contato: \")\n",
    "        telefone = input(\"Insira o telefone: \")\n",
    "        resposta = excluirTelefone(agenda,nome,telefone)\n",
    "    elif opcao == 4:\n",
    "        nome = input(\"Insira o nome do contato: \")\n",
    "        resposta = excluirNome(agenda,nome)\n",
    "    elif opcao == 5:\n",
    "        nome = input(\"Insira o nome do contato: \")\n",
    "        resposta = consultarTelefone(agenda,nome)\n",
    "    else:\n",
    "        resposta = \"Fim do programa\"\n",
    "    print(resposta)\n",
    "    \n",
    "print('''------ Agenda de Telefones ------\n",
    "            Escolha uma opção:\n",
    "                1. Incluir novo nome na agenda\n",
    "                2. Incluir telefone\n",
    "                3. Excluir telefone\n",
    "                4. Excluir nome\n",
    "                5. Consultar telefone\n",
    "                6. Sair\n",
    "''')\n",
    "\n",
    "opcao = 1\n",
    "\n",
    "while opcao != 6:\n",
    "    while opcao not in range(1,7):\n",
    "        opcao = int(input(\"Opção inválida, digite novamente a opção escolhida: \"))\n",
    "    opcao = int(input(\"Digite a opção escolhida: \"))\n",
    "    menu(opcao)\n",
    "\n",
    "\n"
   ]
  }
 ],
 "metadata": {
  "interpreter": {
   "hash": "8c8fc2e0ba7427c85b89a036e5ebd06d6d068590f5141f2ce1bbe7a31f46c41e"
  },
  "kernelspec": {
   "display_name": "Python 3.8.5 ('base')",
   "language": "python",
   "name": "python3"
  },
  "language_info": {
   "codemirror_mode": {
    "name": "ipython",
    "version": 3
   },
   "file_extension": ".py",
   "mimetype": "text/x-python",
   "name": "python",
   "nbconvert_exporter": "python",
   "pygments_lexer": "ipython3",
   "version": "3.8.5"
  }
 },
 "nbformat": 4,
 "nbformat_minor": 4
}
