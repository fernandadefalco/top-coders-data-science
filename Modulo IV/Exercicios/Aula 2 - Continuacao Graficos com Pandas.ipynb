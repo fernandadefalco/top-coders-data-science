{
 "cells": [
  {
   "cell_type": "markdown",
   "id": "de0fac3c",
   "metadata": {},
   "source": [
    "# Módulo 2 - Técnicas de Programação II\n",
    "## Aula 2\n",
    "- Gráficos com Pandas\n",
    "- EDA (Exploratory Data Analysis)\n",
    "- Exercícios"
   ]
  },
  {
   "cell_type": "markdown",
   "id": "cf8dade5",
   "metadata": {},
   "source": [
    "### Introdução\n",
    "\n",
    "Gráficos são representações visuais dos dados, que buscam facilitar o entendimento dos mesmos. Podem ser muito úteis na identificação de variáveis importantes para uma modelagem ou tomada de decisão.\n",
    "\n",
    "\n",
    "**Tipos de gráficos mais usuais:**\n",
    "- **Scatter plot (ou gráfico de dispersão):**\n",
    "Dadas duas variáveis X e Y, cada observação (par de valores (x,y)) é representado por um ponto no gráfico. Na imagem abaixo, uma observação (x,y) = (4,5) é representada pelo X vermelho.\n",
    "<img src=\"./images/img_scatterplot_editada.png\" alt=\"Drawing\" style=\"width: 500px;\"/>\n",
    "\n",
    "- **Gráfico de linhas:**\n",
    "O gráfico de linhas é muito utilizado quando estamos querendo encontrar tendências de um conjunto de variáveis. No geral, a variável alocada no eixo horizontal representa categorias ordinais, geralmente temporais (como por exemplo: meses, anos, dias, semanas, lotes em ordem de fabricação etc). Para construí-lo, primeiro aplica-se um gráfico de dispersão dessas variáveis, e depois unem-se os pontos por linhas, como mostra a imagem abaixo. Podemos imaginar que cada categoria é um lote de produção de uma mercadoria (em que o lote 1 foi produzido antes do lote 2, e assim por diante), e no eixo vertical, têm se a quantidade vendida de cada lote. Ainda, há 3 séries representadas por cores, que podem representar, por exemplo, três clientes diferentes que adquiriram as mercadorias.\n",
    "<img src=\"./images/grafico_linhas.jpg\" alt=\"Drawing\" style=\"width: 500px;\"/>\n",
    "\n",
    "- **Gráfico de pizza/Pie plot (ou gráfico de setores):**\n",
    "Este gráfico tem como objetivo representar um valor relativo de cada categoria em relação a um todo. Exemplo: de todo o lucro de uma empresa revendedora de aparelhos celular, quantos porcento são relativos a cada marca de produto comercializado.\n",
    "<img src=\"./images/grafico_pizza.png\" alt=\"Drawing\" style=\"width: 400px;\"/>\n",
    "\n",
    "- **Gráfico de barras (horizontal e vertical):**\n",
    "Um gráfico de barras é uma forma de visualização de dados categóricos, em que cada categoria é representada por uma barra, cujo tamanho representa sua frequência/quantidade de observações. Pode ser representado de forma vertical (conhecido também como gráfico de colunas) ou de forma horizontal (em que o gráfico parece \"deitado\". No exemplo abaixo, o mesmo conjunto de dados é representado das duas formas. \n",
    "\n",
    "Observação: Aqui, os valores \"1\", \"2\" e \"3\" das barras representam categorias, e não uma variável contínua.\n",
    "<img src=\"./images/grafico_barras.png\" alt=\"Drawing\" style=\"width: 500px;\"/>\n",
    "\n",
    "- **Histograma:** \n",
    "Um histograma é muito parecido com um gráfico de barras, e possui a mesma ideia: cada coluna representa uma frequência/quantidade. Entretanto, o eixo horizontal deste tipo de gráfico é uma variável contínua, e a ideia é observar a distribuição das observações desta variável. Exemplos de perguntas que podemos estar tentando responder ao analisar esse tipo de gráfico, são: \"quais são os valores mais frequentes nessa variável contínua?\" e \"Qual a probabilidade de uma nova observação ter determinado valor?\"\n",
    "\n",
    "Para se construir as barras deste gráfico, a variável contínua é agrupada em intervalos, e o tamanho da barra representa o número de observações que possuem valores dentro deste intervalo. É comum encontrar histogramas com um traço linear ligando o topo dessas barras pelo meio, de forma a facilitar a identificação de uma distribuição estatística.\n",
    "<img src=\"./images/histograma.png\" alt=\"Drawing\" style=\"width: 500px;\"/>\n",
    "\n",
    "- **Box-Plot:**\n",
    "Os box-plot, assim como os histogramas, são gráficos estatísticos que permitem analisar uma distribuição dos dados, mas com uma representação diferente. Apesar de muito utilizados por estatísticos e cientistas de dados, a maioria das pessoas que não estão acostumadas a eles, têm dificuldade em interpretá-los. \n",
    "\n",
    "A representação do box-plot se baseia em medidas de quartis: uma caixinha central é desenhada ligando o primeiro (Q1) e terceiro (Q3) quartis (25% e 75%, respectivamente), e uma reta corta essa 'caixa' no quartil central (Q2 = 50%). Na parte inferior e superior do gráfico, é traçada uma reta de tamanho máximo 1.5xIQ, em que IQ = Q3-Q1. Essa reta é traçada até o último valor da variável que ainda esteja dentro desse limite. Observações acima ou abaixo dele, são representadas por bolinhas, e muito chamadas de 'outliers' (valor atípico). Abaixo, uma representação dos componentes de um box-plot, e um gráfico exibindo box-plots das distribuições de temperaturas de diferentes cidades.\n",
    "<img src=\"./images/boxplot2.png\" alt=\"Drawing\" style=\"width: 500px;\"/>\n",
    "<img src=\"./images/boxplot.png\" alt=\"Drawing\" style=\"width: 500px;\"/>"
   ]
  },
  {
   "cell_type": "markdown",
   "id": "d91605b1",
   "metadata": {},
   "source": [
    "## Gráficos com pandas\n",
    "\n",
    "A biblioteca pandas, que estudamos no módulo 3, permite realizar alguns gráficos simples, baseados na biblioteca matplotlib. Vamos aprender a aplicá-los utilizando a base de dados do titanic como exemplo.  \n",
    "\n",
    "**Documentação:** https://pandas.pydata.org/docs/reference/api/pandas.DataFrame.plot.html"
   ]
  },
  {
   "cell_type": "code",
   "execution_count": null,
   "id": "c15eaa8b",
   "metadata": {},
   "outputs": [],
   "source": [
    "import pandas as pd\n",
    "import numpy as np\n",
    "\n",
    "df_size = pd.read_csv('./data/penguins_size.csv')"
   ]
  },
  {
   "cell_type": "code",
   "execution_count": null,
   "id": "d11b8cf0",
   "metadata": {},
   "outputs": [],
   "source": [
    "df_size.head()"
   ]
  },
  {
   "cell_type": "markdown",
   "id": "47b5af03",
   "metadata": {},
   "source": [
    "## Histograma"
   ]
  },
  {
   "cell_type": "code",
   "execution_count": null,
   "id": "4da5d305",
   "metadata": {},
   "outputs": [],
   "source": [
    "ax_hist = df_size.plot(y='culmen_length_mm', kind='hist');"
   ]
  },
  {
   "cell_type": "markdown",
   "id": "c1dc6b3a",
   "metadata": {},
   "source": [
    "Parâmetro bins"
   ]
  },
  {
   "cell_type": "code",
   "execution_count": null,
   "id": "97deb94d",
   "metadata": {},
   "outputs": [],
   "source": [
    "ax_hist = df_size.plot(y='culmen_length_mm', kind='hist', bins=20);"
   ]
  },
  {
   "cell_type": "code",
   "execution_count": null,
   "id": "66c26be4",
   "metadata": {},
   "outputs": [],
   "source": [
    "ax_hist = df_size.plot(y='body_mass_g', kind='hist', bins=10, figsize=(12, 6));"
   ]
  },
  {
   "cell_type": "code",
   "execution_count": null,
   "id": "fbf0b2cf",
   "metadata": {
    "scrolled": false
   },
   "outputs": [],
   "source": [
    "ax_hist = df_size.plot(y='body_mass_g', kind='hist', bins=30);\n",
    "ax_hist.set_xlabel('Massa dos Pinguins', fontsize=15);"
   ]
  },
  {
   "cell_type": "markdown",
   "id": "88db82af",
   "metadata": {},
   "source": [
    "## Boxplot"
   ]
  },
  {
   "cell_type": "code",
   "execution_count": null,
   "id": "adf8d516",
   "metadata": {},
   "outputs": [],
   "source": [
    "df_size.plot(y='culmen_depth_mm', kind='box');"
   ]
  },
  {
   "cell_type": "code",
   "execution_count": null,
   "id": "8af970e3",
   "metadata": {},
   "outputs": [],
   "source": [
    "df_size.plot(y='culmen_depth_mm', kind='box', vert=False);"
   ]
  },
  {
   "cell_type": "markdown",
   "id": "3668fd2b",
   "metadata": {},
   "source": [
    "## Exemplo de EDA com Pandas\n",
    "Para exemplificar o processo de Análise Exploratória de Dados utilizaremos um survey respondido por profissionais de TI da União Europeia, com informações pessoais como idade, gênero, cidade e também relacionadas às respectivas carreiras como posição na empresa, anos de experiência."
   ]
  },
  {
   "cell_type": "code",
   "execution_count": null,
   "id": "949295ea",
   "metadata": {
    "scrolled": true
   },
   "outputs": [],
   "source": [
    "df_salary = pd.read_excel('./data/IT_Salary_Survey_EU_2020.xlsx')\n",
    "df_salary.head()"
   ]
  },
  {
   "cell_type": "code",
   "execution_count": null,
   "id": "828c59b8",
   "metadata": {},
   "outputs": [],
   "source": [
    "df_salary.info()"
   ]
  },
  {
   "cell_type": "code",
   "execution_count": null,
   "id": "799db05a",
   "metadata": {},
   "outputs": [],
   "source": [
    "df_salary.describe()"
   ]
  },
  {
   "cell_type": "markdown",
   "id": "4aa4ed89",
   "metadata": {},
   "source": [
    "### Outliers\n",
    "É muito comum utilizarmos os **boxplot** para plotarmos variáveis contínuas e assim verificarmos se há outliers entre os valores. No dataset de estudo verificaremos as variáveis de Idade, Anos de Experiência, Salário anual e Dias de férias. "
   ]
  },
  {
   "cell_type": "code",
   "execution_count": null,
   "id": "ce739cd4",
   "metadata": {
    "scrolled": false
   },
   "outputs": [],
   "source": [
    "ax1 = df_salary.plot(y='Age', kind='box')\n",
    "ax2 = df_salary.plot(y='Yearly salary', kind='box')\n",
    "ax3 = df_salary.plot(y='Years of experience', kind='box')\n",
    "ax4 = df_salary.plot(y='Vacation days', kind='box')"
   ]
  },
  {
   "cell_type": "markdown",
   "id": "647de4c4",
   "metadata": {},
   "source": [
    "### Função para retirada dos outliers\n",
    "Com os gráficos acima foi possível identificar valores outliers. Estes registros podem ser tratados de diversas formas como, por exemplo:\n",
    "- Substituição pela média\n",
    "- Substituição pela mediana\n",
    "- Substituição pelo valor mais frequente (moda)\n",
    "- Exclusão\n",
    "\n",
    "  \n",
    "Para simplificarmos as análises estes valores serão excluídos. Como visto no módulo anterior, para aplicar o mesmo tratamento a diversos campos, utilizamos as funções.  \n",
    "A função abaixo identifica os valores acima fora dos limites do boxplot e exclui o registro."
   ]
  },
  {
   "cell_type": "code",
   "execution_count": null,
   "id": "b7bf698c",
   "metadata": {
    "scrolled": true
   },
   "outputs": [],
   "source": [
    "def outliers(dataframe, column):\n",
    "    Q1 = dataframe[column].quantile(0.25)\n",
    "    Q3 = dataframe[column].quantile(0.75)\n",
    "    IQR = Q3 - Q1\n",
    "    lower_boundary = Q1 - 1.5 * IQR\n",
    "    upper_boundary = Q3 + 1.5 * IQR\n",
    "    df_new = dataframe.loc[(dataframe[column] >= lower_boundary) & (dataframe[column] <= upper_boundary)]\n",
    "    return df_new"
   ]
  },
  {
   "cell_type": "markdown",
   "id": "6103d546",
   "metadata": {},
   "source": [
    "Aplicação da função aos campos nos quais identificamos outliers"
   ]
  },
  {
   "cell_type": "code",
   "execution_count": null,
   "id": "0ed8e35e",
   "metadata": {},
   "outputs": [],
   "source": [
    "age = outliers(df_salary, 'Age')\n",
    "experience = outliers(age, 'Years of experience')\n",
    "salary = outliers(experience, 'Yearly salary')\n",
    "df_tratado = outliers(salary, 'Vacation days')"
   ]
  },
  {
   "cell_type": "markdown",
   "id": "4425935a",
   "metadata": {},
   "source": [
    "Com isso é possível continuarmos as análises **sem outliers**."
   ]
  },
  {
   "cell_type": "code",
   "execution_count": null,
   "id": "2f014d14",
   "metadata": {},
   "outputs": [],
   "source": [
    "df_tratado.head()"
   ]
  },
  {
   "cell_type": "markdown",
   "id": "7839279c",
   "metadata": {},
   "source": [
    "### Visão da experiência por salário\n",
    "Distribuição dos salários por anos de experiência dos colaboradores que responderam ao survey."
   ]
  },
  {
   "cell_type": "code",
   "execution_count": null,
   "id": "2f2327a5",
   "metadata": {},
   "outputs": [],
   "source": [
    "df_tratado['Seniority level'].value_counts()"
   ]
  },
  {
   "cell_type": "code",
   "execution_count": null,
   "id": "007efd1f",
   "metadata": {},
   "outputs": [],
   "source": [
    "df_tratado.plot(x='Years of experience', y='Yearly salary', kind='scatter');"
   ]
  },
  {
   "cell_type": "code",
   "execution_count": null,
   "id": "b2240308",
   "metadata": {},
   "outputs": [],
   "source": [
    "df_tratado.plot(x='Years of experience', y='Yearly salary', kind='scatter', title='Relação entre anos de experiência e salário', ylabel='Salário Anual', xlabel='Anos de experiência');"
   ]
  },
  {
   "cell_type": "code",
   "execution_count": null,
   "id": "9a0eb018",
   "metadata": {},
   "outputs": [],
   "source": [
    "# Separando enrte homens e mulheres\n",
    "ax1 = df_tratado[df_tratado['Gender']=='Male'].plot(x='Years of experience', y='Yearly salary', kind='scatter', title='Relação entre anos de experiência e salário', color='steelblue')\n",
    "ax2 = df_tratado[df_tratado['Gender']=='Female'].plot(x='Years of experience', y='Yearly salary', kind='scatter', title='Relação entre anos de experiência e salário', color='pink', ax=ax1);"
   ]
  },
  {
   "cell_type": "markdown",
   "id": "83a566dd",
   "metadata": {},
   "source": [
    "### Avaliação das características por idade\n",
    "O gráfico de barras neste caso nos dará uma noção da experiência média de cada colaborador dada sua idade"
   ]
  },
  {
   "cell_type": "code",
   "execution_count": null,
   "id": "5a273aea",
   "metadata": {},
   "outputs": [],
   "source": [
    "df_tratado.pivot_table(index='Age', values='Years of experience', aggfunc='mean').head()"
   ]
  },
  {
   "cell_type": "code",
   "execution_count": null,
   "id": "3f9ac5ca",
   "metadata": {
    "scrolled": true
   },
   "outputs": [],
   "source": [
    "age_experience = df_tratado.pivot_table(index='Age', values='Years of experience', aggfunc='mean')\n",
    "age_experience.plot(kind='bar', figsize=(12,5), color='green', title = 'Anos de experiência por idade', legend=None);"
   ]
  },
  {
   "cell_type": "markdown",
   "id": "c18d1f9a",
   "metadata": {},
   "source": [
    "Também podemos plotar os salários anuais médios de cada faixa etária"
   ]
  },
  {
   "cell_type": "code",
   "execution_count": null,
   "id": "137d02cc",
   "metadata": {},
   "outputs": [],
   "source": [
    "age_salary = df_tratado.pivot_table(index='Age', values='Yearly salary', aggfunc='mean')\n",
    "age_salary.plot(kind='bar', figsize=(12,5), color='red', title = 'Salário anual por idade', legend=None);"
   ]
  },
  {
   "cell_type": "code",
   "execution_count": null,
   "id": "c91496fe",
   "metadata": {},
   "outputs": [],
   "source": [
    "df_tratado.groupby('Position', as_index= False).min().sort_values('Yearly salary', ascending = False).head(15)"
   ]
  },
  {
   "cell_type": "code",
   "execution_count": null,
   "id": "5ad84498",
   "metadata": {},
   "outputs": [],
   "source": [
    "position = df_tratado.groupby('Position', as_index= False).min().sort_values('Yearly salary', ascending = False).head(15)\n",
    "\n",
    "position.plot(kind = 'barh', x = 'Position', y = 'Yearly salary', figsize=(12, 8), title = 'Profissões com maior salario anual', legend=None);"
   ]
  },
  {
   "cell_type": "markdown",
   "id": "57c71ac9",
   "metadata": {},
   "source": [
    "### Distribuição das variáveis categóricas"
   ]
  },
  {
   "cell_type": "code",
   "execution_count": null,
   "id": "ee937179",
   "metadata": {},
   "outputs": [],
   "source": [
    "df_tratado['Gender'].value_counts()"
   ]
  },
  {
   "cell_type": "code",
   "execution_count": null,
   "id": "7becd2b7",
   "metadata": {
    "scrolled": true
   },
   "outputs": [],
   "source": [
    "df_tratado['Gender'].value_counts().plot(kind='pie', autopct='%1.0f%%', legend=True, labeldistance=None);"
   ]
  },
  {
   "cell_type": "markdown",
   "id": "c5bcf56f",
   "metadata": {},
   "source": [
    "O histograma nos mostra uma distribuição de frequência das idades dos colaboradores que responderam ao survey"
   ]
  },
  {
   "cell_type": "code",
   "execution_count": null,
   "id": "4095459c",
   "metadata": {},
   "outputs": [],
   "source": [
    "ax_hist = age.plot(y='Age', kind='hist', figsize=(12,6), alpha=0.6, legend=None, bins=8)\n",
    "ax_hist.set_xlabel('Idade', fontsize=10)\n",
    "ax_hist.set_title('Histograma da idade');"
   ]
  },
  {
   "cell_type": "code",
   "execution_count": null,
   "id": "0584a235",
   "metadata": {},
   "outputs": [],
   "source": [
    "ax_hist = df_tratado.plot(y='Yearly salary', kind='hist', bins=10, figsize=(12,6), alpha=0.6, legend=None)\n",
    "ax_hist.set_xlabel('Salário Anual', fontsize=10)\n",
    "ax_hist.set_title('Histograma da idade');"
   ]
  },
  {
   "cell_type": "code",
   "execution_count": null,
   "id": "cd93db8f",
   "metadata": {},
   "outputs": [],
   "source": [
    "df_tratado.plot(y='Yearly salary', kind='box', figsize=(12,6));"
   ]
  },
  {
   "cell_type": "markdown",
   "id": "a3848f44",
   "metadata": {},
   "source": [
    "## Exercício\n",
    "Bora praticar! Para isso utilizaremos o dataset 'Forbes Highest Paid Athletes 1990-2020' que contém uma lista completa dos atletas mais bem pagos do mundo desde a primeira lista publicada pela Forbes em 1990. Em 2002 o período de relatório do ano civil foi alterado para de junho a junho e, consequentemente, não há registros de 2001.  "
   ]
  },
  {
   "cell_type": "markdown",
   "id": "d46cf823",
   "metadata": {},
   "source": [
    "Importe a tabela **Forbes_Richest_Atheletes_1990_2020** que está em csv dentro do diretório **data**"
   ]
  },
  {
   "cell_type": "code",
   "execution_count": 10,
   "id": "2ca2cdcf",
   "metadata": {},
   "outputs": [],
   "source": [
    "import pandas as pd\n",
    "\n",
    "df = pd.read_csv(r\"C:\\Users\\Fernanda\\Documents\\Top Coders\\850-Safra-DS-ModuloIV\\Forbes_Richest_Atheletes_1990_2020.csv\")"
   ]
  },
  {
   "cell_type": "code",
   "execution_count": null,
   "id": "d5422389",
   "metadata": {},
   "outputs": [],
   "source": [
    "# df_forbes['Sport'] = df_forbes['Sport'].apply(lambda x: x.capitalize())\n",
    "# df_forbes[['Sport']] = df_forbes[['Sport']].applymap(lambda x: 'F1' if 'F1' in x else x)\n",
    "# df_forbes[['Sport']] = df_forbes[['Sport']].applymap(lambda x: 'Basketball' if 'Nba' in x else x)\n",
    "# df_forbes[['Sport']] = df_forbes[['Sport']].applymap(lambda x: 'American football' if 'Nfl' in x else x)\n",
    "# df_forbes['Sport'].unique()"
   ]
  },
  {
   "cell_type": "code",
   "execution_count": 11,
   "id": "8a5e8941",
   "metadata": {},
   "outputs": [
    {
     "data": {
      "text/html": [
       "<div>\n",
       "<style scoped>\n",
       "    .dataframe tbody tr th:only-of-type {\n",
       "        vertical-align: middle;\n",
       "    }\n",
       "\n",
       "    .dataframe tbody tr th {\n",
       "        vertical-align: top;\n",
       "    }\n",
       "\n",
       "    .dataframe thead th {\n",
       "        text-align: right;\n",
       "    }\n",
       "</style>\n",
       "<table border=\"1\" class=\"dataframe\">\n",
       "  <thead>\n",
       "    <tr style=\"text-align: right;\">\n",
       "      <th></th>\n",
       "      <th>S.NO</th>\n",
       "      <th>Name</th>\n",
       "      <th>Nationality</th>\n",
       "      <th>Current Rank</th>\n",
       "      <th>Previous Year Rank</th>\n",
       "      <th>Sport</th>\n",
       "      <th>Year</th>\n",
       "      <th>earnings ($ million)</th>\n",
       "    </tr>\n",
       "  </thead>\n",
       "  <tbody>\n",
       "    <tr>\n",
       "      <th>0</th>\n",
       "      <td>1</td>\n",
       "      <td>Mike Tyson</td>\n",
       "      <td>USA</td>\n",
       "      <td>1</td>\n",
       "      <td>NaN</td>\n",
       "      <td>boxing</td>\n",
       "      <td>1990</td>\n",
       "      <td>28.6</td>\n",
       "    </tr>\n",
       "    <tr>\n",
       "      <th>1</th>\n",
       "      <td>2</td>\n",
       "      <td>Buster Douglas</td>\n",
       "      <td>USA</td>\n",
       "      <td>2</td>\n",
       "      <td>NaN</td>\n",
       "      <td>boxing</td>\n",
       "      <td>1990</td>\n",
       "      <td>26.0</td>\n",
       "    </tr>\n",
       "    <tr>\n",
       "      <th>2</th>\n",
       "      <td>3</td>\n",
       "      <td>Sugar Ray Leonard</td>\n",
       "      <td>USA</td>\n",
       "      <td>3</td>\n",
       "      <td>NaN</td>\n",
       "      <td>boxing</td>\n",
       "      <td>1990</td>\n",
       "      <td>13.0</td>\n",
       "    </tr>\n",
       "    <tr>\n",
       "      <th>3</th>\n",
       "      <td>4</td>\n",
       "      <td>Ayrton Senna</td>\n",
       "      <td>Brazil</td>\n",
       "      <td>4</td>\n",
       "      <td>NaN</td>\n",
       "      <td>auto racing</td>\n",
       "      <td>1990</td>\n",
       "      <td>10.0</td>\n",
       "    </tr>\n",
       "    <tr>\n",
       "      <th>4</th>\n",
       "      <td>5</td>\n",
       "      <td>Alain Prost</td>\n",
       "      <td>France</td>\n",
       "      <td>5</td>\n",
       "      <td>NaN</td>\n",
       "      <td>auto racing</td>\n",
       "      <td>1990</td>\n",
       "      <td>9.0</td>\n",
       "    </tr>\n",
       "  </tbody>\n",
       "</table>\n",
       "</div>"
      ],
      "text/plain": [
       "   S.NO               Name Nationality  Current Rank Previous Year Rank  \\\n",
       "0     1         Mike Tyson         USA             1                NaN   \n",
       "1     2     Buster Douglas         USA             2                NaN   \n",
       "2     3  Sugar Ray Leonard         USA             3                NaN   \n",
       "3     4       Ayrton Senna      Brazil             4                NaN   \n",
       "4     5        Alain Prost      France             5                NaN   \n",
       "\n",
       "         Sport  Year  earnings ($ million)  \n",
       "0       boxing  1990                  28.6  \n",
       "1       boxing  1990                  26.0  \n",
       "2       boxing  1990                  13.0  \n",
       "3  auto racing  1990                  10.0  \n",
       "4  auto racing  1990                   9.0  "
      ]
     },
     "execution_count": 11,
     "metadata": {},
     "output_type": "execute_result"
    }
   ],
   "source": [
    "df.head()"
   ]
  },
  {
   "cell_type": "code",
   "execution_count": 32,
   "id": "f3fc3841",
   "metadata": {},
   "outputs": [
    {
     "data": {
      "text/plain": [
       "array(['boxing', 'auto racing', 'golf', 'basketball', 'tennis', 'nfl',\n",
       "       'nba', 'baseball', 'ice hockey', 'american football / baseball',\n",
       "       'f1 motorsports', 'nascar', 'hockey', 'auto racing (nascar)',\n",
       "       'f1 racing', 'american football', 'soccer', 'cycling',\n",
       "       'motorcycle gp', 'mma'], dtype=object)"
      ]
     },
     "execution_count": 32,
     "metadata": {},
     "output_type": "execute_result"
    }
   ],
   "source": [
    "df[\"Sport\"] = df[\"Sport\"].str.lower()\n",
    "df.Sport.unique()"
   ]
  },
  {
   "cell_type": "code",
   "execution_count": 36,
   "id": "c54b62f1",
   "metadata": {},
   "outputs": [],
   "source": [
    "df.Sport.replace('nascar','auto racing (nascar)', inplace= True)"
   ]
  },
  {
   "cell_type": "code",
   "execution_count": 12,
   "id": "8a440e00",
   "metadata": {},
   "outputs": [
    {
     "data": {
      "text/plain": [
       "array([1990, 1991, 1992, 1993, 1994, 1995, 1996, 1997, 1998, 1999, 2000,\n",
       "       2002, 2003, 2004, 2005, 2006, 2007, 2008, 2009, 2010, 2011, 2012,\n",
       "       2013, 2014, 2015, 2016, 2017, 2018, 2019, 2020], dtype=int64)"
      ]
     },
     "execution_count": 12,
     "metadata": {},
     "output_type": "execute_result"
    }
   ],
   "source": [
    "df.Year.unique()"
   ]
  },
  {
   "cell_type": "markdown",
   "id": "aea84c03",
   "metadata": {},
   "source": [
    "Verifique com a função .info os campos presentes na tabela"
   ]
  },
  {
   "cell_type": "code",
   "execution_count": 13,
   "id": "410524e6",
   "metadata": {
    "scrolled": true
   },
   "outputs": [
    {
     "name": "stdout",
     "output_type": "stream",
     "text": [
      "<class 'pandas.core.frame.DataFrame'>\n",
      "RangeIndex: 301 entries, 0 to 300\n",
      "Data columns (total 8 columns):\n",
      " #   Column                Non-Null Count  Dtype  \n",
      "---  ------                --------------  -----  \n",
      " 0   S.NO                  301 non-null    int64  \n",
      " 1   Name                  301 non-null    object \n",
      " 2   Nationality           301 non-null    object \n",
      " 3   Current Rank          301 non-null    int64  \n",
      " 4   Previous Year Rank    277 non-null    object \n",
      " 5   Sport                 301 non-null    object \n",
      " 6   Year                  301 non-null    int64  \n",
      " 7   earnings ($ million)  301 non-null    float64\n",
      "dtypes: float64(1), int64(3), object(4)\n",
      "memory usage: 18.9+ KB\n"
     ]
    }
   ],
   "source": [
    "df.info()"
   ]
  },
  {
   "cell_type": "markdown",
   "id": "cd9dd0b7",
   "metadata": {},
   "source": [
    "Imprima as estatísticas padrões do dataframe com a função .describe"
   ]
  },
  {
   "cell_type": "code",
   "execution_count": 14,
   "id": "a46c3178",
   "metadata": {},
   "outputs": [
    {
     "data": {
      "text/html": [
       "<div>\n",
       "<style scoped>\n",
       "    .dataframe tbody tr th:only-of-type {\n",
       "        vertical-align: middle;\n",
       "    }\n",
       "\n",
       "    .dataframe tbody tr th {\n",
       "        vertical-align: top;\n",
       "    }\n",
       "\n",
       "    .dataframe thead th {\n",
       "        text-align: right;\n",
       "    }\n",
       "</style>\n",
       "<table border=\"1\" class=\"dataframe\">\n",
       "  <thead>\n",
       "    <tr style=\"text-align: right;\">\n",
       "      <th></th>\n",
       "      <th>S.NO</th>\n",
       "      <th>Current Rank</th>\n",
       "      <th>Year</th>\n",
       "      <th>earnings ($ million)</th>\n",
       "    </tr>\n",
       "  </thead>\n",
       "  <tbody>\n",
       "    <tr>\n",
       "      <th>count</th>\n",
       "      <td>301.000</td>\n",
       "      <td>301.000</td>\n",
       "      <td>301.000</td>\n",
       "      <td>301.000</td>\n",
       "    </tr>\n",
       "    <tr>\n",
       "      <th>mean</th>\n",
       "      <td>151.000</td>\n",
       "      <td>5.449</td>\n",
       "      <td>2005.123</td>\n",
       "      <td>45.516</td>\n",
       "    </tr>\n",
       "    <tr>\n",
       "      <th>std</th>\n",
       "      <td>87.035</td>\n",
       "      <td>2.851</td>\n",
       "      <td>9.064</td>\n",
       "      <td>33.525</td>\n",
       "    </tr>\n",
       "    <tr>\n",
       "      <th>min</th>\n",
       "      <td>1.000</td>\n",
       "      <td>1.000</td>\n",
       "      <td>1990.000</td>\n",
       "      <td>8.100</td>\n",
       "    </tr>\n",
       "    <tr>\n",
       "      <th>25%</th>\n",
       "      <td>76.000</td>\n",
       "      <td>3.000</td>\n",
       "      <td>1997.000</td>\n",
       "      <td>24.000</td>\n",
       "    </tr>\n",
       "    <tr>\n",
       "      <th>50%</th>\n",
       "      <td>151.000</td>\n",
       "      <td>5.000</td>\n",
       "      <td>2005.000</td>\n",
       "      <td>39.000</td>\n",
       "    </tr>\n",
       "    <tr>\n",
       "      <th>75%</th>\n",
       "      <td>226.000</td>\n",
       "      <td>8.000</td>\n",
       "      <td>2013.000</td>\n",
       "      <td>59.400</td>\n",
       "    </tr>\n",
       "    <tr>\n",
       "      <th>max</th>\n",
       "      <td>301.000</td>\n",
       "      <td>10.000</td>\n",
       "      <td>2020.000</td>\n",
       "      <td>300.000</td>\n",
       "    </tr>\n",
       "  </tbody>\n",
       "</table>\n",
       "</div>"
      ],
      "text/plain": [
       "          S.NO  Current Rank      Year  earnings ($ million)\n",
       "count  301.000       301.000   301.000               301.000\n",
       "mean   151.000         5.449  2005.123                45.516\n",
       "std     87.035         2.851     9.064                33.525\n",
       "min      1.000         1.000  1990.000                 8.100\n",
       "25%     76.000         3.000  1997.000                24.000\n",
       "50%    151.000         5.000  2005.000                39.000\n",
       "75%    226.000         8.000  2013.000                59.400\n",
       "max    301.000        10.000  2020.000               300.000"
      ]
     },
     "execution_count": 14,
     "metadata": {},
     "output_type": "execute_result"
    }
   ],
   "source": [
    "df.describe().round(3)"
   ]
  },
  {
   "cell_type": "code",
   "execution_count": 15,
   "id": "43a1926d",
   "metadata": {},
   "outputs": [
    {
     "data": {
      "text/plain": [
       "Index(['S.NO', 'Name', 'Nationality', 'Current Rank', 'Previous Year Rank',\n",
       "       'Sport', 'Year', 'earnings ($ million)'],\n",
       "      dtype='object')"
      ]
     },
     "execution_count": 15,
     "metadata": {},
     "output_type": "execute_result"
    }
   ],
   "source": [
    "df.columns"
   ]
  },
  {
   "cell_type": "markdown",
   "id": "fcb2e57b",
   "metadata": {},
   "source": [
    "### Gráficos"
   ]
  },
  {
   "cell_type": "markdown",
   "id": "f8ac0ec9",
   "metadata": {},
   "source": [
    "1) Existem outliers nos valores de ganhos dos atletas"
   ]
  },
  {
   "cell_type": "code",
   "execution_count": 52,
   "id": "a21d0c85",
   "metadata": {
    "scrolled": false
   },
   "outputs": [
    {
     "data": {
      "image/png": "[encoded data removed]",
      "text/plain": [
       "<Figure size 432x288 with 1 Axes>"
      ]
     },
     "metadata": {
      "needs_background": "light"
     },
     "output_type": "display_data"
    }
   ],
   "source": [
    "df.plot.box(y='earnings ($ million)');"
   ]
  },
  {
   "cell_type": "code",
   "execution_count": 53,
   "id": "def7b3e4",
   "metadata": {},
   "outputs": [
    {
     "data": {
      "text/html": [
       "<div>\n",
       "<style scoped>\n",
       "    .dataframe tbody tr th:only-of-type {\n",
       "        vertical-align: middle;\n",
       "    }\n",
       "\n",
       "    .dataframe tbody tr th {\n",
       "        vertical-align: top;\n",
       "    }\n",
       "\n",
       "    .dataframe thead th {\n",
       "        text-align: right;\n",
       "    }\n",
       "</style>\n",
       "<table border=\"1\" class=\"dataframe\">\n",
       "  <thead>\n",
       "    <tr style=\"text-align: right;\">\n",
       "      <th></th>\n",
       "      <th>S.NO</th>\n",
       "      <th>Name</th>\n",
       "      <th>Nationality</th>\n",
       "      <th>Current Rank</th>\n",
       "      <th>Previous Year Rank</th>\n",
       "      <th>Sport</th>\n",
       "      <th>Year</th>\n",
       "      <th>earnings ($ million)</th>\n",
       "    </tr>\n",
       "  </thead>\n",
       "  <tbody>\n",
       "    <tr>\n",
       "      <th>171</th>\n",
       "      <td>172</td>\n",
       "      <td>Tiger Woods</td>\n",
       "      <td>USA</td>\n",
       "      <td>1</td>\n",
       "      <td>1</td>\n",
       "      <td>golf</td>\n",
       "      <td>2008</td>\n",
       "      <td>115.0</td>\n",
       "    </tr>\n",
       "    <tr>\n",
       "      <th>241</th>\n",
       "      <td>242</td>\n",
       "      <td>Floyd Mayweather</td>\n",
       "      <td>USA</td>\n",
       "      <td>1</td>\n",
       "      <td>1</td>\n",
       "      <td>boxing</td>\n",
       "      <td>2015</td>\n",
       "      <td>300.0</td>\n",
       "    </tr>\n",
       "    <tr>\n",
       "      <th>242</th>\n",
       "      <td>243</td>\n",
       "      <td>Manny Pacquiao</td>\n",
       "      <td>Philippines</td>\n",
       "      <td>2</td>\n",
       "      <td>11</td>\n",
       "      <td>boxing</td>\n",
       "      <td>2015</td>\n",
       "      <td>160.0</td>\n",
       "    </tr>\n",
       "    <tr>\n",
       "      <th>271</th>\n",
       "      <td>272</td>\n",
       "      <td>Floyd Mayweather</td>\n",
       "      <td>USA</td>\n",
       "      <td>1</td>\n",
       "      <td>&gt;100</td>\n",
       "      <td>boxing</td>\n",
       "      <td>2018</td>\n",
       "      <td>285.0</td>\n",
       "    </tr>\n",
       "    <tr>\n",
       "      <th>281</th>\n",
       "      <td>282</td>\n",
       "      <td>Lionel Messi</td>\n",
       "      <td>Argentina</td>\n",
       "      <td>1</td>\n",
       "      <td>2</td>\n",
       "      <td>soccer</td>\n",
       "      <td>2019</td>\n",
       "      <td>127.0</td>\n",
       "    </tr>\n",
       "  </tbody>\n",
       "</table>\n",
       "</div>"
      ],
      "text/plain": [
       "     S.NO              Name  Nationality  Current Rank Previous Year Rank  \\\n",
       "171   172       Tiger Woods          USA             1                  1   \n",
       "241   242  Floyd Mayweather          USA             1                  1   \n",
       "242   243    Manny Pacquiao  Philippines             2                 11   \n",
       "271   272  Floyd Mayweather          USA             1               >100   \n",
       "281   282      Lionel Messi    Argentina             1                  2   \n",
       "\n",
       "      Sport  Year  earnings ($ million)  \n",
       "171    golf  2008                 115.0  \n",
       "241  boxing  2015                 300.0  \n",
       "242  boxing  2015                 160.0  \n",
       "271  boxing  2018                 285.0  \n",
       "281  soccer  2019                 127.0  "
      ]
     },
     "execution_count": 53,
     "metadata": {},
     "output_type": "execute_result"
    }
   ],
   "source": [
    "Q3 = df['earnings ($ million)'].quantile(0.75)\n",
    "Q1 = df['earnings ($ million)'].quantile(0.25)\n",
    "IIQ = Q3 - Q1\n",
    "\n",
    "df[(df['earnings ($ million)'] > (Q3+1.5*IIQ))]"
   ]
  },
  {
   "cell_type": "markdown",
   "id": "7360bc1b",
   "metadata": {},
   "source": [
    "2) Faça um gráfico de linha para verificar os ganhos (earnings) anuais dos atletas"
   ]
  },
  {
   "cell_type": "code",
   "execution_count": 56,
   "id": "d6512349",
   "metadata": {},
   "outputs": [
    {
     "data": {
      "image/png": "[encoded data removed]",
      "text/plain": [
       "<Figure size 432x288 with 1 Axes>"
      ]
     },
     "metadata": {
      "needs_background": "light"
     },
     "output_type": "display_data"
    }
   ],
   "source": [
    "df.pivot_table(index='Year', values='earnings ($ million)', aggfunc='sum').plot(y='earnings ($ million)');"
   ]
  },
  {
   "cell_type": "markdown",
   "id": "0677a702",
   "metadata": {},
   "source": [
    "3) Quais são os dois atletas que mais aparecem nos registros do dataframe? Para estes atletas, como está a distribuição anual dos ganhos"
   ]
  },
  {
   "cell_type": "code",
   "execution_count": 18,
   "id": "708f004d",
   "metadata": {},
   "outputs": [
    {
     "data": {
      "text/html": [
       "<div>\n",
       "<style scoped>\n",
       "    .dataframe tbody tr th:only-of-type {\n",
       "        vertical-align: middle;\n",
       "    }\n",
       "\n",
       "    .dataframe tbody tr th {\n",
       "        vertical-align: top;\n",
       "    }\n",
       "\n",
       "    .dataframe thead th {\n",
       "        text-align: right;\n",
       "    }\n",
       "</style>\n",
       "<table border=\"1\" class=\"dataframe\">\n",
       "  <thead>\n",
       "    <tr style=\"text-align: right;\">\n",
       "      <th></th>\n",
       "      <th>Name</th>\n",
       "    </tr>\n",
       "  </thead>\n",
       "  <tbody>\n",
       "    <tr>\n",
       "      <th>Tiger Woods</th>\n",
       "      <td>19</td>\n",
       "    </tr>\n",
       "    <tr>\n",
       "      <th>Michael Jordan</th>\n",
       "      <td>19</td>\n",
       "    </tr>\n",
       "  </tbody>\n",
       "</table>\n",
       "</div>"
      ],
      "text/plain": [
       "                Name\n",
       "Tiger Woods       19\n",
       "Michael Jordan    19"
      ]
     },
     "execution_count": 18,
     "metadata": {},
     "output_type": "execute_result"
    }
   ],
   "source": [
    "max_reg = pd.DataFrame(df.Name.value_counts())\n",
    "max_reg.head(2)"
   ]
  },
  {
   "cell_type": "code",
   "execution_count": 19,
   "id": "d774c22e",
   "metadata": {},
   "outputs": [
    {
     "data": {
      "image/png": "[encoded data removed]",
      "text/plain": [
       "<Figure size 432x288 with 1 Axes>"
      ]
     },
     "metadata": {
      "needs_background": "light"
     },
     "output_type": "display_data"
    },
    {
     "data": {
      "image/png": "[encoded data removed]",
      "text/plain": [
       "<Figure size 432x288 with 1 Axes>"
      ]
     },
     "metadata": {
      "needs_background": "light"
     },
     "output_type": "display_data"
    }
   ],
   "source": [
    "for i in range(2):\n",
    "    df.loc[df[\"Name\"] == max_reg.index[i]].plot(x = \"Year\", y = 'earnings ($ million)', legend = None);"
   ]
  },
  {
   "cell_type": "code",
   "execution_count": 20,
   "id": "f87f0b22",
   "metadata": {},
   "outputs": [
    {
     "data": {
      "image/png": "[encoded data removed]",
      "text/plain": [
       "<Figure size 432x288 with 1 Axes>"
      ]
     },
     "metadata": {
      "needs_background": "light"
     },
     "output_type": "display_data"
    }
   ],
   "source": [
    "ax1 = df.loc[df[\"Name\"] == max_reg.index[0]].plot(x = \"Year\", y = 'earnings ($ million)', legend = None)\n",
    "ax2 = df.loc[df[\"Name\"] == max_reg.index[1]].plot(x = \"Year\", y = 'earnings ($ million)', legend = None, ax = ax1)"
   ]
  },
  {
   "cell_type": "markdown",
   "id": "991a3ca4",
   "metadata": {},
   "source": []
  },
  {
   "cell_type": "markdown",
   "id": "0eb2434f",
   "metadata": {},
   "source": [
    "4) Construa um gráfico de **barras horizontais** com os top 15 atletas em **média** de ganhos"
   ]
  },
  {
   "cell_type": "code",
   "execution_count": 21,
   "id": "afc2f056",
   "metadata": {},
   "outputs": [
    {
     "data": {
      "image/png": "[encoded data removed]",
      "text/plain": [
       "<Figure size 432x288 with 1 Axes>"
      ]
     },
     "metadata": {
      "needs_background": "light"
     },
     "output_type": "display_data"
    }
   ],
   "source": [
    "df.groupby(by = 'Name').mean().sort_values(by = 'earnings ($ million)',ascending = False).round(2).iloc[:,3].head(15).plot.barh().invert_yaxis()"
   ]
  },
  {
   "cell_type": "code",
   "execution_count": 65,
   "id": "55a64767",
   "metadata": {},
   "outputs": [
    {
     "data": {
      "image/png": "[encoded data removed]",
      "text/plain": [
       "<Figure size 432x288 with 1 Axes>"
      ]
     },
     "metadata": {
      "needs_background": "light"
     },
     "output_type": "display_data"
    }
   ],
   "source": [
    "df.groupby(by = 'Name').agg({'earnings ($ million)':'mean'}).nlargest(15,columns = 'earnings ($ million)').plot.barh().invert_yaxis()"
   ]
  },
  {
   "cell_type": "markdown",
   "id": "d06c1aa3",
   "metadata": {},
   "source": []
  },
  {
   "cell_type": "markdown",
   "id": "c7cc10b5",
   "metadata": {},
   "source": [
    "5) Gráfico de pizza as contagens dos países"
   ]
  },
  {
   "cell_type": "code",
   "execution_count": 69,
   "id": "4fb171c5",
   "metadata": {},
   "outputs": [
    {
     "data": {
      "image/png": "[encoded data removed]",
      "text/plain": [
       "<Figure size 432x288 with 1 Axes>"
      ]
     },
     "metadata": {},
     "output_type": "display_data"
    }
   ],
   "source": [
    "ax = df.groupby(by = 'Nationality').size().plot.pie(labeldistance = None)\n",
    "ax.legend(loc = 'lower left',bbox_to_anchor = (1,-0.3));\n",
    "ax.se"
   ]
  },
  {
   "cell_type": "markdown",
   "id": "b251b382",
   "metadata": {},
   "source": []
  },
  {
   "cell_type": "markdown",
   "id": "8eaf0b85",
   "metadata": {},
   "source": [
    "6) Dado o gráfico produzido acima construa um gráfico apenas com os países que obtiveram maior quantidade de atletas representados (USA, UK, Germany, Switzerland, Portugal) dos ganhos acumulados por país em função do tempo. Utilize um gráfico de linhas."
   ]
  },
  {
   "cell_type": "code",
   "execution_count": 23,
   "metadata": {},
   "outputs": [
    {
     "data": {
      "text/html": [
       "<div>\n",
       "<style scoped>\n",
       "    .dataframe tbody tr th:only-of-type {\n",
       "        vertical-align: middle;\n",
       "    }\n",
       "\n",
       "    .dataframe tbody tr th {\n",
       "        vertical-align: top;\n",
       "    }\n",
       "\n",
       "    .dataframe thead th {\n",
       "        text-align: right;\n",
       "    }\n",
       "</style>\n",
       "<table border=\"1\" class=\"dataframe\">\n",
       "  <thead>\n",
       "    <tr style=\"text-align: right;\">\n",
       "      <th></th>\n",
       "      <th>Nationality</th>\n",
       "      <th>Year</th>\n",
       "      <th>S.NO</th>\n",
       "      <th>Current Rank</th>\n",
       "      <th>earnings ($ million)</th>\n",
       "    </tr>\n",
       "  </thead>\n",
       "  <tbody>\n",
       "    <tr>\n",
       "      <th>0</th>\n",
       "      <td>Argentina</td>\n",
       "      <td>2011</td>\n",
       "      <td>211</td>\n",
       "      <td>10</td>\n",
       "      <td>32.3</td>\n",
       "    </tr>\n",
       "    <tr>\n",
       "      <th>1</th>\n",
       "      <td>Argentina</td>\n",
       "      <td>2013</td>\n",
       "      <td>442</td>\n",
       "      <td>20</td>\n",
       "      <td>73.6</td>\n",
       "    </tr>\n",
       "    <tr>\n",
       "      <th>2</th>\n",
       "      <td>Argentina</td>\n",
       "      <td>2014</td>\n",
       "      <td>677</td>\n",
       "      <td>24</td>\n",
       "      <td>138.3</td>\n",
       "    </tr>\n",
       "    <tr>\n",
       "      <th>3</th>\n",
       "      <td>Argentina</td>\n",
       "      <td>2015</td>\n",
       "      <td>922</td>\n",
       "      <td>28</td>\n",
       "      <td>212.1</td>\n",
       "    </tr>\n",
       "    <tr>\n",
       "      <th>4</th>\n",
       "      <td>Argentina</td>\n",
       "      <td>2016</td>\n",
       "      <td>1175</td>\n",
       "      <td>30</td>\n",
       "      <td>293.5</td>\n",
       "    </tr>\n",
       "    <tr>\n",
       "      <th>...</th>\n",
       "      <td>...</td>\n",
       "      <td>...</td>\n",
       "      <td>...</td>\n",
       "      <td>...</td>\n",
       "      <td>...</td>\n",
       "    </tr>\n",
       "    <tr>\n",
       "      <th>120</th>\n",
       "      <td>USA</td>\n",
       "      <td>2016</td>\n",
       "      <td>22778</td>\n",
       "      <td>996</td>\n",
       "      <td>7100.0</td>\n",
       "    </tr>\n",
       "    <tr>\n",
       "      <th>121</th>\n",
       "      <td>USA</td>\n",
       "      <td>2017</td>\n",
       "      <td>24113</td>\n",
       "      <td>1026</td>\n",
       "      <td>7390.7</td>\n",
       "    </tr>\n",
       "    <tr>\n",
       "      <th>122</th>\n",
       "      <td>USA</td>\n",
       "      <td>2018</td>\n",
       "      <td>25502</td>\n",
       "      <td>1060</td>\n",
       "      <td>7964.9</td>\n",
       "    </tr>\n",
       "    <tr>\n",
       "      <th>123</th>\n",
       "      <td>USA</td>\n",
       "      <td>2019</td>\n",
       "      <td>26947</td>\n",
       "      <td>1100</td>\n",
       "      <td>8377.9</td>\n",
       "    </tr>\n",
       "    <tr>\n",
       "      <th>124</th>\n",
       "      <td>USA</td>\n",
       "      <td>2020</td>\n",
       "      <td>28738</td>\n",
       "      <td>1145</td>\n",
       "      <td>8786.3</td>\n",
       "    </tr>\n",
       "  </tbody>\n",
       "</table>\n",
       "<p>125 rows × 5 columns</p>\n",
       "</div>"
      ],
      "text/plain": [
       "    Nationality  Year   S.NO  Current Rank  earnings ($ million)\n",
       "0     Argentina  2011    211            10                  32.3\n",
       "1     Argentina  2013    442            20                  73.6\n",
       "2     Argentina  2014    677            24                 138.3\n",
       "3     Argentina  2015    922            28                 212.1\n",
       "4     Argentina  2016   1175            30                 293.5\n",
       "..          ...   ...    ...           ...                   ...\n",
       "120         USA  2016  22778           996                7100.0\n",
       "121         USA  2017  24113          1026                7390.7\n",
       "122         USA  2018  25502          1060                7964.9\n",
       "123         USA  2019  26947          1100                8377.9\n",
       "124         USA  2020  28738          1145                8786.3\n",
       "\n",
       "[125 rows x 5 columns]"
      ]
     },
     "execution_count": 23,
     "metadata": {},
     "output_type": "execute_result"
    }
   ],
   "source": [
    "# df.plot.line(y = df['earnings ($ million)'].cumsum(), x = 'Year')\n",
    "df_pais = df.groupby([\"Nationality\",\"Year\"]).sum().groupby(level=0).cumsum().reset_index()\n",
    "df_pais\n",
    "# df_pais.plot(x = 'Year', y = 'earnings ($ million)')\n"
   ]
  },
  {
   "cell_type": "code",
   "execution_count": 24,
   "id": "1be0d75a",
   "metadata": {},
   "outputs": [
    {
     "data": {
      "image/png": "[encoded data removed]",
      "text/plain": [
       "<Figure size 432x288 with 1 Axes>"
      ]
     },
     "metadata": {
      "needs_background": "light"
     },
     "output_type": "display_data"
    }
   ],
   "source": [
    "df_pais = df.groupby([\"Nationality\",\"Year\"]).sum().groupby(level=0).cumsum().reset_index()\n",
    "paises = [\"UK\",\"Germany\",\"Switzerland\",\"Portugal\"]\n",
    "ax1 = df_pais[df_pais.Nationality == \"USA\"].plot(x = 'Year', y ='earnings ($ million)',label = 'USA')\n",
    "\n",
    "for pais in paises:\n",
    "    ax2 = df_pais[df_pais.Nationality == pais].plot(x = 'Year', y ='earnings ($ million)', label = pais, ax = ax1)"
   ]
  },
  {
   "cell_type": "markdown",
   "id": "79f0e0e1",
   "metadata": {},
   "source": []
  },
  {
   "cell_type": "markdown",
   "id": "bdceb2a8",
   "metadata": {},
   "source": [
    "7) Faça um gráfico de pizza para verificar qual esporte mais aparece nestas listas"
   ]
  },
  {
   "cell_type": "code",
   "execution_count": 39,
   "id": "a3a0ea09",
   "metadata": {},
   "outputs": [
    {
     "data": {
      "text/plain": [
       "<AxesSubplot:ylabel='None'>"
      ]
     },
     "execution_count": 39,
     "metadata": {},
     "output_type": "execute_result"
    },
    {
     "data": {
      "image/png": "[encoded data removed]",
      "text/plain": [
       "<Figure size 432x288 with 1 Axes>"
      ]
     },
     "metadata": {},
     "output_type": "display_data"
    }
   ],
   "source": [
    "df.groupby(by = 'Sport').size().plot.pie()"
   ]
  },
  {
   "cell_type": "code",
   "execution_count": 70,
   "id": "0b3ca02a",
   "metadata": {},
   "outputs": [
    {
     "data": {
      "image/png": "[encoded data removed]",
      "text/plain": [
       "<Figure size 720x720 with 1 Axes>"
      ]
     },
     "metadata": {},
     "output_type": "display_data"
    }
   ],
   "source": [
    "df.groupby('Sport').count().sort_values('Nationality', ascending=False).head(5).plot(y='Nationality', kind='pie', figsize=(10,10), fontsize=10, ylabel= 'Sports' ,labeldistance=None, autopct='%1.0f%%');"
   ]
  },
  {
   "cell_type": "code",
   "execution_count": 38,
   "id": "41da2291",
   "metadata": {},
   "outputs": [
    {
     "data": {
      "text/plain": [
       "array(['boxing', 'auto racing', 'golf', 'basketball', 'tennis', 'nfl',\n",
       "       'nba', 'baseball', 'ice hockey', 'american football / baseball',\n",
       "       'f1 motorsports', 'auto racing (nascar)', 'hockey', 'f1 racing',\n",
       "       'american football', 'soccer', 'cycling', 'motorcycle gp', 'mma'],\n",
       "      dtype=object)"
      ]
     },
     "execution_count": 38,
     "metadata": {},
     "output_type": "execute_result"
    }
   ],
   "source": [
    "df.Sport.unique()"
   ]
  },
  {
   "cell_type": "markdown",
   "id": "aa3b7477",
   "metadata": {},
   "source": []
  },
  {
   "cell_type": "markdown",
   "id": "9839a3a8",
   "metadata": {},
   "source": [
    "8) Construa dois gráfico de barras para verificar os ganhos por esporte, sendo o primeiro dos ganhos médios e o segundo da somatória."
   ]
  },
  {
   "cell_type": "code",
   "execution_count": 50,
   "id": "92fe06ce",
   "metadata": {
    "scrolled": false
   },
   "outputs": [
    {
     "data": {
      "image/png": "[encoded data removed]",
      "text/plain": [
       "<Figure size 432x288 with 1 Axes>"
      ]
     },
     "metadata": {
      "needs_background": "light"
     },
     "output_type": "display_data"
    }
   ],
   "source": [
    "df.groupby(by = 'Sport').agg({\"earnings ($ million)\":'mean'}).sort_values(by = 'earnings ($ million)',ascending = True).plot.barh();"
   ]
  },
  {
   "cell_type": "code",
   "execution_count": 71,
   "id": "c9ab5365",
   "metadata": {},
   "outputs": [
    {
     "data": {
      "image/png": "[encoded data removed]",
      "text/plain": [
       "<Figure size 1440x720 with 1 Axes>"
      ]
     },
     "metadata": {
      "needs_background": "light"
     },
     "output_type": "display_data"
    }
   ],
   "source": [
    "gr1 = df.groupby('Sport').mean()[\"earnings ($ million)\"].sort_values().plot(kind = 'barh', color = 'black', figsize = (20,10))\n",
    "gr2 = df.groupby('Sport').sum()[\"earnings ($ million)\"].sort_values().plot(kind = 'barh', ax = gr1, color = 'magenta', alpha = 0.4)"
   ]
  },
  {
   "cell_type": "code",
   "execution_count": 51,
   "id": "af731331",
   "metadata": {},
   "outputs": [
    {
     "data": {
      "image/png": "[encoded data removed]",
      "text/plain": [
       "<Figure size 432x288 with 1 Axes>"
      ]
     },
     "metadata": {
      "needs_background": "light"
     },
     "output_type": "display_data"
    }
   ],
   "source": [
    "df.groupby(by = 'Sport').agg({\"earnings ($ million)\":'sum'}).sort_values(by = 'earnings ($ million)',ascending = True).plot.barh();"
   ]
  },
  {
   "cell_type": "markdown",
   "id": "4827a9c2",
   "metadata": {},
   "source": []
  }
 ],
 "metadata": {
  "kernelspec": {
   "display_name": "Python 3.8.13 ('python3.8')",
   "language": "python",
   "name": "python3"
  },
  "language_info": {
   "codemirror_mode": {
    "name": "ipython",
    "version": 3
   },
   "file_extension": ".py",
   "mimetype": "text/x-python",
   "name": "python",
   "nbconvert_exporter": "python",
   "pygments_lexer": "ipython3",
   "version": "3.8.13"
  },
  "vscode": {
   "interpreter": {
    "hash": "f5df8bf237c44c6c1cce32517e1fc0f6413855a14e63ee11049ba72c8abc8688"
   }
  }
 },
 "nbformat": 4,
 "nbformat_minor": 5
}
