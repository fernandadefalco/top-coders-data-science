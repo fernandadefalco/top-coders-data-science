{
 "cells": [
  {
   "cell_type": "markdown",
   "metadata": {},
   "source": [
    "## 🎯 Exercícios 🎯 <a class=\"anchor\" id=\"cinco\"></a>\n",
    "\n",
    "> Nos exercícios mais simples, que consistem apenas em gerar uma lista ou dicionário, utilize necessariamente compreensão de lista/dicionário. Em exercícios com instruções mais específicas, siga as instruções. Em exercícios de geradores, fique à vontade para usar expressões geradoras ou funções geradoras, mas tenha em mente que nem todas as tarefas podem ser reduzidas a uma expressão geradora. \n",
    "\n",
    "---\n",
    "\n",
    "Um professor precisou anular uma questão de uma prova. Faça uma função que recebe a lista de notas da turma, o valor da questão e soma esse valor em todas as notas."
   ]
  },
  {
   "cell_type": "code",
   "execution_count": 6,
   "metadata": {},
   "outputs": [
    {
     "data": {
      "text/plain": [
       "[7, 6, 5, 10]"
      ]
     },
     "execution_count": 6,
     "metadata": {},
     "output_type": "execute_result"
    }
   ],
   "source": [
    "def ajusteNotas(lista_notas,valor_questao):\n",
    "    lista_final = [10 if item+valor_questao > 10 else item+valor_questao for item in lista_notas]\n",
    "    return lista_final\n",
    "\n",
    "ajusteNotas([5,4,3,9],2)"
   ]
  },
  {
   "cell_type": "markdown",
   "metadata": {},
   "source": [
    "Faça uma função que recebe uma lista de números e retorna uma lista contendo os cubos dos números pares."
   ]
  },
  {
   "cell_type": "code",
   "execution_count": 12,
   "metadata": {},
   "outputs": [
    {
     "data": {
      "text/plain": [
       "[64, 8, 32768, 512]"
      ]
     },
     "execution_count": 12,
     "metadata": {},
     "output_type": "execute_result"
    }
   ],
   "source": [
    "def cuboPares(lista_numeros):\n",
    "    lista_final = [item**3 for item in lista_numeros if item%2==0]\n",
    "    return lista_final\n",
    "\n",
    "cuboPares([5,4,3,2,3,33,32,1,7,8,9])"
   ]
  },
  {
   "cell_type": "markdown",
   "metadata": {},
   "source": [
    "Faça uma função que recebe uma lista de números e retorna uma lista contendo os cubos dos números positivos e o quadrado dos números negativos."
   ]
  },
  {
   "cell_type": "code",
   "execution_count": 14,
   "metadata": {},
   "outputs": [
    {
     "data": {
      "text/plain": [
       "[125, 64, 27, 8, 9, 35937, 32768, 1, 49, 512, 729]"
      ]
     },
     "execution_count": 14,
     "metadata": {},
     "output_type": "execute_result"
    }
   ],
   "source": [
    "def cuboPositivos_quadradoNegativos(lista_numeros):\n",
    "    lista_final = [item**3 if item > 0 else item**2 for item in lista_numeros]\n",
    "    return lista_final\n",
    "\n",
    "cuboPositivos_quadradoNegativos([5,4,3,2,-3,33,32,-1,-7,8,9])"
   ]
  },
  {
   "cell_type": "markdown",
   "metadata": {},
   "source": [
    "Faça uma função que retorna uma lista contendo apenas float a partir de uma lista contendo variáveis inteiras, float e strings. Exemplo:\n",
    "\n",
    "Entrada: [1, 2.0, '3', 4.0, '5.5', 6]\n",
    "\n",
    "Saída: [1.0, 2.0, 3.0, 4.0, 5.5, 6.0]"
   ]
  },
  {
   "cell_type": "code",
   "execution_count": 16,
   "metadata": {},
   "outputs": [
    {
     "data": {
      "text/plain": [
       "[1.0, 2.0, 3.0, 4.0, 5.5, 6.0]"
      ]
     },
     "execution_count": 16,
     "metadata": {},
     "output_type": "execute_result"
    }
   ],
   "source": [
    "def retornaFloat(lista_numeros):\n",
    "    lista_final = [float(item) for item in lista_numeros]\n",
    "    return lista_final\n",
    "\n",
    "retornaFloat([1, 2.0, '3', 4.0, '5.5', 6])"
   ]
  },
  {
   "cell_type": "markdown",
   "metadata": {},
   "source": [
    "Faça uma função que retorna uma lista contendo apenas números a partir de uma lista contendo variáveis inteiras, float e strings. Valores já numéricos **não** devem ter seu tipo alterado, apenas strings. Exemplo:\n",
    "\n",
    "Entrada: [1, 2.0, '3', 4.0, '5.5', 6]\n",
    "\n",
    "Saída: [1, 2.0, 3.0, 4.0, 5.5, 6]"
   ]
  },
  {
   "cell_type": "code",
   "execution_count": 17,
   "metadata": {},
   "outputs": [
    {
     "data": {
      "text/plain": [
       "[1, 2.0, 3.0, 4.0, 5.5, 6]"
      ]
     },
     "execution_count": 17,
     "metadata": {},
     "output_type": "execute_result"
    }
   ],
   "source": [
    "def float_seletivo(lista_numeros):\n",
    "    lista_final = [float(item) if type(item) == str else item for item in lista_numeros]\n",
    "    return lista_final\n",
    "\n",
    "float_seletivo([1, 2.0, '3', 4.0, '5.5', 6])"
   ]
  },
  {
   "cell_type": "markdown",
   "metadata": {},
   "source": [
    "Faça uma função que recebe uma lista de nomes, uma lista de médias e a nota mínima para aprovação. Ela deverá retornar uma lista com os nomes dos alunos reprovados."
   ]
  },
  {
   "cell_type": "code",
   "execution_count": 22,
   "metadata": {},
   "outputs": [
    {
     "data": {
      "text/plain": [
       "['João', 'Giulia']"
      ]
     },
     "execution_count": 22,
     "metadata": {},
     "output_type": "execute_result"
    }
   ],
   "source": [
    "def aprovacao(lista_nomes, lista_medias,nota_minima):\n",
    "    lista_final = [aluno for aluno,media in zip(lista_nomes,lista_medias) if media < nota_minima]\n",
    "    return lista_final\n",
    "\n",
    "nomes = [\"Fernanda\", \"Mario\", \"João\", \"Giulia\"]\n",
    "notas = [9.0,7.6,4.5,2]\n",
    "\n",
    "aprovacao(nomes,notas,5)"
   ]
  },
  {
   "cell_type": "markdown",
   "metadata": {},
   "source": [
    "Faça uma função que recebe uma lista de nomes, uma lista de médias e a nota mínima para aprovação. Ela deverá retornar um dicionário contendo os nomes dos alunos e \"APR\" ou \"REP\" indicando a situação de cada um deles."
   ]
  },
  {
   "cell_type": "code",
   "execution_count": 85,
   "metadata": {},
   "outputs": [
    {
     "data": {
      "text/plain": [
       "{'Fernanda': 'APR', 'Mario': 'APR', 'João': 'REP', 'Giulia': 'REP'}"
      ]
     },
     "execution_count": 85,
     "metadata": {},
     "output_type": "execute_result"
    }
   ],
   "source": [
    "def aprovacao_dic(lista_nomes, lista_medias,nota_minima):\n",
    "    lista_final = {aluno: (\"REP\" if media < nota_minima else \"APR\") for aluno,media in zip(lista_nomes,lista_medias)}\n",
    "    return lista_final\n",
    "\n",
    "nomes = [\"Fernanda\", \"Mario\", \"João\", \"Giulia\"]\n",
    "notas = [9.0,7.6,4.5,2]\n",
    "\n",
    "aprovacao_dic(nomes,notas,5)"
   ]
  },
  {
   "cell_type": "markdown",
   "metadata": {},
   "source": [
    "Crie o seu próprio gerador que funcione como o **range**. \n",
    "\n",
    "* Se ele receber 1 parâmetro, considere como valor final (não incluso na sequência). Valor inicial será 0 e passo será 1.\n",
    "* Se ele receber 2 parâmetros, interprete como valor inicial (incluso) e valor final (não incluso), respectivamente. O passo será 1.\n",
    "* Se ele receber 3 parâmetros, interprete como valor inicial (incluso), valor final (não incluso) e passo.\n",
    "* Caso não receba parâmetros, receba mais do que 3 parâmetros ou receba algum parâmetro que não seja **int**, lance uma exceção."
   ]
  },
  {
   "cell_type": "code",
   "execution_count": 74,
   "metadata": {},
   "outputs": [
    {
     "name": "stdout",
     "output_type": "stream",
     "text": [
      "5\n"
     ]
    }
   ],
   "source": [
    "def range_gerador(*args):\n",
    "    contador = 0\n",
    "    if len(args) == 1:\n",
    "        while contador < args[0]:\n",
    "            yield contador\n",
    "            contador +=1\n",
    "    elif len(args) == 2:\n",
    "        contador = args[0]\n",
    "        while args [0] <= contador and contador < args[1]:\n",
    "            yield contador\n",
    "            contador +=1\n",
    "    elif len(args) == 3:\n",
    "        contador = args[0]\n",
    "        while args [0] <= contador and contador < args[1]:\n",
    "            yield contador\n",
    "            contador += args[2]  \n",
    "    else:\n",
    "        raise Exception (\"Valores inválidos\")     \n",
    "\n",
    "iterador = iter(range_gerador(5,12))\n",
    "\n",
    "while True:\n",
    "    try:\n",
    "        print(next(iterador))\n",
    "    except StopIteration:\n",
    "        break"
   ]
  },
  {
   "cell_type": "markdown",
   "metadata": {},
   "source": [
    "Crie um gerador infinito para representar uma **progressão aritmética**. Dada uma **razão** e um **termo inicial**, ele deverá calcular o restante dos termos."
   ]
  },
  {
   "cell_type": "code",
   "execution_count": 66,
   "metadata": {},
   "outputs": [
    {
     "name": "stdout",
     "output_type": "stream",
     "text": [
      "3\n",
      "8\n",
      "13\n",
      "18\n",
      "23\n",
      "28\n",
      "33\n",
      "38\n",
      "43\n",
      "48\n"
     ]
    }
   ],
   "source": [
    "def progressaoAritmetica(termo0,razao):\n",
    "\n",
    "    for termo in range(termo0,100000000,razao):\n",
    "        yield termo\n",
    "\n",
    "iterador_PA = iter(progressaoAritmetica(3,5))\n",
    "\n",
    "limite = int (input(\"Insira quantos termos da PA você quer ver: \"))\n",
    "\n",
    "for i in range(limite):\n",
    "    try: \n",
    "        print(next(iterador_PA))\n",
    "    except:\n",
    "        break"
   ]
  },
  {
   "cell_type": "code",
   "execution_count": 81,
   "metadata": {},
   "outputs": [
    {
     "name": "stdout",
     "output_type": "stream",
     "text": [
      "0\n",
      "5\n",
      "10\n",
      "15\n",
      "20\n"
     ]
    }
   ],
   "source": [
    "def progressaoAritmetica(termo0,razao):\n",
    "    while True:\n",
    "        yield termo0\n",
    "        termo0 += razao\n",
    "\n",
    "iterador_PA = iter(progressaoAritmetica(0,5))\n",
    "\n",
    "limite = int (input(\"Insira quantos termos da PA você quer ver: \"))\n",
    "\n",
    "for i in range(limite):\n",
    "    try: \n",
    "        print(next(iterador_PA))\n",
    "    except:\n",
    "        break"
   ]
  },
  {
   "cell_type": "markdown",
   "metadata": {},
   "source": [
    "Faça um gerador infinito para representar uma **progressão geométrica**. Dada uma **razão** e um **termo inicial** ele deverá calcular o restante dos termos."
   ]
  },
  {
   "cell_type": "code",
   "execution_count": 75,
   "metadata": {},
   "outputs": [
    {
     "name": "stdout",
     "output_type": "stream",
     "text": [
      "3\n",
      "15\n",
      "75\n",
      "375\n"
     ]
    }
   ],
   "source": [
    "def progressaoGeometrica(termo0,razao):\n",
    "\n",
    "    for n in range(1, 1000000 + 1):\n",
    "        yield termo0 * razao ** (n - 1)\n",
    "\n",
    "iterador_PG = iter(progressaoGeometrica(3,5))\n",
    "\n",
    "limite = int (input(\"Insira quantos termos da PG você quer ver: \"))\n",
    "\n",
    "for i in range(limite):\n",
    "    try: \n",
    "        print(next(iterador_PG))\n",
    "    except:\n",
    "        break"
   ]
  },
  {
   "cell_type": "markdown",
   "metadata": {},
   "source": [
    "Crie um gerador capaz de gerar infinitos números de Fibonacci.\n",
    "\n",
    "Lembre-se de como os números de Fibonacci são gerados:\n",
    "> f(0) = 0\n",
    "> f(1) = 1\n",
    "> f(n) = f(n-1) + f(n-2)\n",
    "\n",
    "Os primeiros números de Fibonacci são: 0, 1, 1, 2, 3, 5, 8, 13, 21, 34, 55, 89, 144..."
   ]
  },
  {
   "cell_type": "code",
   "execution_count": null,
   "metadata": {},
   "outputs": [],
   "source": [
    "def gerador_fibo():\n",
    "    penultimo = 0\n",
    "    ultimo = 1\n",
    "\n",
    "    yield penultimo\n",
    "\n",
    "    while True:\n",
    "        yield ultimo\n",
    "        penultimo,ultimo = ultimo, penultimo + ultimo\n",
    "\n",
    "iterador_fibo = iter(gerador_fibo())\n",
    "\n",
    "limite = int (input(\"Insira quantos termos do Fibonacci você quer ver: \"))\n",
    "\n",
    "for i in range(limite):\n",
    "    try: \n",
    "        print(next(iterador_fibo))\n",
    "    except:\n",
    "        break"
   ]
  },
  {
   "cell_type": "markdown",
   "metadata": {},
   "source": [
    "Crie um gerador capaz de gerar infinitos números primos.\n",
    "\n",
    "Um número primo é divisível apenas por 1 e por ele mesmo.\n",
    "\n",
    "Exemplos: 2, 3, 5, 7, 11, 13, 17, 19, 23, 29..."
   ]
  },
  {
   "cell_type": "code",
   "execution_count": 84,
   "metadata": {},
   "outputs": [
    {
     "name": "stdout",
     "output_type": "stream",
     "text": [
      "1\n",
      "2\n",
      "3\n",
      "5\n"
     ]
    }
   ],
   "source": [
    "def eh_primo(n):\n",
    "    divisor = 2\n",
    "    while divisor <= n/2:\n",
    "        if n% divisor == 0:\n",
    "            return False\n",
    "        divisor +=1\n",
    "    else:\n",
    "        return True\n",
    "\n",
    "\n",
    "def gerador_primo():\n",
    "    numero = 1\n",
    "    while True:\n",
    "        if eh_primo(numero):\n",
    "            yield numero\n",
    "        numero += 1\n",
    "\n",
    "iterador_primo = iter(gerador_primo())\n",
    "\n",
    "limite = int (input(\"Insira quantos termos primos você quer ver: \"))\n",
    "\n",
    "for i in range(limite):\n",
    "    try: \n",
    "        print(next(iterador_primo))\n",
    "    except:\n",
    "        break       \n"
   ]
  },
  {
   "cell_type": "markdown",
   "metadata": {},
   "source": [
    "Você fez o exercício abaixo na lista de arquivos:\n",
    "\n",
    "> Faça um programa que carrega um arquivo CSV de notas (como o gerado pelo exercício anterior) e pede para o usuário digitar a nota mínima para aprovação. Ele deverá gerar um novo arquivo contendo as notas originais e 2 colunas adicionais: a média de cada aluno na primeira (com, no máximo, 2 casas decimais) e \"APR\" ou \"REP\" na segunda, indicando se a média atingiu o valor mínimo ou não."
   ]
  },
  {
   "cell_type": "code",
   "execution_count": null,
   "metadata": {},
   "outputs": [],
   "source": [
    "import csv\n",
    "\n",
    "with open ('Arquivos - Aula 02/notasalunos.csv', 'r') as arquivo:\n",
    "    nota_minima = float(input(\"Insira a nota mínima para aprovação: \"))\n",
    "    csv_conteudo = []\n",
    "    leitor = csv.reader(arquivo, delimiter = \";\")\n",
    "\n",
    "    csv_conteudo = [linha for linha in leitor]\n",
    "    csv_conteudo[0].extend([\"Média do aluno\", \"Situação\"])\n",
    "    \n",
    "\n",
    "    for i in range(1,len(csv_conteudo)):\n",
    "        soma = 0\n",
    "        \n",
    "        for j in range(1,len(csv_conteudo[i])):\n",
    "            soma += float(csv_conteudo[i][j])\n",
    "        media = round(soma/(len(csv_conteudo)-1),2)\n",
    "        csv_conteudo[i].append(str(media))\n",
    "\n",
    "        if media >= nota_minima:\n",
    "            csv_conteudo[i].append(\"APR\")\n",
    "        else:\n",
    "            csv_conteudo[i].append(\"REP\")\n",
    "    \n",
    "    # Cria o arquivo CSV\n",
    "    arquivo_atualizado = open('Arquivos - Aula 02/notasalunos_atualizado.csv', 'w')\n",
    "    escritor = csv.writer(arquivo_atualizado, delimiter=';', lineterminator='\\n')\n",
    "    escritor.writerows(csv_conteudo)\n"
   ]
  },
  {
   "cell_type": "markdown",
   "metadata": {},
   "source": [
    "Enriqueça o exercício anterior lendo uma lista de nomes a partir de um arquivo, com os nomes separados por quebras de linha.\n",
    "\n",
    "Utilize compreensão de dicionários para associar cada aluno a sua lista de notas. \n",
    "\n",
    "Salve o resultado em um arquivo .json."
   ]
  },
  {
   "cell_type": "code",
   "execution_count": 20,
   "metadata": {},
   "outputs": [],
   "source": [
    "import csv\n",
    "import json\n",
    "\n",
    "with open ('Arquivos - Aula 02/notasalunos_atualizado.csv', 'r') as arquivo:\n",
    "    leitor = csv.reader(arquivo, delimiter = \";\")\n",
    "    csv_conteudo = [linha for linha in leitor]\n",
    "\n",
    "    dicionario_notas = {item[0]:[item[1:len(item)-1]] for item in csv_conteudo[1:]}\n",
    "\n",
    "    arquivo_atualizado = open('Arquivos - Aula 02/notasalunos_atualizado_json.json', 'w')\n",
    "    arquivo_atualizado.write(json.dumps(dicionario_notas))\n"
   ]
  }
 ],
 "metadata": {
  "kernelspec": {
   "display_name": "Python 3.9.7 ('base')",
   "language": "python",
   "name": "python3"
  },
  "language_info": {
   "codemirror_mode": {
    "name": "ipython",
    "version": 3
   },
   "file_extension": ".py",
   "mimetype": "text/x-python",
   "name": "python",
   "nbconvert_exporter": "python",
   "pygments_lexer": "ipython3",
   "version": "3.9.7"
  },
  "orig_nbformat": 4,
  "vscode": {
   "interpreter": {
    "hash": "ad2bdc8ecc057115af97d19610ffacc2b4e99fae6737bb82f5d7fb13d2f2c186"
   }
  }
 },
 "nbformat": 4,
 "nbformat_minor": 2
}
