{
 "cells": [
  {
   "cell_type": "markdown",
   "metadata": {},
   "source": [
    "## 🎯 Exercícios 🎯 <a class=\"anchor\" id=\"cinco\"></a>\n",
    "\n",
    "O programa abaixo apresenta alguns erros de execução. Sem alterar as estruturas de dados originais (lista e dicionário), faça um tratamento adequado dos erros para exibir as médias corretas de cada aluno ou mensagens de erro significativas para o usuário em português, sem permitir que o programa seja interrompido antes de finalizar sua execução.\n",
    "\n",
    "```python\n",
    "alunos = ['John', 'Paul', 'George', 'Ringo', 'Brian', 'Pete']\n",
    "\n",
    "notas = {\n",
    "    'John':[7.5, 9.0, 8.25, 8.0],\n",
    "    'Paul':[9.0, 8.5, '10.0', 8.5],\n",
    "    'George':[6.0, '7.0', 8.0, 9],\n",
    "    'Ringo':[4.5, 4.0, 6.0, 7.0],\n",
    "    'Pete':[]\n",
    "}\n",
    "\n",
    "for aluno in alunos:\n",
    "    media = sum(notas[aluno])/len(notas[aluno])\n",
    "    print(f'{aluno}:\\t{media}')\n",
    "```"
   ]
  },
  {
   "cell_type": "code",
   "execution_count": 5,
   "id": "60f33aee",
   "metadata": {},
   "outputs": [
    {
     "name": "stdout",
     "output_type": "stream",
     "text": [
      "John:\t8.1875\n",
      "Paul:\t9.0\n",
      "George:\t7.5\n",
      "Ringo:\t5.375\n",
      "Brian não está cadastrado.\n",
      "Pete não poussui notas.\n"
     ]
    }
   ],
   "source": [
    "alunos = ['John', 'Paul', 'George', 'Ringo', 'Brian', 'Pete']\n",
    "\n",
    "notas = {\n",
    "    'John':[7.5, 9.0, 8.25, 8.0],\n",
    "    'Paul':[9.0, 8.5, '10.0', 8.5],\n",
    "    'George':[6.0, '7.0', 8.0, 9],\n",
    "    'Ringo':[4.5, 4.0, 6.0, 7.0],\n",
    "    'Pete':[]\n",
    "}\n",
    "\n",
    "for aluno in alunos:\n",
    "    try:\n",
    "        media = sum(notas[aluno])/len(notas[aluno])\n",
    "        print(f'{aluno}:\\t{media}')\n",
    "    except TypeError:\n",
    "        notas[aluno] = list(map(float,notas[aluno]))\n",
    "        media = sum(notas[aluno])/len(notas[aluno])\n",
    "        print(f'{aluno}:\\t{media}')\n",
    "    except KeyError:\n",
    "        print(f\"{aluno} não está cadastrado.\")\n",
    "    except:\n",
    "        print(f\"{aluno} não poussui notas.\")"
   ]
  },
  {
   "cell_type": "markdown",
   "id": "acf980ab",
   "metadata": {},
   "source": [
    "Na aula de **arquivos**, você provavelmente fez o exercício abaixo:\n",
    "\n",
    "> Faça um programa que carrega um arquivo CSV de notas (como o gerado pelo exercício anterior) e pede para o usuário digitar a nota mínima para aprovação. Ele deverá gerar um novo arquivo contendo as notas originais e 2 colunas adicionais: a média de cada aluno na primeira (com, no máximo, 2 casas decimais) e \"APR\" ou \"REP\" na segunda, indicando se a média atingiu o valor mínimo ou não.\n",
    "\n",
    "Vamos tornar nosso programa mais seguro:\n",
    "* Caso alguma nota não possa ser interpretada como float, considere seu valor como sendo zero, exiba uma mensagem de erro informando o usuário sobre o aluno e prova que contém a nota inválida e não interrompa a execução do programa.\n",
    "* Caso alguma nota seja um número válido, mas esteja fora do intervalo entre 0 e 10, considere o valor 0 para a nota, exiba uma mensagem de erro informando o usuário sobre o aluno e prova que contém a nota inválida, explique o intervalo permitido e não interrompa a execução do programa.\n",
    "* Caso não seja possível criar o arquivo para escrever o resultado, exiba uma mensagem em português para o usuário informando o problema e imprima o resultado dos cálculos na tela.\n",
    "* Caso o arquivo original não seja encontrado, você pode deixar que o programa seja interrompido - mas exiba uma mensagem de erro significativa em português para o usuário.\n"
   ]
  },
  {
   "cell_type": "code",
   "execution_count": 5,
   "id": "ddfba587",
   "metadata": {},
   "outputs": [
    {
     "name": "stdout",
     "output_type": "stream",
     "text": [
      "Aluno1 não possui notas válidas na 3º prova\n",
      "Aluno2 não possui notas válidas na 2º prova\n",
      "Aluno3 não possui notas válidas na 1º prova\n",
      "Aluno3 não possui notas válidas na 3º prova, deveria estar entre 0 e 10.\n"
     ]
    }
   ],
   "source": [
    "import csv\n",
    "\n",
    "#Caso o arquivo original não seja encontrado (ponto 4)\n",
    "try:\n",
    "    arquivo = open ('Arquivos - Aula 02/notasalunos.csv', 'r')\n",
    "except:\n",
    "    print('Não foi possível abrir o arquivo')\n",
    "else:\n",
    "    nota_minima = float(input(\"Insira a nota mínima para aprovação: \"))\n",
    "    csv_conteudo = []\n",
    "    leitor = csv.reader(arquivo, delimiter = \";\")\n",
    "    for linha in leitor:\n",
    "        csv_conteudo.append(linha)\n",
    "    csv_conteudo[0].extend([\"Média do aluno\", \"Situação\"])\n",
    "\n",
    "    for i in range(1,len(csv_conteudo)):\n",
    "        soma = 0\n",
    "        for j in range(1,len(csv_conteudo[i])):\n",
    "    \n",
    "            try:\n",
    "                    soma += float(csv_conteudo[i][j])\n",
    "            except: #Caso alguma nota não possa ser interpretada como float (ponto 1)\n",
    "                    csv_conteudo[i][j] = 0\n",
    "                    print(f\"{csv_conteudo[i][0]} não possui notas válidas na {j}º prova\")\n",
    "    \n",
    "            try:\n",
    "                if float(csv_conteudo[i][j]) < 0 or float(csv_conteudo[i][j]) >10: #Caso alguma nota esteja fora do intervalo 0 a 10 (ponto 2)\n",
    "                    csv_conteudo[i][j] = 0\n",
    "                    raise Exception(f\"{csv_conteudo[i][0]} não possui notas válidas na {j}º prova, deveria estar entre 0 e 10.\")\n",
    "            except Exception:\n",
    "                    print(f\"{csv_conteudo[i][0]} não possui notas válidas na {j}º prova, deveria estar entre 0 e 10.\")\n",
    "\n",
    "        media = round(soma/(len(csv_conteudo)-1),2)\n",
    "        csv_conteudo[i].append(str(media))\n",
    "\n",
    "        if media >= nota_minima:\n",
    "            csv_conteudo[i].append(\"APR\")\n",
    "        else:\n",
    "            csv_conteudo[i].append(\"REP\")\n",
    "    arquivo.close()\n",
    "\n",
    "    # Cria o arquivo CSV\n",
    "    try:\n",
    "        arquivo_atualizado = open('Arquivos - Aula 02/notasalunos_atualizado.csv', 'w')\n",
    "    except: #Caso não seja possível criar o arquivo (ponto 3)\n",
    "        print(\"Não foi possível criar o arquivo.\")\n",
    "        print(csv_conteudo)\n",
    "        \n",
    "    escritor = csv.writer(arquivo_atualizado, delimiter=';', lineterminator='\\n')\n",
    "    escritor.writerows(csv_conteudo)\n"
   ]
  }
 ],
 "metadata": {
  "interpreter": {
   "hash": "76598fc9c6bb65fd476139221b204b3eabf86e849c6757e508689cac37d36b9f"
  },
  "kernelspec": {
   "display_name": "Python 3.6.13 ('dsfs')",
   "language": "python",
   "name": "python3"
  },
  "language_info": {
   "codemirror_mode": {
    "name": "ipython",
    "version": 3
   },
   "file_extension": ".py",
   "mimetype": "text/x-python",
   "name": "python",
   "nbconvert_exporter": "python",
   "pygments_lexer": "ipython3",
   "version": "3.6.13"
  }
 },
 "nbformat": 4,
 "nbformat_minor": 5
}
