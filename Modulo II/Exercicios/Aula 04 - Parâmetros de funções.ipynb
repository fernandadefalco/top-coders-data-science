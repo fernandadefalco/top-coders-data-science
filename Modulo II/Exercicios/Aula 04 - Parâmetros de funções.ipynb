{
 "cells": [
  {
   "cell_type": "markdown",
   "metadata": {},
   "source": [
    "# Parâmetros de funções\n",
    "\n",
    "Quando estudamos funções, aprendemos que elas podem receber dados (parâmetros) e podem fornecer uma resposta (retorno). Porém, o número de parâmetros era fixo para cada função: um dado para cada parâmetro que declaramos na definição da função. Da mesma forma, a função poderia retornar exatamente um resultado.\n",
    "\n",
    "Em alguns casos, mais flexibilidade seria útil. Utilizando tuplas e dicionários conseguimos essa flexibilidade.\n",
    "\n",
    "## Funções com retorno múltiplo\n",
    "Vejamos um caso simples: uma função que retorna os valores máximo e mínimo de uma coleção.\n",
    "Você pode retornar os valores separados por vírgula. \n",
    "Vamos imprimir o resultado e verificar o que acontece."
   ]
  },
  {
   "cell_type": "code",
   "execution_count": 1,
   "metadata": {},
   "outputs": [
    {
     "name": "stdout",
     "output_type": "stream",
     "text": [
      "(9, 1)\n",
      "<class 'tuple'>\n"
     ]
    }
   ],
   "source": [
    "def max_min(colecao):\n",
    "\tmaior = max(colecao)\n",
    "\tmenor = min(colecao)\n",
    "\treturn maior, menor\n",
    "\n",
    "numeros = [3, 1, 4, 1, 5, 9, 2]\n",
    "\n",
    "resposta = max_min(numeros)\n",
    "print(resposta)\n",
    "print(type(resposta)) # mostra o tipo da variável resposta"
   ]
  },
  {
   "cell_type": "markdown",
   "metadata": {},
   "source": [
    "Surpresa! Ele tratou o retorno como uma tupla! Quando utilizamos valores separados por vírgula em Python, os valores são agrupados em uma tupla, mesmo que não estejamos utilizando parênteses. Essa informação é relevante porque podemos separar a tupla em varias variáveis usando a mesma sintaxe:"
   ]
  },
  {
   "cell_type": "code",
   "execution_count": null,
   "metadata": {},
   "outputs": [],
   "source": [
    "def max_min(colecao):\n",
    "\tmaior = max(colecao)\n",
    "\tmenor = min(colecao)\n",
    "\treturn maior, menor\n",
    "\n",
    "numeros = [3, 1, 4, 1, 5, 9, 2]\n",
    "\n",
    "maior_num, menor_num = max_min(numeros)\n",
    "print(maior_num)\n",
    "print(menor_num)"
   ]
  },
  {
   "cell_type": "markdown",
   "metadata": {},
   "source": [
    "No exemplo acima é mais perceptível a sensação de que a função retornou 2 valores e o programa recebeu esses 2 valores individualmente. Por dentro, tupla. Por fora, retorno múltiplo."
   ]
  },
  {
   "cell_type": "markdown",
   "metadata": {},
   "source": [
    "## Parâmetros com valores padrão\n",
    "\n",
    "Uma primeira forma de trabalhar com a ideia de parâmetros opcionais é atribuir valores padrão para nossos parâmetros. Quando fazemos isso, quando a função for chamada, o parâmetro pode **ou** não ser passado. Caso ele não seja passado, é adotado o valor padrão.\n",
    "\n",
    "Devemos primeiro colocar os parâmetros \"comuns\" (conhecidos como _argumentos posicionais_) para depois colocar os argumentos com valor padrão. Imagine, por exemplo, uma função que padroniza _strings_ jogando todo seu conteúdo para upper ou lower. Podemos implementá-la da seguinte maneira:"
   ]
  },
  {
   "cell_type": "code",
   "execution_count": null,
   "metadata": {},
   "outputs": [],
   "source": [
    "def padroniza_string(texto, lower=True):\n",
    "    if lower:\n",
    "        return texto.lower()\n",
    "    else:\n",
    "        return texto.upper()\n",
    "\n",
    "print(padroniza_string('Sem passar o SEGUNDO argumento'))\n",
    "print(padroniza_string('Passando SEGUNDO argumento True', lower=True))\n",
    "print(padroniza_string('Passando SEGUNDO argumento False', lower=False))"
   ]
  },
  {
   "cell_type": "markdown",
   "metadata": {},
   "source": [
    "## Funções com quantidade variável de parâmetros\n",
    "Talvez você já tenha notado que o _print_ é uma função. Se não notou, esse é um bom momento para pensar a respeito. Nós sempre usamos com parênteses, nós passamos informações dentro dos parênteses (os dados a serem impressos) e ele faz um monte de coisa automaticamente: converte todos os dados passados para _string_, contatena todas as _strings_ com um espaço entre elas e as escreve na tela.\n",
    "\n",
    "Algo que o _print_ tem que as nossas funções não tinham é a capacidade de receber uma quantidade variável de parâmetros. Nós podemos passar 0 dados (e, neste caso, ele apenas pulará uma linha), 1 dado, 2 dados, 3 dados... Quantos dados quisermos, separados por vírgula, e ele funcionará para todos esses casos. Se temos que declarar todos os parâmetros, como fazer para que múltiplos dados possam ser passados?\n",
    "\n",
    "### Agrupando parâmetros\n",
    "A solução é utilizar o operador **\\*** - que, neste caso, não será uma multiplicação.  Ao colocarmos o **\\*** ao lado do nome de um parâmetro na definição da função, estamos dizendo que aquele argumento será uma coleção. Mais especificamente, uma tupla. Porém, o usuário não irá passar uma tupla. Ele irá passar quantos argumentos ele quiser, e o Python automaticamente criará uma tupla com eles. \n",
    "\n",
    "O exemplo abaixo cria uma função de somatório que pode receber uma quantidade arbitrária de números."
   ]
  },
  {
   "cell_type": "code",
   "execution_count": 2,
   "metadata": {},
   "outputs": [
    {
     "name": "stdout",
     "output_type": "stream",
     "text": [
      "9 30 55\n"
     ]
    }
   ],
   "source": [
    "def somatorio(*numeros):\n",
    "\t# remova o símbolo de comentário das linhas abaixo para entender melhor o parâmetro\n",
    "\t# print (numeros)\n",
    "\t# print(type(numeros))\n",
    "\tsoma = 0\n",
    "\tfor n in numeros:\n",
    "\t\tsoma = soma + n\n",
    "\treturn soma\n",
    "\n",
    "s1 = somatorio(5, 3, 1)\n",
    "s2 = somatorio(2, 4, 6, 8, 10)\n",
    "s3 = somatorio(1, 2, 3, 4, 5, 6, 7, 8, 9, 10)\n",
    "print(s1, s2, s3)"
   ]
  },
  {
   "cell_type": "markdown",
   "metadata": {},
   "source": [
    "### Expandindo uma coleção\n",
    "O exemplo acima funciona muito bem quando o usuário da função possui vários dados avulsos, pois ele os agrupa em uma coleção. Mas o que acontece quando os dados já estão agrupados?"
   ]
  },
  {
   "cell_type": "code",
   "execution_count": 3,
   "metadata": {},
   "outputs": [
    {
     "name": "stdout",
     "output_type": "stream",
     "text": [
      "([1, 2, 3, 4, 5],)\n",
      "<class 'tuple'>\n"
     ]
    },
    {
     "ename": "TypeError",
     "evalue": "unsupported operand type(s) for +: 'int' and 'list'",
     "output_type": "error",
     "traceback": [
      "\u001b[1;31m---------------------------------------------------------------------------\u001b[0m",
      "\u001b[1;31mTypeError\u001b[0m                                 Traceback (most recent call last)",
      "\u001b[1;32mc:\\Users\\Fernanda\\Documents\\Top Coders\\top-coders-data-science\\Modulo II\\Exercicios\\Aula 04 - Parâmetros de Funções.ipynb Cell 11'\u001b[0m in \u001b[0;36m<cell line: 10>\u001b[1;34m()\u001b[0m\n\u001b[0;32m      <a href='vscode-notebook-cell:/c%3A/Users/Fernanda/Documents/Top%20Coders/top-coders-data-science/Modulo%20II/Exercicios/Aula%2004%20-%20Par%C3%A2metros%20de%20Fun%C3%A7%C3%B5es.ipynb#ch0000010?line=6'>7</a>\u001b[0m \t\u001b[39mreturn\u001b[39;00m soma\n\u001b[0;32m      <a href='vscode-notebook-cell:/c%3A/Users/Fernanda/Documents/Top%20Coders/top-coders-data-science/Modulo%20II/Exercicios/Aula%2004%20-%20Par%C3%A2metros%20de%20Fun%C3%A7%C3%B5es.ipynb#ch0000010?line=8'>9</a>\u001b[0m lista \u001b[39m=\u001b[39m [\u001b[39m1\u001b[39m, \u001b[39m2\u001b[39m, \u001b[39m3\u001b[39m, \u001b[39m4\u001b[39m, \u001b[39m5\u001b[39m]\n\u001b[1;32m---> <a href='vscode-notebook-cell:/c%3A/Users/Fernanda/Documents/Top%20Coders/top-coders-data-science/Modulo%20II/Exercicios/Aula%2004%20-%20Par%C3%A2metros%20de%20Fun%C3%A7%C3%B5es.ipynb#ch0000010?line=9'>10</a>\u001b[0m s \u001b[39m=\u001b[39m somatorio(lista)\n\u001b[0;32m     <a href='vscode-notebook-cell:/c%3A/Users/Fernanda/Documents/Top%20Coders/top-coders-data-science/Modulo%20II/Exercicios/Aula%2004%20-%20Par%C3%A2metros%20de%20Fun%C3%A7%C3%B5es.ipynb#ch0000010?line=10'>11</a>\u001b[0m \u001b[39mprint\u001b[39m(s)\n",
      "\u001b[1;32mc:\\Users\\Fernanda\\Documents\\Top Coders\\top-coders-data-science\\Modulo II\\Exercicios\\Aula 04 - Parâmetros de Funções.ipynb Cell 11'\u001b[0m in \u001b[0;36msomatorio\u001b[1;34m(*numeros)\u001b[0m\n\u001b[0;32m      <a href='vscode-notebook-cell:/c%3A/Users/Fernanda/Documents/Top%20Coders/top-coders-data-science/Modulo%20II/Exercicios/Aula%2004%20-%20Par%C3%A2metros%20de%20Fun%C3%A7%C3%B5es.ipynb#ch0000010?line=3'>4</a>\u001b[0m soma \u001b[39m=\u001b[39m \u001b[39m0\u001b[39m\n\u001b[0;32m      <a href='vscode-notebook-cell:/c%3A/Users/Fernanda/Documents/Top%20Coders/top-coders-data-science/Modulo%20II/Exercicios/Aula%2004%20-%20Par%C3%A2metros%20de%20Fun%C3%A7%C3%B5es.ipynb#ch0000010?line=4'>5</a>\u001b[0m \u001b[39mfor\u001b[39;00m n \u001b[39min\u001b[39;00m numeros:\n\u001b[1;32m----> <a href='vscode-notebook-cell:/c%3A/Users/Fernanda/Documents/Top%20Coders/top-coders-data-science/Modulo%20II/Exercicios/Aula%2004%20-%20Par%C3%A2metros%20de%20Fun%C3%A7%C3%B5es.ipynb#ch0000010?line=5'>6</a>\u001b[0m \tsoma \u001b[39m=\u001b[39m soma \u001b[39m+\u001b[39;49m n\n\u001b[0;32m      <a href='vscode-notebook-cell:/c%3A/Users/Fernanda/Documents/Top%20Coders/top-coders-data-science/Modulo%20II/Exercicios/Aula%2004%20-%20Par%C3%A2metros%20de%20Fun%C3%A7%C3%B5es.ipynb#ch0000010?line=6'>7</a>\u001b[0m \u001b[39mreturn\u001b[39;00m soma\n",
      "\u001b[1;31mTypeError\u001b[0m: unsupported operand type(s) for +: 'int' and 'list'"
     ]
    }
   ],
   "source": [
    "def somatorio(*numeros):\n",
    "\tprint (numeros)\n",
    "\tprint(type(numeros))\n",
    "\tsoma = 0\n",
    "\tfor n in numeros:\n",
    "\t\tsoma = soma + n\n",
    "\treturn soma\n",
    "\n",
    "lista = [1, 2, 3, 4, 5]\n",
    "s = somatorio(lista)\n",
    "print(s)"
   ]
  },
  {
   "cell_type": "markdown",
   "metadata": {},
   "source": [
    "Note que o programa dará erro, pois como os _print_ dentro da função ilustram, foi criada uma tupla, e na primeira posição da tupla foi armazenada a lista. Isso não funciona com a lógica que projetamos.\n",
    "\n",
    "Para casos assim, utilizaremos o operador **\\*** na chamada da função também. Na definição, o operador **\\*** indica que devemos agrupar itens avulsos em uma coleção. Na chamada, ele indica que uma coleção deve ser expandida em itens avulsos."
   ]
  },
  {
   "cell_type": "code",
   "execution_count": 4,
   "metadata": {},
   "outputs": [
    {
     "name": "stdout",
     "output_type": "stream",
     "text": [
      "(1, 2, 3, 4, 5)\n",
      "<class 'tuple'>\n",
      "15\n"
     ]
    }
   ],
   "source": [
    "def somatorio(*numeros):\n",
    "\tprint (numeros)\n",
    "\tprint(type(numeros))\n",
    "\tsoma = 0\n",
    "\tfor n in numeros:\n",
    "\t\tsoma = soma + n\n",
    "\treturn soma\n",
    "\n",
    "lista = [1, 2, 3, 4, 5]\n",
    "s = somatorio(*lista)\n",
    "print(s)"
   ]
  },
  {
   "cell_type": "markdown",
   "metadata": {},
   "source": [
    "No programa acima, a lista é expandida em 5 valores avulsos, e em seguida a função agrupa os 5 itens em uma tupla chamada \"numeros\". "
   ]
  },
  {
   "cell_type": "markdown",
   "metadata": {},
   "source": [
    "## Parâmetros opcionais\n",
    "Outra possibilidade são funções com parâmetros opcionais. Note que isso é diferente de termos quantidade variável de parâmetros. \n",
    "\n",
    "No caso da quantidade variável, normalmente são diversos parâmetros com a mesma utilidade (números a serem somados, valores a serem exibidos etc). \n",
    "\n",
    "Já os parâmetros opcionais são informações distintas que podem ou não ser passadas para a função. Como exemplo podemos citar o _csv.reader_ e o _csv.writer_ vistos anteriormente. Os parâmetros que passamos pelo nome (_delimiter_ e _lineterminator_) são opcionais: se você omiti-los, a função usará valores padrão.\n",
    "\n",
    "Já estudamos uma forma de parâmetros opcionais utilizando valores padrão. Mas para funções com uma **grande** quantidade de parâmetros opcionais, existe outra forma utilizando dicionários, apelidada como ```**kwargs```.\n",
    "\n",
    "### Criando **kwargs\n",
    "Para criar parâmetros opcionais, usaremos **\\*\\***, e os parâmetros passados serão agrupados em um dicionário: o nome do parâmetro será uma chave, e o valor será... O valor.\n",
    "\n",
    "O exemplo abaixo cadastra usuários em uma base de dado. Um usuário pode fornecer seu nome, seu CPF ou ambos.\n"
   ]
  },
  {
   "cell_type": "code",
   "execution_count": 6,
   "metadata": {},
   "outputs": [
    {
     "name": "stdout",
     "output_type": "stream",
     "text": [
      "Cadastro realizado com sucesso!\n",
      "Cadastro realizado com sucesso!\n",
      "Cadastro realizado com sucesso!\n",
      "Cadastro realizado com sucesso!\n"
     ]
    }
   ],
   "source": [
    "def cadastro(**usuario):\n",
    "\tif not ('nome' in usuario) and not ('cpf') in usuario:\n",
    "\t\tprint('Nenhum dado encontrado!')\n",
    "\telse:\n",
    "\t\tarquivo = open('usuarios.txt', 'a')\n",
    "\t\tif 'nome' in usuario:\n",
    "\t\t\tarquivo.write(usuario['nome'] + '\\n')\n",
    "\t\tif 'cpf' in usuario:\n",
    "\t\t\tarquivo.write(str(usuario['cpf']) + '\\n')\n",
    "\t\tarquivo.write('-----\\n')\n",
    "\t\tarquivo.close()\n",
    "\t\tprint('Cadastro realizado com sucesso!')\n",
    "\n",
    "cadastro(nome = 'João', cpf = 123456789) # tem ambos\n",
    "cadastro(nome = 'José') # tem apenas nome\n",
    "cadastro(cpf = 987654321) # tem apenas cpf\n",
    "cadastro(cpf = 987654321,rg = 192837465) # não tem nome nem cpf"
   ]
  },
  {
   "cell_type": "markdown",
   "metadata": {},
   "source": [
    "### Expandindo um dicionário\n",
    "Analogamente ao caso dos parâmetros múltiplos, é possível que o usuário da função já tenha os dados organizados em um dicionário. Neste caso, basta usar **\\*\\*** na chamada da função para expandir o dicionário em vários parâmetros opcionais."
   ]
  },
  {
   "cell_type": "code",
   "execution_count": null,
   "metadata": {},
   "outputs": [],
   "source": [
    "def cadastro(**usuario):\n",
    "\tif not ('nome' in usuario) and not ('cpf') in usuario:\n",
    "\t\tprint('Nenhum dado encontrado!')\n",
    "\telse:\n",
    "\t\tarquivo = open('usuarios.txt', 'a')\n",
    "\t\tif 'nome' in usuario:\n",
    "\t\t\tarquivo.write(usuario['nome'] + '\\n')\n",
    "\t\tif 'cpf' in usuario:\n",
    "\t\t\tarquivo.write(str(usuario['cpf']) + '\\n')\n",
    "\t\tarquivo.write('-----\\n')\n",
    "\t\tarquivo.close()\n",
    "\t\tprint('Cadastro realizado com sucesso!')\n",
    "\n",
    "maria = {'nome':'Maria', 'cpf':2468135790}\n",
    "cadastro(**maria)"
   ]
  },
  {
   "cell_type": "markdown",
   "metadata": {},
   "source": [
    "## Exercícios\n",
    "\n",
    "Faça uma função que recebe uma quantidade arbitrária de variáveis de qualquer tipo e retorna uma string contendo todas as suas representações separadas por espaço."
   ]
  },
  {
   "cell_type": "code",
   "execution_count": 8,
   "metadata": {},
   "outputs": [
    {
     "data": {
      "text/plain": [
       "'1 2 3 4 True'"
      ]
     },
     "execution_count": 8,
     "metadata": {},
     "output_type": "execute_result"
    }
   ],
   "source": [
    "def separaEspaco(*args):\n",
    "    string_espaco = ''\n",
    "\n",
    "    for item in args[0:-1]:\n",
    "        string_espaco += str(item) + ' '\n",
    "    string_espaco += str(args[-1])\n",
    "    \n",
    "    return string_espaco\n",
    "\n",
    "separaEspaco(1,2,3,4,True)"
   ]
  },
  {
   "cell_type": "markdown",
   "metadata": {},
   "source": [
    "Modifique a função anterior para incluir um parâmetro opcional indicando o caractere de separação entre as variáveis. Seu valor padrão será 1 espaço em branco. "
   ]
  },
  {
   "cell_type": "code",
   "execution_count": 36,
   "metadata": {},
   "outputs": [
    {
     "data": {
      "text/plain": [
       "'1h2h3hTrue'"
      ]
     },
     "execution_count": 36,
     "metadata": {},
     "output_type": "execute_result"
    }
   ],
   "source": [
    "def separaString(*args, separador = \" \"):\n",
    "    string_espaco = ''\n",
    "\n",
    "    for item in args[0:-1]:\n",
    "        string_espaco += str(item) + str(separador)\n",
    "    string_espaco += str(args[-1])\n",
    "    \n",
    "    return string_espaco\n",
    "\n",
    "separaString(1,2,3,True, separador = \"h\")"
   ]
  },
  {
   "cell_type": "markdown",
   "metadata": {},
   "source": [
    "Faça sua própria função \"sorted\", que recebe uma coleção de elementos e retorna uma nova lista contendo os elementos ordenados. Ela deverá receber:\n",
    "\n",
    "* uma lista ou uma tupla (obrigatório).\n",
    "* um booleano indicando se deve ser ordem inversa ou não (opcional, com valor padrão).\n",
    "* uma função (sim, isso pode!) que será usada para comparar os valores da lista entre eles (opcional, com valor padrão null) - caso seja null, utilize os operadores \">\" ou \"<\" para fazer as comparações.\n",
    "\n",
    "Faça tratamento de exceção da maneira que julgar melhor para lidar com a possibilidade da lista de entrada conter elementos que não podem ser comparados entre si (como str e int, por exemplo).\n"
   ]
  },
  {
   "cell_type": "code",
   "execution_count": 11,
   "metadata": {},
   "outputs": [
    {
     "name": "stdout",
     "output_type": "stream",
     "text": [
      "f não é um número válido\n",
      "Número não válido\n",
      "Número não válido\n"
     ]
    },
    {
     "data": {
      "text/plain": [
       "[54, 43, 23, 9.3, 8, 4.0, 1, 0]"
      ]
     },
     "execution_count": 11,
     "metadata": {},
     "output_type": "execute_result"
    }
   ],
   "source": [
    "def ordenacao_elementos(conjunto_elementos:list or tuple):\n",
    "    conjunto_elementos = list(conjunto_elementos)\n",
    "    maximo = conjunto_elementos[0]\n",
    "    lista_ordenada = []\n",
    "\n",
    "    while len(conjunto_elementos) != 0:  \n",
    "        maximo = conjunto_elementos[0]     \n",
    "        for item in conjunto_elementos:\n",
    "            if item > maximo:\n",
    "                maximo = item\n",
    "        conjunto_elementos.remove(maximo)\n",
    "        lista_ordenada.append(maximo)\n",
    "    return lista_ordenada\n",
    "\n",
    "def sorted_Fernanda(conjunto_elementos, ordem_inversa = False, funcao = None):\n",
    "    conjunto_elementos = list(conjunto_elementos)\n",
    "\n",
    "    for i in range(len(conjunto_elementos)):  \n",
    "        try:\n",
    "            int(conjunto_elementos[i])\n",
    "        except:\n",
    "            print(f\"{conjunto_elementos[i]} não é um número válido\")\n",
    "            while True:\n",
    "                try:\n",
    "                    conjunto_elementos[i] = float(input(\"Insira novamente: \"))\n",
    "                except:\n",
    "                    print(\"Número não válido\")\n",
    "                    continue\n",
    "                else:\n",
    "                    break\n",
    "\n",
    "    if ordem_inversa == True:\n",
    "        return ordenacao_elementos(conjunto_elementos)\n",
    "    else:\n",
    "        return ordenacao_elementos(conjunto_elementos)[::-1]\n",
    "\n",
    "sorted_Fernanda([1,54,43,23,\"f\",9.3,0,8],True)"
   ]
  },
  {
   "cell_type": "code",
   "execution_count": 18,
   "metadata": {},
   "outputs": [
    {
     "data": {
      "text/plain": [
       "[0, 2, 3, 5, 7]"
      ]
     },
     "execution_count": 18,
     "metadata": {},
     "output_type": "execute_result"
    }
   ],
   "source": [
    "#Bubble Sort\n",
    "\n",
    "def ordena(colecao):\n",
    "    for i in range(len(colecao)):\n",
    "        trocado = False\n",
    "        for j in range(len(colecao)-1-i):\n",
    "            if colecao[j] > colecao[j+1]: #Compara esquerda com o da direita\n",
    "                trocado = True\n",
    "                colecao[j], colecao[j+1] = colecao[j+1], colecao[j] #Faz a troca\n",
    "        if not trocado:\n",
    "            return colecao     \n",
    "    return colecao\n",
    "\n",
    "ordena([3,7,2,0,5])"
   ]
  },
  {
   "cell_type": "markdown",
   "metadata": {},
   "source": [
    "Faça um programa com um menu que permita cadastrar novos usuários, buscar usuários já existentes, modificar um usuário existente e visualizar todos os usuários.\n",
    "\n",
    "Cada usuário deve ter, obrigatoriamente:\n",
    "\n",
    "* Nome\n",
    "* CPF (deve ser **único**)\n",
    "* e-mail (deve ser **único**)\n",
    "\n",
    "Opcionalmente, usuários podem ter:\n",
    "\n",
    "* Data de nascimento\n",
    "* Profissão\n",
    "* Escolaridade (a ser escolhida de uma lista: infantil, fundamental, médio, superior, pós)\n",
    "\n",
    "Para a busca, podemos passar um ou mais dos dados (ex: apenas nome, ou data de nascimento + profissão), e teremos um parâmetro opcional indicando se os resultados mostrarão usuários que bateram com pelo menos 1 dos parâmetros buscados (ex: nome igual, mas CPF diferente) ou apenas que bateram com todas as informações passadas.\n",
    "\n",
    "Estruture seu programa para utilizar funções com parâmetros opcionais.\n",
    "\n",
    "Desafio 1: faça toda a comunicação de erros entre funções e diferentes partes do programa via **exceções**.\n",
    "\n",
    "Desafio 2: adicione **persistência** ao seu programa em formato .json\n",
    "\n",
    "Desafio 3: **valide CPF, e-mail e data de nascimento** (apenas CPFs válidos, e-mail apenas com caracteres válidos, e 1 única arroba que contenha caracteres antes e depois, data de nascimento obrigatoriamente no formato aaaa-mm-dd e que não aceite dias inválidos, como 30 de fevereiro).\n",
    "\n",
    "Desafio 4: acrescente ao desafio 3 a verificação para 29/fev e ano bissexto."
   ]
  },
  {
   "cell_type": "code",
   "execution_count": 3,
   "metadata": {},
   "outputs": [
    {
     "data": {
      "text/plain": [
       "\"{'nome': 'João', 'cpf': 32131414, 'email': 'fernanda2@gmail.com', 'data_nasc': '14/02/1996', 'profissao': 'cientista', 'escolaridade': 'infantil'} - Itens que bateram ['nome']\""
      ]
     },
     "execution_count": 3,
     "metadata": {},
     "output_type": "execute_result"
    }
   ],
   "source": [
    "def cadastrarUsuario (todos_usuarios:list,nome:str, cpf:int, email:str):\n",
    "    if cpf in list(todos_usuarios) :\n",
    "        raise Exception(\"CPF já cadastrado.\")\n",
    "    if email in list(todos_usuarios):\n",
    "        raise Exception(\"Email já cadastrado.\") #Fazer um try/except quando chamar essa função\n",
    "    todos_usuarios.append({'nome':nome, 'cpf': cpf, 'email': email})\n",
    "\n",
    "    validacao_lista =[]\n",
    "    for i in range(3):\n",
    "        opcoes_validacao = [\"data de nascimento\", \"profissão\", \"escolaridade\"]\n",
    "        validacao = input(f\"Deseja incluir {opcoes_validacao[i]} no cadastro de {nome}? (S/N): \").upper()\n",
    "        while validacao != \"S\" and validacao != \"N\":\n",
    "            validacao = input(f\"Opção inválida, deseja incluir {opcoes_validacao[i]} no cadastro de {nome}? (S/N): \").upper()\n",
    "        validacao_lista.append(validacao)\n",
    "    \n",
    "    if validacao_lista[0] == \"S\":\n",
    "        data_nasc =  input(f\"Insira a data de nascimento de {nome}:  \")\n",
    "        todos_usuarios[-1].update({'data_nasc':data_nasc})\n",
    "\n",
    "    if validacao_lista[1] == \"S\":\n",
    "        profissao =  input(f\"Insira a profissão de {nome}:  \")\n",
    "        todos_usuarios[-1].update({'profissao':profissao})\n",
    "\n",
    "    if validacao_lista[2] == \"S\":\n",
    "        lista_escolaridade = [\"infantil\", \"fundamental\", \"médio\", \"superior\", \"pós\"]\n",
    "        escolaridade =  input(f\"Insira a escolaridade de {nome} -> (infantil, fundamental, médio, superior, pós):  \")\n",
    "        while escolaridade not in lista_escolaridade:\n",
    "            escolaridade =  input(f\"Opção inválida -> (infantil, fundamental, médio, superior, pós):  \")\n",
    "        todos_usuarios[-1].update({'escolaridade':escolaridade})\n",
    "\n",
    "    return \"Usuário cadastrado.\"\n",
    "\n",
    "def buscarUsuario(todos_usuarios:list,bateu_tudo = False,**kwargs):\n",
    "    lista_opcoes_bateram =[]\n",
    "    opcoes = [item for item in kwargs]\n",
    "\n",
    "    #O primeiro item que ele achar vai ser o \"item-chave\" (vai buscar primeiro ele, e a partir dele os outros)\n",
    "\n",
    "    for item_opcoes in opcoes:\n",
    "        for item in todos_usuarios:\n",
    "            try:\n",
    "                if item[item_opcoes] == kwargs[item_opcoes]:\n",
    "                    lista_opcoes_bateram.append(item_opcoes)\n",
    "                    if len(lista_opcoes_bateram) != 0:\n",
    "                        break\n",
    "            except:\n",
    "                pass\n",
    "        if len(lista_opcoes_bateram) != 0:\n",
    "            break\n",
    "    \n",
    "    #Do primeiro item que bateu, tem que fazer uma lista de itens que batem com ele (sublista)\n",
    "\n",
    "    lista_encontrados = []\n",
    "    for item in todos_usuarios:\n",
    "        try:\n",
    "            if item[lista_opcoes_bateram[0]] == kwargs[lista_opcoes_bateram[0]]:\n",
    "                lista_encontrados.append(item)\n",
    "        except:\n",
    "            pass\n",
    "\n",
    "    #Achar o proximo kwargs e fazer a mesma coisa\n",
    "    try:\n",
    "        index = opcoes.index(lista_opcoes_bateram[0])\n",
    "    except IndexError:\n",
    "        return \"Itens fornecidos não batem com nenhum cadastro.\"\n",
    "\n",
    "    dicionario_item_opcoes = {}\n",
    "    for item in lista_encontrados:\n",
    "        for item_opcoes in opcoes[index+1:]:\n",
    "            try:\n",
    "                if item[item_opcoes] == kwargs[item_opcoes]:\n",
    "                    lista_opcoes_bateram.append(item_opcoes)\n",
    "            except:\n",
    "                pass\n",
    "        dicionario_item_opcoes[lista_encontrados.index(item)] = lista_opcoes_bateram\n",
    "        lista_opcoes_bateram = [lista_opcoes_bateram[0]]\n",
    "\n",
    "    for x,y in dicionario_item_opcoes.items():\n",
    "        if bateu_tudo == False:\n",
    "            return f\"{lista_encontrados[x]} - Itens que bateram {y}\"\n",
    "\n",
    "        else:\n",
    "            if len(y) ==  len(kwargs):\n",
    "                return f\"{lista_encontrados[x]} - Todos os itens fornecidos bateram.\"\n",
    "            else:\n",
    "                return \"Não foi encontrado um cadastro que bate com todos os itens fornecidos.\"\n",
    "\n",
    "def modificarUsuario(todos_usuarios:list, item_busca, **kwargs):\n",
    "        for item in todos_usuarios:\n",
    "                if item['email'] ==  item_busca or item['cpf'] == item_busca:\n",
    "                        for item_arg in kwargs:\n",
    "                            if str(item_arg) in item.keys():\n",
    "                                item.update(dict(kwargs.items()))\n",
    "                            else:\n",
    "                                validacao = input(\"Item que foi pedido a modificação não existe, deseja incluí-lo? (S/N)\").upper()\n",
    "                                while validacao != \"S\" and validacao != \"N\":\n",
    "                                    validacao = input(\"Opção inválida, deseja incluí-lo? (S/N)\").upper()\n",
    "                                if validacao == \"S\":\n",
    "                                    item.update(dict(kwargs.items()))\n",
    "                        print (f\"{item['nome']} modificado com sucesso.\")\n",
    "\n",
    "\n",
    "def visualizarUsuarios (todos_usuarios:list):\n",
    "    for item in todos_usuarios:\n",
    "        print(item)\n",
    "\n",
    "lista = [{'nome': 'João', 'cpf': 32131414, 'email': 'fernanda2@gmail.com', 'data_nasc': '14/02/1996', 'profissao': 'cientista', 'escolaridade': 'infantil'}, {'nome': 'Fernanda', 'cpf': 32131414, 'email': 'fernanda2@gmail.com'}, {'nome': 'Fernanda', 'cpf': 32131414, 'email': 'fernanda3@gmail.com', 'data_nasc': '12/06/1996', 'profissao': 'cientista', 'escolaridade': 'superior'}]\n",
    "# cadastrarUsuario (lista,\"Fernanda\",32131414,\"fernanda3@gmail.com\")\n",
    "buscarUsuario(lista,False,nome = \"João\",data_nasc = '12/06/1996')\n",
    "# modificarUsuario(lista,'fernanda2@gmail.com',profissao =\"ferrdds\")\n",
    "# visualizarUsuarios(lista)\n",
    "# print(lista)\n"
   ]
  },
  {
   "cell_type": "code",
   "execution_count": 2,
   "metadata": {},
   "outputs": [
    {
     "name": "stdout",
     "output_type": "stream",
     "text": [
      "{'nome': 'João', 'cpf': 32131414, 'email': 'fernanda2@gmail.com', 'data_nasc': '14/02/1996', 'profissao': 'cientista', 'escolaridade': 'infantil'} - Itens que bateram ['nome', 'profissao']\n",
      "{'nome': 'Fernanda', 'cpf': 32131414, 'email': 'fernanda3@gmail.com', 'data_nasc': '12/06/1996', 'profissao': 'cientista', 'escolaridade': 'superior'} - Itens que bateram ['data_nasc', 'profissao']\n"
     ]
    }
   ],
   "source": [
    "#Versão 2\n",
    "\n",
    "def cadastrarUsuario (todos_usuarios:list,nome:str, cpf:int, email:str):\n",
    "    if cpf in list(todos_usuarios) :\n",
    "        raise Exception(\"CPF já cadastrado.\") #ERRADO!!\n",
    "    if email in list(todos_usuarios):\n",
    "        raise Exception(\"Email já cadastrado.\") #Fazer um try/except quando chamar essa função\n",
    "    todos_usuarios.append({'nome':nome, 'cpf': cpf, 'email': email})\n",
    "\n",
    "    validacao_lista =[]\n",
    "    for i in range(3):\n",
    "        opcoes_validacao = [\"data de nascimento\", \"profissão\", \"escolaridade\"]\n",
    "        validacao = input(f\"Deseja incluir {opcoes_validacao[i]} no cadastro de {nome}? (S/N): \").upper()\n",
    "        while validacao != \"S\" and validacao != \"N\":\n",
    "            validacao = input(f\"Opção inválida, deseja incluir {opcoes_validacao[i]} no cadastro de {nome}? (S/N): \").upper()\n",
    "        validacao_lista.append(validacao)\n",
    "    \n",
    "    if validacao_lista[0] == \"S\":\n",
    "        data_nasc =  input(f\"Insira a data de nascimento de {nome}:  \")\n",
    "        todos_usuarios[-1].update({'data_nasc':data_nasc})\n",
    "\n",
    "    if validacao_lista[1] == \"S\":\n",
    "        profissao =  input(f\"Insira a profissão de {nome}:  \")\n",
    "        todos_usuarios[-1].update({'profissao':profissao})\n",
    "\n",
    "    if validacao_lista[2] == \"S\":\n",
    "        lista_escolaridade = [\"infantil\", \"fundamental\", \"médio\", \"superior\", \"pós\"]\n",
    "        escolaridade =  input(f\"Insira a escolaridade de {nome} -> (infantil, fundamental, médio, superior, pós):  \")\n",
    "        while escolaridade not in lista_escolaridade:\n",
    "            escolaridade =  input(f\"Opção inválida -> (infantil, fundamental, médio, superior, pós):  \")\n",
    "        todos_usuarios[-1].update({'escolaridade':escolaridade})\n",
    "\n",
    "    return \"Usuário cadastrado.\"\n",
    "\n",
    "def buscarUsuario(todos_usuarios:list,bateu_tudo = False,**kwargs):\n",
    "    lista_opcoes_bateram =[]\n",
    "    lista_encontrados = []\n",
    "    opcoes = [item for item in kwargs]\n",
    "\n",
    "    for item_opcoes in opcoes:\n",
    "        for item in todos_usuarios:\n",
    "            try:\n",
    "                if item[item_opcoes] == kwargs[item_opcoes]:\n",
    "                    lista_encontrados.append(item)\n",
    "            except:\n",
    "                pass\n",
    "  \n",
    "    if len(lista_encontrados) == 0:\n",
    "        return \"Não foi encontrado um cadastro que bate com todos os itens fornecidos.\"\n",
    " \n",
    "    dicionario_item_opcoes = {}\n",
    "    for item in lista_encontrados:\n",
    "        for item_opcoes in opcoes:\n",
    "            try:\n",
    "                if item[item_opcoes] == kwargs[item_opcoes]:\n",
    "                    lista_opcoes_bateram.append(item_opcoes)\n",
    "            except:\n",
    "                pass\n",
    "        dicionario_item_opcoes[lista_encontrados.index(item)] = lista_opcoes_bateram\n",
    "        lista_opcoes_bateram = []\n",
    "    \n",
    "    for x,y in dicionario_item_opcoes.items():\n",
    "        if bateu_tudo == False:\n",
    "            print (f\"{lista_encontrados[x]} - Itens que bateram {y}\")\n",
    "\n",
    "        else:\n",
    "            if len(y) ==  len(kwargs):\n",
    "                return f\"{lista_encontrados[x]} - Todos os itens fornecidos bateram.\"\n",
    "            else:\n",
    "                return \"Não foi encontrado um cadastro que bate com todos os itens fornecidos.\"\n",
    "\n",
    "def modificarUsuario(todos_usuarios:list, item_busca, **kwargs):\n",
    "        for item in todos_usuarios:\n",
    "                if item['email'] ==  item_busca or item['cpf'] == item_busca:\n",
    "                        for item_arg in kwargs:\n",
    "                            if str(item_arg) in item.keys():\n",
    "                                item.update(dict(kwargs.items()))\n",
    "                            else:\n",
    "                                validacao = input(\"Item que foi pedido a modificação não existe, deseja incluí-lo? (S/N)\").upper()\n",
    "                                while validacao != \"S\" and validacao != \"N\":\n",
    "                                    validacao = input(\"Opção inválida, deseja incluí-lo? (S/N)\").upper()\n",
    "                                if validacao == \"S\":\n",
    "                                    item.update(dict(kwargs.items()))\n",
    "                        print (f\"{item['nome']} modificado com sucesso.\")\n",
    "\n",
    "\n",
    "def visualizarUsuarios (todos_usuarios:list):\n",
    "    for item in todos_usuarios:\n",
    "        print(item)\n",
    "\n",
    "lista = [{'nome': 'João', 'cpf': 32131414, 'email': 'fernanda2@gmail.com', 'data_nasc': '14/02/1996', 'profissao': 'cientista', 'escolaridade': 'infantil'}, {'nome': 'Fernanda', 'cpf': 32131414, 'email': 'fernanda2@gmail.com'}, {'nome': 'Fernanda', 'cpf': 32131414, 'email': 'fernanda3@gmail.com', 'data_nasc': '12/06/1996', 'profissao': 'cientista', 'escolaridade': 'superior'}]\n",
    "# cadastrarUsuario (lista,\"Fernanda\",321343564,\"fernanda3@gmail.com\")\n",
    "buscarUsuario(lista,False,nome = \"João\",data_nasc = '12/06/1996',profissao = 'cientista')\n",
    "# modificarUsuario(lista,'fernanda2@gmail.com',profissao =\"ferrdds\")\n",
    "# visualizarUsuarios(lista)\n",
    "# print(lista)"
   ]
  }
 ],
 "metadata": {
  "kernelspec": {
   "display_name": "Python 3.6.13 ('dsfs')",
   "language": "python",
   "name": "python3"
  },
  "language_info": {
   "codemirror_mode": {
    "name": "ipython",
    "version": 3
   },
   "file_extension": ".py",
   "mimetype": "text/x-python",
   "name": "python",
   "nbconvert_exporter": "python",
   "pygments_lexer": "ipython3",
   "version": "3.6.13"
  },
  "orig_nbformat": 4,
  "vscode": {
   "interpreter": {
    "hash": "76598fc9c6bb65fd476139221b204b3eabf86e849c6757e508689cac37d36b9f"
   }
  }
 },
 "nbformat": 4,
 "nbformat_minor": 2
}
