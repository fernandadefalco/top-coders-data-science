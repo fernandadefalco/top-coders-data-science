{
 "cells": [
  {
   "cell_type": "markdown",
   "metadata": {},
   "source": [
    "## 🎯 Exercícios 🎯 <a class=\"anchor\" id=\"cinco\"></a>\n",
    "\n",
    "Faça uma função que recebe uma quantidade arbitrária de variáveis de qualquer tipo e retorna uma string contendo todas as suas representações separadas por espaço."
   ]
  },
  {
   "cell_type": "code",
   "execution_count": 8,
   "metadata": {},
   "outputs": [
    {
     "data": {
      "text/plain": [
       "'1 2 3 4 True'"
      ]
     },
     "execution_count": 8,
     "metadata": {},
     "output_type": "execute_result"
    }
   ],
   "source": [
    "def separaEspaco(*args):\n",
    "    string_espaco = ''\n",
    "\n",
    "    for item in args[0:-1]:\n",
    "        string_espaco += str(item) + ' '\n",
    "    string_espaco += str(args[-1])\n",
    "    \n",
    "    return string_espaco\n",
    "\n",
    "separaEspaco(1,2,3,4,True)"
   ]
  },
  {
   "cell_type": "markdown",
   "metadata": {},
   "source": [
    "Modifique a função anterior para incluir um parâmetro opcional indicando o caractere de separação entre as variáveis. Seu valor padrão será 1 espaço em branco. "
   ]
  },
  {
   "cell_type": "code",
   "execution_count": 36,
   "metadata": {},
   "outputs": [
    {
     "data": {
      "text/plain": [
       "'1h2h3hTrue'"
      ]
     },
     "execution_count": 36,
     "metadata": {},
     "output_type": "execute_result"
    }
   ],
   "source": [
    "def separaString(*args, separador = \" \"):\n",
    "    string_espaco = ''\n",
    "\n",
    "    for item in args[0:-1]:\n",
    "        string_espaco += str(item) + str(separador)\n",
    "    string_espaco += str(args[-1])\n",
    "    \n",
    "    return string_espaco\n",
    "\n",
    "separaString(1,2,3,True, separador = \"h\")"
   ]
  },
  {
   "cell_type": "markdown",
   "metadata": {},
   "source": [
    "Faça sua própria função \"sorted\", que recebe uma coleção de elementos e retorna uma nova lista contendo os elementos ordenados. Ela deverá receber:\n",
    "\n",
    "* uma lista ou uma tupla (obrigatório).\n",
    "* um booleano indicando se deve ser ordem inversa ou não (opcional, com valor padrão).\n",
    "* uma função (sim, isso pode!) que será usada para comparar os valores da lista entre eles (opcional, com valor padrão null) - caso seja null, utilize os operadores \">\" ou \"<\" para fazer as comparações.\n",
    "\n",
    "Faça tratamento de exceção da maneira que julgar melhor para lidar com a possibilidade da lista de entrada conter elementos que não podem ser comparados entre si (como str e int, por exemplo).\n"
   ]
  },
  {
   "cell_type": "code",
   "execution_count": 11,
   "metadata": {},
   "outputs": [
    {
     "name": "stdout",
     "output_type": "stream",
     "text": [
      "f não é um número válido\n",
      "Número não válido\n",
      "Número não válido\n"
     ]
    },
    {
     "data": {
      "text/plain": [
       "[54, 43, 23, 9.3, 8, 4.0, 1, 0]"
      ]
     },
     "execution_count": 11,
     "metadata": {},
     "output_type": "execute_result"
    }
   ],
   "source": [
    "def ordenacao_elementos(conjunto_elementos:list or tuple):\n",
    "    conjunto_elementos = list(conjunto_elementos)\n",
    "    maximo = conjunto_elementos[0]\n",
    "    lista_ordenada = []\n",
    "\n",
    "    while len(conjunto_elementos) != 0:  \n",
    "        maximo = conjunto_elementos[0]     \n",
    "        for item in conjunto_elementos:\n",
    "            if item > maximo:\n",
    "                maximo = item\n",
    "        conjunto_elementos.remove(maximo)\n",
    "        lista_ordenada.append(maximo)\n",
    "    return lista_ordenada\n",
    "\n",
    "def sorted_Fernanda(conjunto_elementos, ordem_inversa = False, funcao = None):\n",
    "    conjunto_elementos = list(conjunto_elementos)\n",
    "\n",
    "    for i in range(len(conjunto_elementos)):  \n",
    "        try:\n",
    "            int(conjunto_elementos[i])\n",
    "        except:\n",
    "            print(f\"{conjunto_elementos[i]} não é um número válido\")\n",
    "            while True:\n",
    "                try:\n",
    "                    conjunto_elementos[i] = float(input(\"Insira novamente: \"))\n",
    "                except:\n",
    "                    print(\"Número não válido\")\n",
    "                    continue\n",
    "                else:\n",
    "                    break\n",
    "\n",
    "    if ordem_inversa == True:\n",
    "        return ordenacao_elementos(conjunto_elementos)\n",
    "    else:\n",
    "        return ordenacao_elementos(conjunto_elementos)[::-1]\n",
    "\n",
    "sorted_Fernanda([1,54,43,23,\"f\",9.3,0,8],True)"
   ]
  },
  {
   "cell_type": "code",
   "execution_count": 18,
   "metadata": {},
   "outputs": [
    {
     "data": {
      "text/plain": [
       "[0, 2, 3, 5, 7]"
      ]
     },
     "execution_count": 18,
     "metadata": {},
     "output_type": "execute_result"
    }
   ],
   "source": [
    "#Bubble Sort\n",
    "\n",
    "def ordena(colecao):\n",
    "    for i in range(len(colecao)):\n",
    "        trocado = False\n",
    "        for j in range(len(colecao)-1-i):\n",
    "            if colecao[j] > colecao[j+1]: #Compara esquerda com o da direita\n",
    "                trocado = True\n",
    "                colecao[j], colecao[j+1] = colecao[j+1], colecao[j] #Faz a troca\n",
    "        if not trocado:\n",
    "            return colecao     \n",
    "    return colecao\n",
    "\n",
    "ordena([3,7,2,0,5])"
   ]
  },
  {
   "cell_type": "markdown",
   "metadata": {},
   "source": [
    "Faça um programa com um menu que permita cadastrar novos usuários, buscar usuários já existentes, modificar um usuário existente e visualizar todos os usuários.\n",
    "\n",
    "Cada usuário deve ter, obrigatoriamente:\n",
    "\n",
    "* Nome\n",
    "* CPF (deve ser **único**)\n",
    "* e-mail (deve ser **único**)\n",
    "\n",
    "Opcionalmente, usuários podem ter:\n",
    "\n",
    "* Data de nascimento\n",
    "* Profissão\n",
    "* Escolaridade (a ser escolhida de uma lista: infantil, fundamental, médio, superior, pós)\n",
    "\n",
    "Para a busca, podemos passar um ou mais dos dados (ex: apenas nome, ou data de nascimento + profissão), e teremos um parâmetro opcional indicando se os resultados mostrarão usuários que bateram com pelo menos 1 dos parâmetros buscados (ex: nome igual, mas CPF diferente) ou apenas que bateram com todas as informações passadas.\n",
    "\n",
    "Estruture seu programa para utilizar funções com parâmetros opcionais.\n",
    "\n",
    "Desafio 1: faça toda a comunicação de erros entre funções e diferentes partes do programa via **exceções**.\n",
    "\n",
    "Desafio 2: adicione **persistência** ao seu programa em formato .json\n",
    "\n",
    "Desafio 3: **valide CPF, e-mail e data de nascimento** (apenas CPFs válidos, e-mail apenas com caracteres válidos, e 1 única arroba que contenha caracteres antes e depois, data de nascimento obrigatoriamente no formato aaaa-mm-dd e que não aceite dias inválidos, como 30 de fevereiro).\n",
    "\n",
    "Desafio 4: acrescente ao desafio 3 a verificação para 29/fev e ano bissexto."
   ]
  },
  {
   "cell_type": "code",
   "execution_count": 3,
   "metadata": {},
   "outputs": [
    {
     "data": {
      "text/plain": [
       "\"{'nome': 'João', 'cpf': 32131414, 'email': 'fernanda2@gmail.com', 'data_nasc': '14/02/1996', 'profissao': 'cientista', 'escolaridade': 'infantil'} - Itens que bateram ['nome']\""
      ]
     },
     "execution_count": 3,
     "metadata": {},
     "output_type": "execute_result"
    }
   ],
   "source": [
    "def cadastrarUsuario (todos_usuarios:list,nome:str, cpf:int, email:str):\n",
    "    if cpf in list(todos_usuarios) :\n",
    "        raise Exception(\"CPF já cadastrado.\")\n",
    "    if email in list(todos_usuarios):\n",
    "        raise Exception(\"Email já cadastrado.\") #Fazer um try/except quando chamar essa função\n",
    "    todos_usuarios.append({'nome':nome, 'cpf': cpf, 'email': email})\n",
    "\n",
    "    validacao_lista =[]\n",
    "    for i in range(3):\n",
    "        opcoes_validacao = [\"data de nascimento\", \"profissão\", \"escolaridade\"]\n",
    "        validacao = input(f\"Deseja incluir {opcoes_validacao[i]} no cadastro de {nome}? (S/N): \").upper()\n",
    "        while validacao != \"S\" and validacao != \"N\":\n",
    "            validacao = input(f\"Opção inválida, deseja incluir {opcoes_validacao[i]} no cadastro de {nome}? (S/N): \").upper()\n",
    "        validacao_lista.append(validacao)\n",
    "    \n",
    "    if validacao_lista[0] == \"S\":\n",
    "        data_nasc =  input(f\"Insira a data de nascimento de {nome}:  \")\n",
    "        todos_usuarios[-1].update({'data_nasc':data_nasc})\n",
    "\n",
    "    if validacao_lista[1] == \"S\":\n",
    "        profissao =  input(f\"Insira a profissão de {nome}:  \")\n",
    "        todos_usuarios[-1].update({'profissao':profissao})\n",
    "\n",
    "    if validacao_lista[2] == \"S\":\n",
    "        lista_escolaridade = [\"infantil\", \"fundamental\", \"médio\", \"superior\", \"pós\"]\n",
    "        escolaridade =  input(f\"Insira a escolaridade de {nome} -> (infantil, fundamental, médio, superior, pós):  \")\n",
    "        while escolaridade not in lista_escolaridade:\n",
    "            escolaridade =  input(f\"Opção inválida -> (infantil, fundamental, médio, superior, pós):  \")\n",
    "        todos_usuarios[-1].update({'escolaridade':escolaridade})\n",
    "\n",
    "    return \"Usuário cadastrado.\"\n",
    "\n",
    "def buscarUsuario(todos_usuarios:list,bateu_tudo = False,**kwargs):\n",
    "    lista_opcoes_bateram =[]\n",
    "    opcoes = [item for item in kwargs]\n",
    "\n",
    "    #O primeiro item que ele achar vai ser o \"item-chave\" (vai buscar primeiro ele, e a partir dele os outros)\n",
    "\n",
    "    for item_opcoes in opcoes:\n",
    "        for item in todos_usuarios:\n",
    "            try:\n",
    "                if item[item_opcoes] == kwargs[item_opcoes]:\n",
    "                    lista_opcoes_bateram.append(item_opcoes)\n",
    "                    if len(lista_opcoes_bateram) != 0:\n",
    "                        break\n",
    "            except:\n",
    "                pass\n",
    "        if len(lista_opcoes_bateram) != 0:\n",
    "            break\n",
    "    \n",
    "    #Do primeiro item que bateu, tem que fazer uma lista de itens que batem com ele (sublista)\n",
    "\n",
    "    lista_encontrados = []\n",
    "    for item in todos_usuarios:\n",
    "        try:\n",
    "            if item[lista_opcoes_bateram[0]] == kwargs[lista_opcoes_bateram[0]]:\n",
    "                lista_encontrados.append(item)\n",
    "        except:\n",
    "            pass\n",
    "\n",
    "    #Achar o proximo kwargs e fazer a mesma coisa\n",
    "    try:\n",
    "        index = opcoes.index(lista_opcoes_bateram[0])\n",
    "    except IndexError:\n",
    "        return \"Itens fornecidos não batem com nenhum cadastro.\"\n",
    "\n",
    "    dicionario_item_opcoes = {}\n",
    "    for item in lista_encontrados:\n",
    "        for item_opcoes in opcoes[index+1:]:\n",
    "            try:\n",
    "                if item[item_opcoes] == kwargs[item_opcoes]:\n",
    "                    lista_opcoes_bateram.append(item_opcoes)\n",
    "            except:\n",
    "                pass\n",
    "        dicionario_item_opcoes[lista_encontrados.index(item)] = lista_opcoes_bateram\n",
    "        lista_opcoes_bateram = [lista_opcoes_bateram[0]]\n",
    "\n",
    "    for x,y in dicionario_item_opcoes.items():\n",
    "        if bateu_tudo == False:\n",
    "            return f\"{lista_encontrados[x]} - Itens que bateram {y}\"\n",
    "\n",
    "        else:\n",
    "            if len(y) ==  len(kwargs):\n",
    "                return f\"{lista_encontrados[x]} - Todos os itens fornecidos bateram.\"\n",
    "            else:\n",
    "                return \"Não foi encontrado um cadastro que bate com todos os itens fornecidos.\"\n",
    "\n",
    "def modificarUsuario(todos_usuarios:list, item_busca, **kwargs):\n",
    "        for item in todos_usuarios:\n",
    "                if item['email'] ==  item_busca or item['cpf'] == item_busca:\n",
    "                        for item_arg in kwargs:\n",
    "                            if str(item_arg) in item.keys():\n",
    "                                item.update(dict(kwargs.items()))\n",
    "                            else:\n",
    "                                validacao = input(\"Item que foi pedido a modificação não existe, deseja incluí-lo? (S/N)\").upper()\n",
    "                                while validacao != \"S\" and validacao != \"N\":\n",
    "                                    validacao = input(\"Opção inválida, deseja incluí-lo? (S/N)\").upper()\n",
    "                                if validacao == \"S\":\n",
    "                                    item.update(dict(kwargs.items()))\n",
    "                        print (f\"{item['nome']} modificado com sucesso.\")\n",
    "\n",
    "\n",
    "def visualizarUsuarios (todos_usuarios:list):\n",
    "    for item in todos_usuarios:\n",
    "        print(item)\n",
    "\n",
    "lista = [{'nome': 'João', 'cpf': 32131414, 'email': 'fernanda2@gmail.com', 'data_nasc': '14/02/1996', 'profissao': 'cientista', 'escolaridade': 'infantil'}, {'nome': 'Fernanda', 'cpf': 32131414, 'email': 'fernanda2@gmail.com'}, {'nome': 'Fernanda', 'cpf': 32131414, 'email': 'fernanda3@gmail.com', 'data_nasc': '12/06/1996', 'profissao': 'cientista', 'escolaridade': 'superior'}]\n",
    "# cadastrarUsuario (lista,\"Fernanda\",32131414,\"fernanda3@gmail.com\")\n",
    "buscarUsuario(lista,False,nome = \"João\",data_nasc = '12/06/1996')\n",
    "# modificarUsuario(lista,'fernanda2@gmail.com',profissao =\"ferrdds\")\n",
    "# visualizarUsuarios(lista)\n",
    "# print(lista)\n"
   ]
  },
  {
   "cell_type": "code",
   "execution_count": 2,
   "metadata": {},
   "outputs": [
    {
     "name": "stdout",
     "output_type": "stream",
     "text": [
      "{'nome': 'João', 'cpf': 32131414, 'email': 'fernanda2@gmail.com', 'data_nasc': '14/02/1996', 'profissao': 'cientista', 'escolaridade': 'infantil'} - Itens que bateram ['nome', 'profissao']\n",
      "{'nome': 'Fernanda', 'cpf': 32131414, 'email': 'fernanda3@gmail.com', 'data_nasc': '12/06/1996', 'profissao': 'cientista', 'escolaridade': 'superior'} - Itens que bateram ['data_nasc', 'profissao']\n"
     ]
    }
   ],
   "source": [
    "#Versão 2\n",
    "\n",
    "def cadastrarUsuario (todos_usuarios:list,nome:str, cpf:int, email:str):\n",
    "    if cpf in list(todos_usuarios) :\n",
    "        raise Exception(\"CPF já cadastrado.\") #ERRADO!!\n",
    "    if email in list(todos_usuarios):\n",
    "        raise Exception(\"Email já cadastrado.\") #Fazer um try/except quando chamar essa função\n",
    "    todos_usuarios.append({'nome':nome, 'cpf': cpf, 'email': email})\n",
    "\n",
    "    validacao_lista =[]\n",
    "    for i in range(3):\n",
    "        opcoes_validacao = [\"data de nascimento\", \"profissão\", \"escolaridade\"]\n",
    "        validacao = input(f\"Deseja incluir {opcoes_validacao[i]} no cadastro de {nome}? (S/N): \").upper()\n",
    "        while validacao != \"S\" and validacao != \"N\":\n",
    "            validacao = input(f\"Opção inválida, deseja incluir {opcoes_validacao[i]} no cadastro de {nome}? (S/N): \").upper()\n",
    "        validacao_lista.append(validacao)\n",
    "    \n",
    "    if validacao_lista[0] == \"S\":\n",
    "        data_nasc =  input(f\"Insira a data de nascimento de {nome}:  \")\n",
    "        todos_usuarios[-1].update({'data_nasc':data_nasc})\n",
    "\n",
    "    if validacao_lista[1] == \"S\":\n",
    "        profissao =  input(f\"Insira a profissão de {nome}:  \")\n",
    "        todos_usuarios[-1].update({'profissao':profissao})\n",
    "\n",
    "    if validacao_lista[2] == \"S\":\n",
    "        lista_escolaridade = [\"infantil\", \"fundamental\", \"médio\", \"superior\", \"pós\"]\n",
    "        escolaridade =  input(f\"Insira a escolaridade de {nome} -> (infantil, fundamental, médio, superior, pós):  \")\n",
    "        while escolaridade not in lista_escolaridade:\n",
    "            escolaridade =  input(f\"Opção inválida -> (infantil, fundamental, médio, superior, pós):  \")\n",
    "        todos_usuarios[-1].update({'escolaridade':escolaridade})\n",
    "\n",
    "    return \"Usuário cadastrado.\"\n",
    "\n",
    "def buscarUsuario(todos_usuarios:list,bateu_tudo = False,**kwargs):\n",
    "    lista_opcoes_bateram =[]\n",
    "    lista_encontrados = []\n",
    "    opcoes = [item for item in kwargs]\n",
    "\n",
    "    for item_opcoes in opcoes:\n",
    "        for item in todos_usuarios:\n",
    "            try:\n",
    "                if item[item_opcoes] == kwargs[item_opcoes]:\n",
    "                    lista_encontrados.append(item)\n",
    "            except:\n",
    "                pass\n",
    "  \n",
    "    if len(lista_encontrados) == 0:\n",
    "        return \"Não foi encontrado um cadastro que bate com todos os itens fornecidos.\"\n",
    " \n",
    "    dicionario_item_opcoes = {}\n",
    "    for item in lista_encontrados:\n",
    "        for item_opcoes in opcoes:\n",
    "            try:\n",
    "                if item[item_opcoes] == kwargs[item_opcoes]:\n",
    "                    lista_opcoes_bateram.append(item_opcoes)\n",
    "            except:\n",
    "                pass\n",
    "        dicionario_item_opcoes[lista_encontrados.index(item)] = lista_opcoes_bateram\n",
    "        lista_opcoes_bateram = []\n",
    "    \n",
    "    for x,y in dicionario_item_opcoes.items():\n",
    "        if bateu_tudo == False:\n",
    "            print (f\"{lista_encontrados[x]} - Itens que bateram {y}\")\n",
    "\n",
    "        else:\n",
    "            if len(y) ==  len(kwargs):\n",
    "                return f\"{lista_encontrados[x]} - Todos os itens fornecidos bateram.\"\n",
    "            else:\n",
    "                return \"Não foi encontrado um cadastro que bate com todos os itens fornecidos.\"\n",
    "\n",
    "def modificarUsuario(todos_usuarios:list, item_busca, **kwargs):\n",
    "        for item in todos_usuarios:\n",
    "                if item['email'] ==  item_busca or item['cpf'] == item_busca:\n",
    "                        for item_arg in kwargs:\n",
    "                            if str(item_arg) in item.keys():\n",
    "                                item.update(dict(kwargs.items()))\n",
    "                            else:\n",
    "                                validacao = input(\"Item que foi pedido a modificação não existe, deseja incluí-lo? (S/N)\").upper()\n",
    "                                while validacao != \"S\" and validacao != \"N\":\n",
    "                                    validacao = input(\"Opção inválida, deseja incluí-lo? (S/N)\").upper()\n",
    "                                if validacao == \"S\":\n",
    "                                    item.update(dict(kwargs.items()))\n",
    "                        print (f\"{item['nome']} modificado com sucesso.\")\n",
    "\n",
    "\n",
    "def visualizarUsuarios (todos_usuarios:list):\n",
    "    for item in todos_usuarios:\n",
    "        print(item)\n",
    "\n",
    "lista = [{'nome': 'João', 'cpf': 32131414, 'email': 'fernanda2@gmail.com', 'data_nasc': '14/02/1996', 'profissao': 'cientista', 'escolaridade': 'infantil'}, {'nome': 'Fernanda', 'cpf': 32131414, 'email': 'fernanda2@gmail.com'}, {'nome': 'Fernanda', 'cpf': 32131414, 'email': 'fernanda3@gmail.com', 'data_nasc': '12/06/1996', 'profissao': 'cientista', 'escolaridade': 'superior'}]\n",
    "# cadastrarUsuario (lista,\"Fernanda\",321343564,\"fernanda3@gmail.com\")\n",
    "buscarUsuario(lista,False,nome = \"João\",data_nasc = '12/06/1996',profissao = 'cientista')\n",
    "# modificarUsuario(lista,'fernanda2@gmail.com',profissao =\"ferrdds\")\n",
    "# visualizarUsuarios(lista)\n",
    "# print(lista)"
   ]
  }
 ],
 "metadata": {
  "kernelspec": {
   "display_name": "Python 3.6.13 ('dsfs')",
   "language": "python",
   "name": "python3"
  },
  "language_info": {
   "codemirror_mode": {
    "name": "ipython",
    "version": 3
   },
   "file_extension": ".py",
   "mimetype": "text/x-python",
   "name": "python",
   "nbconvert_exporter": "python",
   "pygments_lexer": "ipython3",
   "version": "3.6.13"
  },
  "orig_nbformat": 4,
  "vscode": {
   "interpreter": {
    "hash": "76598fc9c6bb65fd476139221b204b3eabf86e849c6757e508689cac37d36b9f"
   }
  }
 },
 "nbformat": 4,
 "nbformat_minor": 2
}
