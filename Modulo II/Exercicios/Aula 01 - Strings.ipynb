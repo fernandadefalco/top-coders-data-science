{
 "cells": [
  {
   "cell_type": "markdown",
   "metadata": {},
   "source": [
    "## 🎯 Exercícios 🎯 <a class=\"anchor\" id=\"cinco\"></a>"
   ]
  },
  {
   "cell_type": "markdown",
   "metadata": {},
   "source": [
    "Faça um programa que peça para o usuário digitar uma palavra e imprima cada letra em uma linha."
   ]
  },
  {
   "cell_type": "code",
   "execution_count": 2,
   "metadata": {},
   "outputs": [
    {
     "name": "stdout",
     "output_type": "stream",
     "text": [
      "t\n",
      "e\n",
      "s\n",
      "t\n",
      "e\n"
     ]
    }
   ],
   "source": [
    "palavra = input(\"Insira uma palavra: \")\n",
    "\n",
    "for letra in palavra:\n",
    "    print(letra)"
   ]
  },
  {
   "cell_type": "markdown",
   "metadata": {},
   "source": [
    "Altere o exercício anterior para que a string copiada alterne entre letras maiúsculas e minúsculas.\n",
    "\n",
    "Exemplo: se o usuário digitar \"latex\" o programa deve imprimir \"LaTeX\"."
   ]
  },
  {
   "cell_type": "code",
   "execution_count": 17,
   "metadata": {},
   "outputs": [
    {
     "name": "stdout",
     "output_type": "stream",
     "text": [
      "PyThOn\n"
     ]
    }
   ],
   "source": [
    "palavra = input(\"Insira uma palavra: \")\n",
    "palavra_nova = \"\"\n",
    "\n",
    "for i in range(0, len(palavra)):\n",
    "    if i %2 == 0:\n",
    "        palavra_nova += palavra[i].upper()\n",
    "    else:\n",
    "        palavra_nova += palavra[i].lower()\n",
    "\n",
    "print(palavra_nova)"
   ]
  },
  {
   "cell_type": "markdown",
   "metadata": {},
   "source": [
    "Faça um programa que pede para o usuário digitar uma palavra e cria uma nova string igual, porém com espaço entre cada letra, depois imprima a nova string:\n",
    "\n",
    "Exemplo: se o usuário digitar \"python\" o programa deve imprimir \"p y t h o n \""
   ]
  },
  {
   "cell_type": "code",
   "execution_count": 9,
   "metadata": {},
   "outputs": [
    {
     "name": "stdout",
     "output_type": "stream",
     "text": [
      "p y t h o n\n"
     ]
    }
   ],
   "source": [
    "palavra = input(\"Insira uma palavra: \")\n",
    "separador = \" \"\n",
    "\n",
    "print(separador.join(palavra))"
   ]
  },
  {
   "cell_type": "markdown",
   "metadata": {},
   "source": [
    "Faça uma função que receba uma string e retorne uma nova string substituindo:\n",
    "\n",
    "'a' por '4'\n",
    "\n",
    "'e' por '3'\n",
    "\n",
    "'i' por '1'\n",
    "\n",
    "'t' por '7'"
   ]
  },
  {
   "cell_type": "code",
   "execution_count": 18,
   "metadata": {},
   "outputs": [
    {
     "data": {
      "text/plain": [
       "'31743174'"
      ]
     },
     "execution_count": 18,
     "metadata": {},
     "output_type": "execute_result"
    }
   ],
   "source": [
    "def substituirString(palavra:str) -> str:\n",
    "    palavra = palavra.replace(\"a\",\"4\").replace(\"e\",\"3\").replace(\"i\",\"1\").replace(\"t\",\"7\")\n",
    "\n",
    "    return palavra\n",
    "\n",
    "\n",
    "palavra = input(\"Insira uma palavra: \")\n",
    "substituirString(palavra)"
   ]
  },
  {
   "cell_type": "markdown",
   "metadata": {},
   "source": [
    "Faça uma função que recebe uma string e retorna ela ao contrário.\n",
    "\n",
    "Exemplo: Recebe \"teste\" e retorna \"etset\"."
   ]
  },
  {
   "cell_type": "code",
   "execution_count": 20,
   "metadata": {},
   "outputs": [
    {
     "data": {
      "text/plain": [
       "'nohtyp'"
      ]
     },
     "execution_count": 20,
     "metadata": {},
     "output_type": "execute_result"
    }
   ],
   "source": [
    "def inverteString(palavra):\n",
    "    return palavra[::-1]\n",
    "\n",
    "palavra = input(\"Insira uma palavra: \")\n",
    "inverteString(palavra)"
   ]
  },
  {
   "cell_type": "markdown",
   "metadata": {},
   "source": [
    "Agora faça uma função que recebe uma palavra e diz se ela é um palíndromo, ou seja, se ela é igual a ela mesma ao contrário.\n",
    "\n",
    "Dica: use a função do exercício anterior."
   ]
  },
  {
   "cell_type": "code",
   "execution_count": 22,
   "metadata": {},
   "outputs": [
    {
     "name": "stdout",
     "output_type": "stream",
     "text": [
      "É palíndromo\n"
     ]
    }
   ],
   "source": [
    "def palindromo(palavra):\n",
    "    if inverteString(palavra) == palavra:\n",
    "        print(\"É palíndromo\")\n",
    "    else:\n",
    "        print(\"Não é palíndromo\")\n",
    "\n",
    "palavra = input(\"Insira uma palavra: \").lower()\n",
    "palindromo(palavra)"
   ]
  },
  {
   "cell_type": "markdown",
   "metadata": {},
   "source": [
    "Faça uma função que receba um texto e uma palavra, então verifique se a palavra está no texto, retornando True ou False.\n",
    "\n"
   ]
  },
  {
   "cell_type": "code",
   "execution_count": 25,
   "metadata": {},
   "outputs": [
    {
     "data": {
      "text/plain": [
       "False"
      ]
     },
     "execution_count": 25,
     "metadata": {},
     "output_type": "execute_result"
    }
   ],
   "source": [
    "def contemPalavra(texto, palavra):\n",
    "    return palavra in texto\n",
    "\n",
    "texto = input(\"Insira um texto: \")\n",
    "palavra = input(\"Insira uma palavra: \")\n",
    "\n",
    "contemPalavra(texto, palavra)"
   ]
  },
  {
   "cell_type": "markdown",
   "metadata": {},
   "source": [
    "Faça uma função que receba uma string que contém tanto números quanto letras e caracteres especiais, e que separe as letras em uma variável e os números em outra (os caracteres especiais podem ser descartados). Ao final a função deve imprimir as duas variáveis."
   ]
  },
  {
   "cell_type": "code",
   "execution_count": 71,
   "metadata": {},
   "outputs": [
    {
     "name": "stdout",
     "output_type": "stream",
     "text": [
      "3478\n",
      "aabds\n"
     ]
    }
   ],
   "source": [
    "def classificarString(texto):\n",
    "    letras = \"\"\n",
    "    numeros = \"\"\n",
    "\n",
    "    for caractere in texto:\n",
    "        if caractere.isdigit():\n",
    "            numeros += caractere\n",
    "        elif caractere.isalpha():\n",
    "            letras += caractere\n",
    "\n",
    "    print(numeros)\n",
    "    print(letras)\n",
    "\n",
    "classificarString(\"aabd3478#$s\")"
   ]
  },
  {
   "cell_type": "code",
   "execution_count": 72,
   "metadata": {},
   "outputs": [
    {
     "name": "stdout",
     "output_type": "stream",
     "text": [
      "3478\n",
      "aabds\n"
     ]
    }
   ],
   "source": [
    "#Outra forma\n",
    "def classificarString(texto):\n",
    "    letras = \"\"\n",
    "    numeros = \"\"\n",
    "\n",
    "    for caractere in texto:\n",
    "        if \"0\" <= caractere <= \"9\":\n",
    "            numeros += caractere\n",
    "        elif \"a\" <= caractere <= \"z\" or \"A\" <= caractere <= \"Z\" :\n",
    "            letras += caractere\n",
    "\n",
    "    print(numeros)\n",
    "    print(letras)\n",
    "\n",
    "classificarString(\"aabd3478#$s\")"
   ]
  },
  {
   "cell_type": "markdown",
   "metadata": {},
   "source": [
    "Desafio - Faça uma função que receba uma string e uma letra e:\n",
    "\n",
    "a. imprima quantas vezes a letra aparece na string;\n",
    "\n",
    "b. imprima todas as posições em que a letra aparece na string;\n",
    "\n",
    "c. retorne a distância entre a primeira e a última aparição dessa letra na string."
   ]
  },
  {
   "cell_type": "code",
   "execution_count": 13,
   "metadata": {},
   "outputs": [
    {
     "name": "stdout",
     "output_type": "stream",
     "text": [
      "A letra a aparece 5 vezes na string, nas posições [17, 20, 50, 52, 55]\n"
     ]
    },
    {
     "data": {
      "text/plain": [
       "' A distância entre a primeira e a última aparição dessa letra é 38'"
      ]
     },
     "execution_count": 13,
     "metadata": {},
     "output_type": "execute_result"
    }
   ],
   "source": [
    "def stringFunctions (string,letra):\n",
    "    count = 0\n",
    "\n",
    "    for i in string:\n",
    "        if i == letra:\n",
    "            count += 1\n",
    "            posicoes = [i for i, x in enumerate(string) if x == letra]\n",
    "    distancia = posicoes[-1] - posicoes[0]\n",
    "\n",
    "    \n",
    "    print(f\"A letra {letra} aparece {count} vezes na string, nas posições {posicoes}\")\n",
    "    return f\" A distância entre a primeira e a última aparição dessa letra é {distancia}\"\n",
    "\n",
    "string = input(\"Insira uma frase/palavra: \")\n",
    "letra = input(\"Insira uma letra: \")\n",
    "\n",
    "stringFunctions(string,letra)\n",
    "    "
   ]
  },
  {
   "cell_type": "code",
   "execution_count": 79,
   "metadata": {},
   "outputs": [
    {
     "name": "stdout",
     "output_type": "stream",
     "text": [
      "5\n",
      "[0, 3, 4, 5, 6]\n",
      "6\n"
     ]
    }
   ],
   "source": [
    "#Outra forma\n",
    "def desafio1(texto,letra):\n",
    "    posicoes = []\n",
    "    lista_texto = list(texto)\n",
    "    offset = 0\n",
    "\n",
    "    while letra in lista_texto:\n",
    "        posicoes.append(lista_texto.index(letra) + offset)\n",
    "        lista_texto.remove(letra)\n",
    "        offset +=1\n",
    "\n",
    "    distancia = posicoes[-1] - posicoes[0]\n",
    "\n",
    "    print(texto.count(letra))\n",
    "    print(posicoes)\n",
    "    print(distancia)\n",
    "\n",
    "desafio1(\"abcaaaabc\",\"a\")"
   ]
  },
  {
   "cell_type": "markdown",
   "metadata": {},
   "source": [
    "Desafio - faça uma função que criptografa uma mensagem substituindo cada letra pela letra oposta do dicionário:\n",
    "\n",
    "'a' por 'z'\n",
    "\n",
    "'b' por 'y'\n",
    "\n",
    "'c' por 'x'"
   ]
  },
  {
   "cell_type": "code",
   "execution_count": 69,
   "metadata": {},
   "outputs": [
    {
     "data": {
      "text/plain": [
       "'zyxwvutsrqponmlkjihgfedcba'"
      ]
     },
     "execution_count": 69,
     "metadata": {},
     "output_type": "execute_result"
    }
   ],
   "source": [
    "import string\n",
    "\n",
    "def criptografar(mensagem:str):\n",
    "    lista_alpha = list(string.ascii_lowercase)\n",
    "    lista_pares = []\n",
    "\n",
    "    for i in range(len(lista_alpha)):\n",
    "        lista_pares.append([lista_alpha[i],lista_alpha[-(i+1)]])\n",
    "\n",
    "    mensagem_final = \"\"\n",
    "    for letra in mensagem:\n",
    "        for j in range(len(lista_pares)):\n",
    "            if lista_pares[j][0] == letra:\n",
    "                mensagem_final += lista_pares[j][1]\n",
    "\n",
    "    return mensagem_final\n",
    "\n",
    "criptografar(\"abcdefghijklmnopqrstuvwxyz\")"
   ]
  }
 ],
 "metadata": {
  "interpreter": {
   "hash": "8c8fc2e0ba7427c85b89a036e5ebd06d6d068590f5141f2ce1bbe7a31f46c41e"
  },
  "kernelspec": {
   "display_name": "Python 3.8.5 ('base')",
   "language": "python",
   "name": "python3"
  },
  "language_info": {
   "codemirror_mode": {
    "name": "ipython",
    "version": 3
   },
   "file_extension": ".py",
   "mimetype": "text/x-python",
   "name": "python",
   "nbconvert_exporter": "python",
   "pygments_lexer": "ipython3",
   "version": "3.8.5"
  },
  "orig_nbformat": 4
 },
 "nbformat": 4,
 "nbformat_minor": 2
}
