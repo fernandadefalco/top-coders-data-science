{
 "cells": [
  {
   "cell_type": "markdown",
   "metadata": {},
   "source": [
    "# Exercícios\n",
    "\n",
    "Faça uma função que recebe um número ```exp```. Ela deverá retornar uma função que recebe um número ```base``` e retorna base elevado a exp.\n",
    "\n",
    "Experimente as duas abordagens: utilizando funções internas formando uma clausura e utilizando lambda."
   ]
  },
  {
   "cell_type": "code",
   "execution_count": 8,
   "metadata": {},
   "outputs": [
    {
     "data": {
      "text/plain": [
       "16"
      ]
     },
     "execution_count": 8,
     "metadata": {},
     "output_type": "execute_result"
    }
   ],
   "source": [
    "def expoente(exp):\n",
    "    def potencia(base):\n",
    "        return base**exp\n",
    "    return potencia\n",
    "\n",
    "quadrado = expoente(2)\n",
    "quadrado(4)\n"
   ]
  },
  {
   "cell_type": "code",
   "execution_count": 6,
   "metadata": {},
   "outputs": [
    {
     "data": {
      "text/plain": [
       "16"
      ]
     },
     "execution_count": 6,
     "metadata": {},
     "output_type": "execute_result"
    }
   ],
   "source": [
    "def expoente(exp):\n",
    "    return lambda base: base**exp\n",
    "\n",
    "quadrado = expoente(2)\n",
    "quadrado(4)"
   ]
  },
  {
   "cell_type": "markdown",
   "metadata": {},
   "source": [
    "Faça uma função que recebe uma string ```prefixo```. Ela retornará uma função que recebe uma string e a retorna prefixada. "
   ]
  },
  {
   "cell_type": "code",
   "execution_count": 9,
   "metadata": {},
   "outputs": [
    {
     "data": {
      "text/plain": [
       "'prefixo'"
      ]
     },
     "execution_count": 9,
     "metadata": {},
     "output_type": "execute_result"
    }
   ],
   "source": [
    "def prefixado(prefixo):\n",
    "    def prefixador(palavra):\n",
    "        return prefixo + palavra\n",
    "    return prefixador\n",
    "\n",
    "prefixo = prefixado('pre')\n",
    "prefixo('fixo')"
   ]
  },
  {
   "cell_type": "markdown",
   "metadata": {},
   "source": [
    "Faça uma função que recebe um número inteiro ```x```. Ela deverá retornar uma função que recebe um número ```n``` e retorna o n-ésimo número da tabuada de x."
   ]
  },
  {
   "cell_type": "code",
   "execution_count": 13,
   "metadata": {},
   "outputs": [
    {
     "data": {
      "text/plain": [
       "20"
      ]
     },
     "execution_count": 13,
     "metadata": {},
     "output_type": "execute_result"
    }
   ],
   "source": [
    "def tabuada(x):\n",
    "    def multiplicador(n):\n",
    "        return n*x\n",
    "    return multiplicador\n",
    "\n",
    "cinco = tabuada(5)\n",
    "cinco(4)\n"
   ]
  },
  {
   "cell_type": "markdown",
   "metadata": {},
   "source": [
    "Faça o bom e velho fatorial recursivo."
   ]
  },
  {
   "cell_type": "code",
   "execution_count": 3,
   "metadata": {},
   "outputs": [
    {
     "name": "stdout",
     "output_type": "stream",
     "text": [
      "1\n",
      "1\n",
      "2\n",
      "6\n",
      "24\n"
     ]
    }
   ],
   "source": [
    "def fatorial(n):\n",
    "    if n == 0:\n",
    "        return 1\n",
    "    return fatorial(n-1) * n\n",
    "\n",
    "for i in range(5):\n",
    "    print(fatorial(i))      "
   ]
  },
  {
   "cell_type": "markdown",
   "metadata": {},
   "source": [
    "Faça o fatorial com recursão de cauda. O cálculo deverá ocorrer nos parâmetros das chamadas recursivas."
   ]
  },
  {
   "cell_type": "code",
   "execution_count": 7,
   "metadata": {},
   "outputs": [
    {
     "data": {
      "text/plain": [
       "120"
      ]
     },
     "execution_count": 7,
     "metadata": {},
     "output_type": "execute_result"
    }
   ],
   "source": [
    "def fatorial(n, n1= 1):\n",
    "    if n == 0:\n",
    "        return n1\n",
    "    return fatorial(n-1, n*n1)\n",
    "\n",
    "fatorial(5)"
   ]
  },
  {
   "cell_type": "markdown",
   "metadata": {},
   "source": [
    "-----\n",
    "\n",
    "Para o restante dos exercícios, utilize map, filter e reduce **e/ou** compreensão de lista. Tendo tempo, seria legal desenvolver ambas as soluções."
   ]
  },
  {
   "cell_type": "markdown",
   "metadata": {},
   "source": [
    "Dada uma string contendo um nome completo, retorne uma lista contendo as iniciais do nome."
   ]
  },
  {
   "cell_type": "code",
   "execution_count": 10,
   "metadata": {},
   "outputs": [
    {
     "name": "stdout",
     "output_type": "stream",
     "text": [
      "DS\n"
     ]
    }
   ],
   "source": [
    "def iniciais(string):\n",
    "    return string.isupper()\n",
    "\n",
    "string = 'Data Science'\n",
    "letras_iniciais = list(filter(iniciais, string))\n",
    "print(''.join(letras_iniciais))"
   ]
  },
  {
   "cell_type": "markdown",
   "metadata": {},
   "source": [
    "Dada a hora do dia (ignore os minutos), utilize filter para descobrir os restaurantes abertos:\n"
   ]
  },
  {
   "cell_type": "code",
   "execution_count": 55,
   "metadata": {},
   "outputs": [
    {
     "name": "stdout",
     "output_type": "stream",
     "text": [
      "[{'nome': 'Churrascaria do Ronaldo', 'horario_abertura': 11, 'horario_fechamento': 14}, {'nome': 'Doceria da Mara', 'horario_abertura': 8, 'horario_fechamento': 20}]\n"
     ]
    }
   ],
   "source": [
    "restaurantes = [\n",
    "  {\n",
    "    \"nome\": 'Pizzaria do Mario',\n",
    "    \"horario_abertura\": 14,\n",
    "    \"horario_fechamento\": 23\n",
    "  },\n",
    "  {\n",
    "    \"nome\": 'Churrascaria do Ronaldo',\n",
    "    \"horario_abertura\": 11,\n",
    "    \"horario_fechamento\": 14,\n",
    "  },\n",
    "  {\n",
    "    \"nome\": 'Bar do Zeca',\n",
    "    \"horario_abertura\": 12,\n",
    "    \"horario_fechamento\": 2,\n",
    "  },\n",
    "  {\n",
    "    \"nome\": 'Doceria da Mara',\n",
    "    \"horario_abertura\": 8,\n",
    "    \"horario_fechamento\": 20,\n",
    "  }\n",
    "]\n",
    "\n",
    "\n",
    "hora = int(input(\"Insira a hora atual: \"))\n",
    "\n",
    "rest_abertos = list(filter(lambda x: x['horario_abertura'] <= hora,restaurantes))\n",
    "print(rest_abertos)"
   ]
  },
  {
   "cell_type": "markdown",
   "metadata": {},
   "source": [
    "Faça uma função que recebe um endereço de e-mail e verifica se ele está na base de dados fornecida. Caso esteja, retorne os dados dele. Caso contrário, retorne uma mensagem padrão.\n"
   ]
  },
  {
   "cell_type": "code",
   "execution_count": 61,
   "metadata": {},
   "outputs": [
    {
     "name": "stdout",
     "output_type": "stream",
     "text": [
      "[{'nome': 'Carla', 'idade': 37, 'cpf': '123.456.789-03', 'email': 'carla@bol.com.br'}]\n"
     ]
    }
   ],
   "source": [
    "usuarios = [\n",
    "  {\n",
    "    \"nome\": \"Zé\",\n",
    "    \"idade\": 20,\n",
    "    \"cpf\": \"123.456.789-01\",\n",
    "    \"email\": \"ze@uol.com.br\",\n",
    "  },\n",
    "  {\n",
    "    \"nome\": \"Maria\",\n",
    "    \"idade\": 27,\n",
    "    \"cpf\": \"123.456.789-02\",\n",
    "    \"email\": \"maria_meg_costa@outlook.com\",\n",
    "  },\n",
    "  {\n",
    "    \"nome\": \"Carla\",\n",
    "    \"idade\": 37,\n",
    "    \"cpf\": \"123.456.789-03\",\n",
    "    \"email\": \"carla@bol.com.br\",\n",
    "  },\n",
    "  {\n",
    "    \"nome\": \"Zeca\",\n",
    "    \"idade\": 36,\n",
    "    \"cpf\": \"123.456.789-03\",\n",
    "    \"email\": \"zecal3@msn.com\",\n",
    "  },\n",
    "  {\n",
    "    \"nome\": \"Mel\",\n",
    "    \"idade\": 16,\n",
    "    \"cpf\": \"123.456.789-03\",\n",
    "    \"email\": \"melsaf@gmail.com\",\n",
    "  }\n",
    "]\n",
    "\n",
    "\n",
    "email = input(\"Insira um email: \")\n",
    "validador_email = list(filter(lambda x:x[\"email\"] == email,usuarios))\n",
    "\n",
    "if len(validador_email) == 0:\n",
    "  print(\"Email não encontrado.\")\n",
    "else: \n",
    "  print(validador_email)"
   ]
  },
  {
   "cell_type": "markdown",
   "metadata": {},
   "source": [
    "Calcule a soma dos preços dos produtos do carrinho e aplique um frete de 15 reais sobre o resultado.\n"
   ]
  },
  {
   "cell_type": "code",
   "execution_count": 65,
   "metadata": {},
   "outputs": [
    {
     "name": "stdout",
     "output_type": "stream",
     "text": [
      "1322.99\n"
     ]
    }
   ],
   "source": [
    "def preco(dicionario):\n",
    "    return dicionario[\"quantidade\"]*dicionario[\"valorDaUnidade\"] \n",
    "\n",
    "carrinho = [\n",
    "  {\n",
    "    \"produto\": \"Camisa branca:\",\n",
    "    \"quantidade\": 4,\n",
    "    \"valorDaUnidade\": 25.50,\n",
    "  },\n",
    "  {\n",
    "    \"produto\": \"Calça jeans:\",\n",
    "    \"quantidade\": 2,\n",
    "    \"valorDaUnidade\": 180.25,\n",
    "  },\n",
    "  {\n",
    "    \"produto\": \"Jaqueta\",\n",
    "    \"quantidade\": 1,\n",
    "    \"valorDaUnidade\": 299.99,\n",
    "  },\n",
    "  {\n",
    "    \"produto\": \"Tênis de Corrida\",\n",
    "    \"quantidade\": 1,\n",
    "    \"valorDaUnidade\": 150.50,\n",
    "  },\n",
    "  {\n",
    "    \"produto\": \"Par de meias\",\n",
    "    \"quantidade\": 3,\n",
    "    \"valorDaUnidade\": 15.00,\n",
    "  },\n",
    "  {\n",
    "    \"produto\": \"Relógio esportivo\",\n",
    "    \"quantidade\": 1,\n",
    "    \"valorDaUnidade\": 350.00,\n",
    "  }\n",
    "]   \n",
    "\n",
    "preco_final = sum(list(map(preco,carrinho))) + 15\n",
    "\n",
    "print(preco_final)"
   ]
  },
  {
   "cell_type": "markdown",
   "metadata": {},
   "source": [
    "Gere uma lista de telefones já prefixada por +DDI:"
   ]
  },
  {
   "cell_type": "code",
   "execution_count": 78,
   "metadata": {},
   "outputs": [
    {
     "name": "stdout",
     "output_type": "stream",
     "text": [
      "['(55)99235790', '(55)94342678', '(33)90357790', '(358)99342578', '(52)88215857', '(352)37654864', '(56)43647344', '(33)34646346', '(20)32632864']\n"
     ]
    }
   ],
   "source": [
    "telefones = [\n",
    "  {\n",
    "    \"pais\": 'BR',\n",
    "    \"numero\": '99235790',\n",
    "  },\n",
    "  {\n",
    "    \"pais\": 'BR',\n",
    "    \"numero\": '94342678',\n",
    "  },\n",
    "  {\n",
    "    \"pais\": 'FR',\n",
    "    \"numero\": '90357790',\n",
    "  },\n",
    "  {\n",
    "    \"pais\": 'FIN',\n",
    "    \"numero\": '99342578',\n",
    "  },\n",
    "  {\n",
    "    \"pais\": 'MX',\n",
    "    \"numero\": '88215857',\n",
    "  },\n",
    "  {\n",
    "    \"pais\": 'LUX',\n",
    "    \"numero\": '37654864',\n",
    "  },\n",
    "  {\n",
    "    \"pais\": 'CL',\n",
    "    \"numero\": '43647344',\n",
    "  },\n",
    "  {\n",
    "    \"pais\": 'FR',\n",
    "    \"numero\": '34646346',\n",
    "  },\n",
    "  {\n",
    "    \"pais\": 'EG',\n",
    "    \"numero\": '32632864',\n",
    "  }\n",
    "]\n",
    "\n",
    "constddi = {\n",
    "  'BR': 55,\n",
    "  'CL': 56,\n",
    "  'EG': 20,\n",
    "  'FIN': 358,\n",
    "  'FR': 33,\n",
    "  'LUX': 352,\n",
    "  'MX': 52,\n",
    "}\n",
    "\n",
    "concatenada = list(map(lambda x:'('+str(constddi[x[\"pais\"]])+')'+x[\"numero\"],telefones))\n",
    "print(concatenada)\n"
   ]
  },
  {
   "cell_type": "markdown",
   "metadata": {},
   "source": [
    "Faça um programa que recebe uma área de atuação e um percentual de aumento. Aplique o percentual de aumento em todos os funcionários daquela área:\n",
    "\n",
    "```py\n",
    "funcionarios = [\n",
    "        {\n",
    "            nome: \"Renata\",\n",
    "            area: \"Vendas\",\n",
    "            salario: 3000,\n",
    "        },\n",
    "        {\n",
    "            nome: \"Marcela\",\n",
    "            area: \"Dev\",\n",
    "            salario: 8000,\n",
    "        },\n",
    "        {\n",
    "            nome: \"Jonas\",\n",
    "            area: \"Vendas\",\n",
    "            salario: 3500,\n",
    "        },\n",
    "        {\n",
    "            nome: \"Carlos\",\n",
    "            area: \"Vendas\",\n",
    "            salario: 2000,\n",
    "        },\n",
    "        {\n",
    "            nome: \"Rick\",\n",
    "            area: \"Dev\",\n",
    "            salario: 7000,\n",
    "        },\n",
    "        {\n",
    "            nome: \"Yara\",\n",
    "            area: \"Finanças\",\n",
    "            salario: 6500,\n",
    "        },\n",
    "        {\n",
    "            nome: \"Zeca\",\n",
    "            area: \"Finanças\",\n",
    "            salario: 5500,\n",
    "        },\n",
    "        {\n",
    "            nome: \"Josué\",\n",
    "            area: \"RH\",\n",
    "            salario: 4500,\n",
    "        },\n",
    "        {\n",
    "            nome: \"Sheila\",\n",
    "            area: \"RH\",\n",
    "            salario: 5500,\n",
    "        },\n",
    "        {\n",
    "            nome: \"Cleber\",\n",
    "            area: \"Finanças\",\n",
    "            salario: 4500,\n",
    "        },\n",
    "    ]\n",
    "```"
   ]
  },
  {
   "cell_type": "code",
   "execution_count": 103,
   "metadata": {},
   "outputs": [],
   "source": [
    "#reduce para agrupar\n"
   ]
  }
 ],
 "metadata": {
  "kernelspec": {
   "display_name": "Python 3.8.5 ('base')",
   "language": "python",
   "name": "python3"
  },
  "language_info": {
   "codemirror_mode": {
    "name": "ipython",
    "version": 3
   },
   "file_extension": ".py",
   "mimetype": "text/x-python",
   "name": "python",
   "nbconvert_exporter": "python",
   "pygments_lexer": "ipython3",
   "version": "3.8.5"
  },
  "orig_nbformat": 4,
  "vscode": {
   "interpreter": {
    "hash": "8c8fc2e0ba7427c85b89a036e5ebd06d6d068590f5141f2ce1bbe7a31f46c41e"
   }
  }
 },
 "nbformat": 4,
 "nbformat_minor": 2
}
