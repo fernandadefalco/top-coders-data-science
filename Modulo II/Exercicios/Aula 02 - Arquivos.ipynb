{
 "cells": [
  {
   "cell_type": "markdown",
   "metadata": {},
   "source": [
    "## 🎯 Exercícios 🎯 <a class=\"anchor\" id=\"cinco\"></a>\n",
    "\n",
    "\n",
    "Use o conteúdo ensinado até o momento para realizar os exercícios abaixo. \n",
    "\n",
    "Para os exercícios envolvendo números, você pode utilizar o arquivo ```numeros.txt``` fornecido junto deste _notebook_ para testá-los.\n",
    "\n",
    "-----\n",
    "\n",
    "Escreva um programa que lê um arquivo de texto contendo uma série de números separados por quebra de linha ('\\n') e os adiciona a uma lista. Imprima a lista na tela."
   ]
  },
  {
   "cell_type": "code",
   "execution_count": null,
   "metadata": {},
   "outputs": [],
   "source": [
    "with open ('Arquivos - Aula 02/numeros.txt','r') as arquivo:\n",
    "    conteudo = arquivo.read()\n",
    "    rows = conteudo.split('\\n') #Formou uma lista de strings\n",
    "    rows = [int(item) for item in rows]\n",
    "print(rows)"
   ]
  },
  {
   "cell_type": "markdown",
   "metadata": {},
   "source": [
    "Escreva um programa que lê um arquivo de texto contendo uma série de números separados por quebra de linha (```\\n```) e escreva na tela o somatório dos números."
   ]
  },
  {
   "cell_type": "code",
   "execution_count": null,
   "metadata": {},
   "outputs": [],
   "source": [
    "with open ('Arquivos - Aula 02/numeros.txt','r') as arquivo:\n",
    "    conteudo = arquivo.read()\n",
    "    rows = conteudo.split('\\n') #Formou uma lista de strings\n",
    "    rows = [int(item) for item in rows]\n",
    "print(sum(rows))"
   ]
  },
  {
   "cell_type": "markdown",
   "metadata": {},
   "source": [
    "Escreva um programa que lê um arquivo de texto contendo uma série de números separados por quebra de linha (```\\n```). Crie um novo arquivo onde você irá escrever \"primo\" ou \"não-primo\" na linha correspondente a cada número.\n",
    "\n",
    "Lembrete: um número primo é divisível apenas por 1 e por ele mesmo."
   ]
  },
  {
   "cell_type": "code",
   "execution_count": null,
   "metadata": {},
   "outputs": [],
   "source": [
    "def numPrimo(numero):\n",
    "    if numero > 1:\n",
    "        for i in range(2, int(numero/2)+1):\n",
    "            if (numero % i) == 0:\n",
    "                return \"não-primo\"\n",
    "                break\n",
    "        else:\n",
    "            return \"primo\"\n",
    "    else:\n",
    "        return \"não-primo\"\n",
    "\n",
    "with open ('Arquivos - Aula 02/numeros.txt','r') as arquivo:\n",
    "    conteudo = arquivo.read()\n",
    "    conteudo = conteudo.split('\\n')\n",
    "    with open('Arquivos - Aula 02/numeros_primos.txt','w') as arquivo_primo:\n",
    "        for item in conteudo:\n",
    "            if item != '\\n':\n",
    "                arquivo_primo.write(item + \"-\" + numPrimo(int(item))+\"\\n\")\n",
    "        "
   ]
  },
  {
   "cell_type": "code",
   "execution_count": null,
   "metadata": {},
   "outputs": [],
   "source": [
    "#Outra forma de fazer\n",
    "with open('Arquivos - Aula 02/numeros.txt','r') as fonte, open('Arquivos - Aula 02/numeros_final.txt','w') as destino:\n",
    "    for numero in fonte:\n",
    "        destino.write(numPrimo(numero)+'\\n')"
   ]
  },
  {
   "cell_type": "markdown",
   "metadata": {},
   "source": [
    "Faça um programa que abre o arquivo ```domcasmurro.txt``` e monta um **histograma** das palavras do livro - ou seja, uma contagem de frequência. Use um dicionário para isso. \n",
    "\n",
    "Ex: para a string 'eu não programo em Java, mas programo em Python', o dicionário ficaria:\n",
    "\n",
    "```python\n",
    "{\n",
    "    'eu': 1,\n",
    "    'não': 1,\n",
    "    'programo': 2,\n",
    "    'em': 2,\n",
    "    'mas': 1,\n",
    "    'Python': 1\n",
    "}\n",
    "```\n",
    "\n",
    "**Importante:** para que seu histograma seja confiável, você precisará \"limpar\" o texto original: diferenças entre maiúsculas e minúsculas devem ser eliminadas, e caracteres como sinais de pontuação e aspas devem ser removidos.\n",
    "\n",
    "**Importante²:** o parâmetro opcional ```encoding='utf-8'``` irá garantir que o arquivo deste exercício será interpretado corretamente pelo Python."
   ]
  },
  {
   "cell_type": "code",
   "execution_count": null,
   "metadata": {},
   "outputs": [],
   "source": [
    "arquivo = open('Arquivos - Aula 02/domcasmurro.txt', 'r', encoding='utf8')\n",
    "conteudo = arquivo.read().lower()\n",
    "conteudo = conteudo.split('\\n')\n",
    "\n",
    "while(\"\" in conteudo) :\n",
    "    conteudo.remove(\"\")\n",
    "\n",
    "conteudo_palavras = []\n",
    "for item in conteudo:\n",
    "    conteudo_palavras.append(item.split())\n",
    "\n",
    "#Lista com todas as palavras, sem espaço, sem caracteres especiais\n",
    "palavras = []\n",
    "for item in conteudo_palavras:\n",
    "    for palavra in item:\n",
    "        palavra_temp = \"\"\n",
    "        for letra in palavra:\n",
    "            if letra.isalnum():\n",
    "                palavra_temp += letra\n",
    "    \n",
    "        palavras.append(palavra_temp)\n",
    "\n",
    "#Incluindo no dicionário\n",
    "frequencias = {}\n",
    "for item in palavras:\n",
    "    if (item in frequencias):\n",
    "        frequencias[item] += 1\n",
    "    else:\n",
    "        frequencias[item] = 1\n",
    "\n",
    "print(frequencias)\n",
    "\n",
    "arquivo.close()"
   ]
  },
  {
   "cell_type": "markdown",
   "metadata": {},
   "source": [
    "Use o módulo ```csv``` recém-estudado para fazer os próximos exercícios.\n",
    "\n",
    "-----\n",
    "\n",
    "Faça um programa que pede para o usuário digitar a quantidade de provas aplicadas, a quantidade de alunos em uma turma e cada uma das notas. O seu programa deverá salvar as notas digitadas em um arquivo CSV onde cada linha representa um aluno e cada coluna representa uma prova."
   ]
  },
  {
   "cell_type": "code",
   "execution_count": null,
   "metadata": {},
   "outputs": [],
   "source": [
    "qtde_alunos = int(input(\"Insira a quantidade de alunos:\"))\n",
    "qtde_provas = int(input(\"Insira a quantidade de provas:\"))\n",
    "nome_aluno = \"\"\n",
    "tabela_notas = [[\"Número do Aluno\"]]\n",
    "\n",
    "for prova in range(1,qtde_provas+1):\n",
    "    tabela_notas[0].append(\"Prova\" + str(prova))\n",
    "\n",
    "for aluno in range(1,qtde_alunos+1):\n",
    "    nome_aluno = \"Aluno\" + str(aluno)\n",
    "    notas = []\n",
    "    notas.append(nome_aluno)\n",
    "    for prova in range(1,qtde_provas+1):\n",
    "        nota = float(input(f\"Insira a {prova}º nota do {aluno}º aluno: \"))\n",
    "        notas.append(nota)\n",
    "    tabela_notas.append(notas)\n",
    "\n",
    "# Cria o arquivo CSV\n",
    "arquivo = open('Arquivos - Aula 02/notasalunos.csv', 'w')\n",
    "\n",
    "# definindo as regras do nosso CSV:\n",
    "# ele será escrito no arquivo apontado pela variável 'arquivo'\n",
    "# seus elementos serão delimitados (delimiter) pelo símbolo ';'\n",
    "# suas linhas serão encerradas (lineterminator) por uma quebra de linha\n",
    "escritor = csv.writer(arquivo, delimiter=';', lineterminator='\\n')\n",
    "\n",
    "# escreve uma lista de listas em formato CSV:\n",
    "escritor.writerows(tabela_notas)\n",
    "\n",
    "# fecha e salva o arquivo\n",
    "arquivo.close()"
   ]
  },
  {
   "cell_type": "markdown",
   "metadata": {},
   "source": [
    "Faça um programa que carrega um arquivo CSV de notas (como o gerado pelo exercício anterior) e pede para o usuário digitar a nota mínima para aprovação. Ele deverá gerar um novo arquivo contendo as notas originais e 2 colunas adicionais: a média de cada aluno na primeira (com, no máximo, 2 casas decimais) e \"APR\" ou \"REP\" na segunda, indicando se a média atingiu o valor mínimo ou não."
   ]
  },
  {
   "cell_type": "code",
   "execution_count": null,
   "metadata": {},
   "outputs": [],
   "source": [
    "import csv\n",
    "\n",
    "with open ('Arquivos - Aula 02/notasalunos.csv', 'r') as arquivo:\n",
    "    nota_minima = float(input(\"Insira a nota mínima para aprovação: \"))\n",
    "    csv_conteudo = []\n",
    "    leitor = csv.reader(arquivo, delimiter = \";\")\n",
    "    for linha in leitor:\n",
    "        csv_conteudo.append(linha)\n",
    "    \n",
    "    csv_conteudo[0].extend([\"Média do aluno\", \"Situação\"])\n",
    "    \n",
    "\n",
    "    for i in range(1,len(csv_conteudo)):\n",
    "        soma = 0\n",
    "        for j in range(1,len(csv_conteudo[i])):\n",
    "            soma += float(csv_conteudo[i][j])\n",
    "        media = round(soma/(len(csv_conteudo)-1),2)\n",
    "        csv_conteudo[i].append(str(media))\n",
    "\n",
    "        if media >= nota_minima:\n",
    "            csv_conteudo[i].append(\"APR\")\n",
    "        else:\n",
    "            csv_conteudo[i].append(\"REP\")\n",
    "    \n",
    "    # Cria o arquivo CSV\n",
    "    arquivo_atualizado = open('Arquivos - Aula 02/notasalunos_atualizado.csv', 'w')\n",
    "    escritor = csv.writer(arquivo_atualizado, delimiter=';', lineterminator='\\n')\n",
    "    escritor.writerows(csv_conteudo)\n",
    "\n"
   ]
  },
  {
   "cell_type": "markdown",
   "metadata": {},
   "source": [
    "Faça um programa que abre o arquivo ```daily_IBM.csv``` e responda em qual data houve a maior oscilação de valor em um mesmo dia e quais foram os valores máximo e mínimo nessa data."
   ]
  },
  {
   "cell_type": "code",
   "execution_count": null,
   "metadata": {},
   "outputs": [],
   "source": [
    "import csv\n",
    "with open ('Arquivos - Aula 02/daily_IBM.csv', 'r') as arquivo:\n",
    "    leitor = csv.reader(arquivo, delimiter = \",\")\n",
    "    csv_conteudo = []\n",
    "    for linha in leitor:\n",
    "        csv_conteudo.append(linha)\n",
    "    \n",
    "    \n",
    "    lista_oscilacoes = []\n",
    "    for i in range(1,len(csv_conteudo)):\n",
    "        #Consideração da oscilação em módulo - para obtermos a que mais variou\n",
    "        oscilacao = abs(round(float(csv_conteudo[i][2])-float(csv_conteudo[i][3]),3))\n",
    "        lista_oscilacoes.append(oscilacao)\n",
    "\n",
    "    print(lista_oscilacoes)\n",
    "    indice_max = lista_oscilacoes.index(max(lista_oscilacoes)) +1\n",
    "    data = csv_conteudo[indice_max][0]\n",
    "    maximo = csv_conteudo[indice_max][2]\n",
    "    minimo = csv_conteudo[indice_max][3]\n",
    "    oscilacao_max = lista_oscilacoes[indice_max-1]\n",
    "\n",
    "    print(f\"A maior oscilação {oscilacao_max} foi em {data}, e teve valores máximo de {maximo} e minimo de {minimo}\")"
   ]
  },
  {
   "cell_type": "markdown",
   "metadata": {},
   "source": [
    "# Exercício final\n",
    "\n",
    "Incremente o seu exercício do histograma de palavras exportando o resultado para json."
   ]
  },
  {
   "cell_type": "code",
   "execution_count": null,
   "metadata": {},
   "outputs": [],
   "source": [
    "import json\n",
    "\n",
    "arquivo = open('Arquivos - Aula 02/domcasmurro.txt', 'r', encoding='utf8')\n",
    "conteudo = arquivo.read().lower()\n",
    "conteudo = conteudo.split('\\n')\n",
    "\n",
    "while(\"\" in conteudo) :\n",
    "    conteudo.remove(\"\")\n",
    "\n",
    "conteudo_palavras = []\n",
    "for item in conteudo:\n",
    "    conteudo_palavras.append(item.split())\n",
    "\n",
    "#Lista com todas as palavras, sem espaço, sem caracteres especiais\n",
    "palavras = []\n",
    "for item in conteudo_palavras:\n",
    "    for palavra in item:\n",
    "        palavra_temp = \"\"\n",
    "        for letra in palavra:\n",
    "            if letra.isalnum():\n",
    "                palavra_temp += letra\n",
    "    \n",
    "        palavras.append(palavra_temp)\n",
    "\n",
    "#Incluindo no dicionário\n",
    "frequencias = {}\n",
    "for item in palavras:\n",
    "    if (item in frequencias):\n",
    "        frequencias[item] += 1\n",
    "    else:\n",
    "        frequencias[item] = 1\n",
    "\n",
    "arquivo.close()\n",
    "\n",
    "with open('Arquivos - Aula 02/dados_domcasmurro_json.json','w', encoding='utf8') as arquivo_json:\n",
    "    arquivo_json.write(json.dumps(frequencias,ensure_ascii=False))\n"
   ]
  }
 ],
 "metadata": {
  "interpreter": {
   "hash": "8c8fc2e0ba7427c85b89a036e5ebd06d6d068590f5141f2ce1bbe7a31f46c41e"
  },
  "kernelspec": {
   "display_name": "Python 3.8.5 ('base')",
   "language": "python",
   "name": "python3"
  },
  "language_info": {
   "codemirror_mode": {
    "name": "ipython",
    "version": 3
   },
   "file_extension": ".py",
   "mimetype": "text/x-python",
   "name": "python",
   "nbconvert_exporter": "python",
   "pygments_lexer": "ipython3",
   "version": "3.8.5"
  },
  "orig_nbformat": 4
 },
 "nbformat": 4,
 "nbformat_minor": 2
}
