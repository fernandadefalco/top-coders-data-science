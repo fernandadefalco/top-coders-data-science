{
 "cells": [
  {
   "cell_type": "markdown",
   "metadata": {},
   "source": [
    "## Enunciado\n",
    "Para implementar o programa abaixo, tente empregar técnicas estudadas no módulo atual quando possível: tratamento de strings, manipulação de arquivos utilizando as bibliotecas auxiliares estudadas (`csv` e `json`), tratamento de exceção, diferentes formatos de parâmetro de função, compreensão de listas e/ou geradores, funções de alta ordem e lambda. Apesar de ser possível resolver boa parte dos problemas utilizando loops e técnicas do módulo anterior, você deixará de treinar os novos conceitos e perderá a oportunidade de receber feedback adequado sobre o seu aprendizado deste módulo."
   ]
  },
  {
   "cell_type": "markdown",
   "metadata": {},
   "source": [
    "Uma grande dificuldade de muitos músicos de garagem é encontrar outros músicos que toquem instrumentos diferentes, possuam gostos semelhantes e disponibilidade para formar conjuntos."
   ]
  },
  {
   "cell_type": "markdown",
   "metadata": {},
   "source": [
    "Vamos fazer um sistema para auxiliar na formação de bandas online! Em seu menu principal, o programa deverá oferecer as seguintes funcionalidades:\n",
    "- Cadastrar músicos\n",
    "- Buscar músicos\n",
    "- Modificar músicos\n",
    "- Montar bandas\n",
    "- Sair"
   ]
  },
  {
   "cell_type": "markdown",
   "metadata": {},
   "source": [
    "**No cadastro** devem ser digitadas as seguintes informações:\n",
    "\n",
    "- Nome (string contendo apenas letras e espaço)\n",
    "- E-mail (string contendo apenas letras, underscore (`_`), ponto (`.`), dígitos numéricos e, obrigatoriamente, exatamente 1 arroba (`@`))\n",
    "- Gêneros musicais (mínimo 1, usuário pode digitar quantos forem necessários)\n",
    "- Instrumentos (mínimo 1, usuário pode digitar quantos forem necessários)\n",
    "\n",
    "\n",
    "As entradas devem ser validadas seguindo as regras. O e-mail deve ser único: se ele já existe, o cadastro não deve ser concluído.\n",
    "\n",
    "DICA: padronize suas strings na hora de salvar em sua base para evitar que buscas sejam prejudicadas por divergências de maiúsculas e minúsculas."
   ]
  },
  {
   "cell_type": "markdown",
   "metadata": {},
   "source": [
    "**Na busca** o usuário deve passar pelo menos 1 das opções: nome, e-mail, gênero (digitar apenas 1) ou instrumento (digitar apenas 1). O usuário deve selecionar se os resultados devem bater com todas as informações digitadas ou pelo menos uma (ex: se o usuário digitar nome e instrumento, a busca pode ser por resultados contendo o nome E o instrumento vs o nome OU o instrumento)."
   ]
  },
  {
   "cell_type": "markdown",
   "metadata": {},
   "source": [
    "**Na modificação de um usuário**, será feita uma busca especificamente por e-mail. É permitido adicionar ou remover gêneros e instrumentos. Não é permitido mudar nome ou e-mail."
   ]
  },
  {
   "cell_type": "markdown",
   "metadata": {},
   "source": [
    "**Na opção de montar bandas**, o usuário deverá informar o número desejado de músicos, o instrumento de cada um dos músicos (1 por músico) e 1 gênero. O programa deverá exibir na tela todas as combinações possíveis de músicos (e-mail + instrumento)."
   ]
  },
  {
   "cell_type": "markdown",
   "metadata": {},
   "source": [
    "Ex: suponha que para o gênero 'heavy metal' a gente tenha os músicos ana@letscode.com.br (bateria), bruno@letscode.com.br (guitarra), carol@letscode.com.br (guitarra), danilo@letscode.com.br (baixo) e erasmo@letscode.com.br (baixo) e a busca seja:\n",
    "- Gênero: heavy metal\n",
    "- Quantidade: 3\n",
    "- Instrumento 1: guitarra\n",
    "- Instrumento 2: bateria\n",
    "- Instrumento 3: baixo\n",
    "\n",
    "A saída mostraria as seguintes combinações:\n",
    "```\n",
    "(bruno@letscode.com.br, guitarra) + (ana@letscode.com.br, bateria) + (danilo@letscode.com.br, baixo)\n",
    "(bruno@letscode.com.br, guitarra) + (ana@letscode.com.br, bateria) + (erasmo@letscode.com.br, baixo)\n",
    "(carol@letscode.com.br, guitarra) + (ana@letscode.com.br, bateria) + (danilo@letscode.com.br, baixo)\n",
    "(carol@letscode.com.br, guitarra) + (ana@letscode.com.br, bateria) + (erasmo@letscode.com.br, baixo)\n",
    "```"
   ]
  },
  {
   "cell_type": "markdown",
   "metadata": {},
   "source": [
    "A formatação para exibir esse resultado fica a seu critério.\n",
    "\n",
    "O seu programa deverá salvar todos os dados em formato de sua preferência para consulta posterior: JSON ou CSV.\n",
    "\n",
    "Caso opte por CSV, ele terá as colunas nome, e-mail, instrumentos (escreva os dados em formato de lista) e gêneros (escreva os dados em formato de lista). Ex:\n",
    "```\n",
    "ana;ana@letscode.com.br;['bateria', 'voz'];['hard rock', 'heavy metal']\n",
    "bruno;bruno@letscode.com.br;['guitarra'];['heavy metal', 'jazz']\n",
    "```\n",
    "Para o JSON, teremos uma lista de dicionários. As chaves dos dicionários correspondem às colunas do CSV. Alternativamente, você pode fazer um dicionário de dicionários, adotando o e-mail como chave, e o valor seria um dicionário contendo as outras 3 chaves.\n",
    "\n",
    "Lembre-se de garantir que seu programa sempre salva o arquivo quando for encerrado."
   ]
  },
  {
   "cell_type": "markdown",
   "metadata": {},
   "source": [
    "**Procedimento de entrega do projeto**: subir o arquivo .py (programa Python puro) ou .ipynb (Jupyter Notebook). Caso haja necessidade de subir múltiplos arquivos, salve-os em um .zip."
   ]
  }
 ],
 "metadata": {
  "kernelspec": {
   "display_name": "Python 3.10.5 64-bit (windows store)",
   "language": "python",
   "name": "python3"
  },
  "language_info": {
   "codemirror_mode": {
    "name": "ipython",
    "version": 3
   },
   "file_extension": ".py",
   "mimetype": "text/x-python",
   "name": "python",
   "nbconvert_exporter": "python",
   "pygments_lexer": "ipython3",
   "version": "3.10.5"
  },
  "orig_nbformat": 4,
  "vscode": {
   "interpreter": {
    "hash": "d8c2dbe515bb1e132c806da356eed840d95260b43840da4c22c4a5911b708884"
   }
  }
 },
 "nbformat": 4,
 "nbformat_minor": 2
}
