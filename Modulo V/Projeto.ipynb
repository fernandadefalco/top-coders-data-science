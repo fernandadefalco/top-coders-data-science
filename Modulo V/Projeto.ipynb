{
 "cells": [
  {
   "cell_type": "markdown",
   "metadata": {},
   "source": [
    "### Projeto 6 - Lufa Lufa ⚡🦡⚡\n",
    "\n",
    "- Bruno Santos Bezerra\n",
    "- Daniel Garcia Ribeiro\n",
    "- Fernanda Defalco\n",
    "- Guilherme Tyszka\n",
    "- Gustavo Perbone\n",
    "- Rodrigo Cruz\n",
    "\n",
    "\n"
   ]
  },
  {
   "cell_type": "markdown",
   "metadata": {},
   "source": [
    "_____\n",
    "Q1 - ESTATÍSTICA DESCRITIVA\n",
    "___"
   ]
  },
  {
   "cell_type": "markdown",
   "metadata": {},
   "source": [
    "- Base de Dados - Covid-19: https://brasil.io/dataset/covid19/caso_full/\n",
    "- API: https://brasil.io/api/dataset/covid19/caso_full/data\n",
    "- Dados completos para download: https://data.brasil.io/dataset/covid19/caso_full.csv.gz"
   ]
  },
  {
   "cell_type": "markdown",
   "metadata": {},
   "source": [
    "Colunas:\n",
    "\n",
    "- city: nome do município (pode estar em branco quando o registro é referente ao estado, pode ser preenchido com Importados/Indefinidos também).\n",
    "- city_ibge_code: código IBGE do local.\n",
    "- date: data de coleta dos dados no formato YYYY-MM-DD.\n",
    "- epidemiological_week: número da semana epidemiológica no formato YYYYWW.\n",
    "- estimated_population: população estimada para esse município/estado em 2020, segundo o IBGE. (acesse o script que faz o download e conversão dos dados de população).\n",
    "- estimated_population_2019: população estimada para esse município/estado em 2019, segundo o IBGE. ATENÇÃO: essa coluna possui valores desatualizados, prefira usar a coluna estimated_population.\n",
    "- is_last: campo pré-computado que diz se esse registro é o mais novo para esse local, pode ser True ou False (caso filtre por esse campo, use \n",
    "is_last=True ou is_last=False, não use o valor em minúsculas).\n",
    "- is_repeated: campo pré-computado que diz se as informações nesse registro foram publicadas pela Secretaria Estadual de Saúde no dia date ou se o dado é repetido do último dia em que o dado está disponível (igual ou anterior a date). Isso ocorre pois nem todas as secretarias publicam boletins todos os dias. Veja também o campo last_available_date.\n",
    "- last_available_confirmed: número de casos confirmados do último dia disponível igual ou anterior à data date.\n",
    "- last_available_confirmed_per_100k_inhabitants: número de casos confirmados por 100.000 habitantes (baseado em estimated_population) do último dia disponível igual ou anterior à data date.\n",
    "- last_available_date: data da qual o dado se refere.\n",
    "- last_available_death_rate: taxa de mortalidade (mortes / confirmados) do último dia disponível igual ou anterior à data date.\n",
    "- last_available_deaths: número de mortes do último dia disponível igual ou anterior à data date.\n",
    "- order_for_place: número que identifica a ordem do registro para este local. O registro referente ao primeiro boletim em que esse local aparecer será \n",
    "contabilizado como 1 e os demais boletins incrementarão esse valor.\n",
    "- place_type: tipo de local que esse registro descreve, pode ser city ou state.\n",
    "- state: sigla da unidade federativa, exemplo: SP.\n",
    "- new_confirmed: número de novos casos confirmados desde o último dia (note que caso is_repeated seja True, esse valor sempre será 0 e que esse valor pode ser negativo caso a SES remaneje os casos desse município para outro). - Delta de variação \n",
    "- new_deaths: número de novos óbitos desde o último dia (note que caso is_repeated seja True, esse valor sempre será 0 e que esse valor pode ser negativo caso a SES remaneje os casos desse município para outro).  - Delta de variação "
   ]
  },
  {
   "cell_type": "code",
   "execution_count": 2,
   "metadata": {},
   "outputs": [],
   "source": [
    "#Importando bibliotecas\n",
    "import pandas as pd\n",
    "import numpy as np\n",
    "import seaborn as sns\n",
    "import matplotlib.pyplot as plt\n",
    "import plotly.express as px\n",
    "from datetime import datetime, timedelta\n",
    "import statistics\n",
    "import warnings\n",
    "warnings.filterwarnings('ignore')\n",
    "from scipy import stats\n",
    "from statsmodels.tsa.seasonal import seasonal_decompose"
   ]
  },
  {
   "cell_type": "code",
   "execution_count": 3,
   "metadata": {},
   "outputs": [
    {
     "ename": "FileNotFoundError",
     "evalue": "[Errno 2] No such file or directory: 'caso_full.csv'",
     "output_type": "error",
     "traceback": [
      "\u001b[1;31m---------------------------------------------------------------------------\u001b[0m",
      "\u001b[1;31mFileNotFoundError\u001b[0m                         Traceback (most recent call last)",
      "\u001b[1;32mc:\\Users\\Fernanda\\Downloads\\Projeto_stats_FINAL_FINAL.ipynb Célula: 6\u001b[0m in \u001b[0;36m<cell line: 1>\u001b[1;34m()\u001b[0m\n\u001b[1;32m----> <a href='vscode-notebook-cell:/c%3A/Users/Fernanda/Downloads/Projeto_stats_FINAL_FINAL.ipynb#W5sZmlsZQ%3D%3D?line=0'>1</a>\u001b[0m df \u001b[39m=\u001b[39m pd\u001b[39m.\u001b[39;49mread_csv(\u001b[39m\"\u001b[39;49m\u001b[39mcaso_full.csv\u001b[39;49m\u001b[39m\"\u001b[39;49m)\n",
      "File \u001b[1;32mc:\\Users\\Fernanda\\anaconda3\\envs\\python3.8\\lib\\site-packages\\pandas\\util\\_decorators.py:311\u001b[0m, in \u001b[0;36mdeprecate_nonkeyword_arguments.<locals>.decorate.<locals>.wrapper\u001b[1;34m(*args, **kwargs)\u001b[0m\n\u001b[0;32m    305\u001b[0m \u001b[39mif\u001b[39;00m \u001b[39mlen\u001b[39m(args) \u001b[39m>\u001b[39m num_allow_args:\n\u001b[0;32m    306\u001b[0m     warnings\u001b[39m.\u001b[39mwarn(\n\u001b[0;32m    307\u001b[0m         msg\u001b[39m.\u001b[39mformat(arguments\u001b[39m=\u001b[39marguments),\n\u001b[0;32m    308\u001b[0m         \u001b[39mFutureWarning\u001b[39;00m,\n\u001b[0;32m    309\u001b[0m         stacklevel\u001b[39m=\u001b[39mstacklevel,\n\u001b[0;32m    310\u001b[0m     )\n\u001b[1;32m--> 311\u001b[0m \u001b[39mreturn\u001b[39;00m func(\u001b[39m*\u001b[39;49margs, \u001b[39m*\u001b[39;49m\u001b[39m*\u001b[39;49mkwargs)\n",
      "File \u001b[1;32mc:\\Users\\Fernanda\\anaconda3\\envs\\python3.8\\lib\\site-packages\\pandas\\io\\parsers\\readers.py:680\u001b[0m, in \u001b[0;36mread_csv\u001b[1;34m(filepath_or_buffer, sep, delimiter, header, names, index_col, usecols, squeeze, prefix, mangle_dupe_cols, dtype, engine, converters, true_values, false_values, skipinitialspace, skiprows, skipfooter, nrows, na_values, keep_default_na, na_filter, verbose, skip_blank_lines, parse_dates, infer_datetime_format, keep_date_col, date_parser, dayfirst, cache_dates, iterator, chunksize, compression, thousands, decimal, lineterminator, quotechar, quoting, doublequote, escapechar, comment, encoding, encoding_errors, dialect, error_bad_lines, warn_bad_lines, on_bad_lines, delim_whitespace, low_memory, memory_map, float_precision, storage_options)\u001b[0m\n\u001b[0;32m    665\u001b[0m kwds_defaults \u001b[39m=\u001b[39m _refine_defaults_read(\n\u001b[0;32m    666\u001b[0m     dialect,\n\u001b[0;32m    667\u001b[0m     delimiter,\n\u001b[1;32m   (...)\u001b[0m\n\u001b[0;32m    676\u001b[0m     defaults\u001b[39m=\u001b[39m{\u001b[39m\"\u001b[39m\u001b[39mdelimiter\u001b[39m\u001b[39m\"\u001b[39m: \u001b[39m\"\u001b[39m\u001b[39m,\u001b[39m\u001b[39m\"\u001b[39m},\n\u001b[0;32m    677\u001b[0m )\n\u001b[0;32m    678\u001b[0m kwds\u001b[39m.\u001b[39mupdate(kwds_defaults)\n\u001b[1;32m--> 680\u001b[0m \u001b[39mreturn\u001b[39;00m _read(filepath_or_buffer, kwds)\n",
      "File \u001b[1;32mc:\\Users\\Fernanda\\anaconda3\\envs\\python3.8\\lib\\site-packages\\pandas\\io\\parsers\\readers.py:575\u001b[0m, in \u001b[0;36m_read\u001b[1;34m(filepath_or_buffer, kwds)\u001b[0m\n\u001b[0;32m    572\u001b[0m _validate_names(kwds\u001b[39m.\u001b[39mget(\u001b[39m\"\u001b[39m\u001b[39mnames\u001b[39m\u001b[39m\"\u001b[39m, \u001b[39mNone\u001b[39;00m))\n\u001b[0;32m    574\u001b[0m \u001b[39m# Create the parser.\u001b[39;00m\n\u001b[1;32m--> 575\u001b[0m parser \u001b[39m=\u001b[39m TextFileReader(filepath_or_buffer, \u001b[39m*\u001b[39;49m\u001b[39m*\u001b[39;49mkwds)\n\u001b[0;32m    577\u001b[0m \u001b[39mif\u001b[39;00m chunksize \u001b[39mor\u001b[39;00m iterator:\n\u001b[0;32m    578\u001b[0m     \u001b[39mreturn\u001b[39;00m parser\n",
      "File \u001b[1;32mc:\\Users\\Fernanda\\anaconda3\\envs\\python3.8\\lib\\site-packages\\pandas\\io\\parsers\\readers.py:934\u001b[0m, in \u001b[0;36mTextFileReader.__init__\u001b[1;34m(self, f, engine, **kwds)\u001b[0m\n\u001b[0;32m    931\u001b[0m     \u001b[39mself\u001b[39m\u001b[39m.\u001b[39moptions[\u001b[39m\"\u001b[39m\u001b[39mhas_index_names\u001b[39m\u001b[39m\"\u001b[39m] \u001b[39m=\u001b[39m kwds[\u001b[39m\"\u001b[39m\u001b[39mhas_index_names\u001b[39m\u001b[39m\"\u001b[39m]\n\u001b[0;32m    933\u001b[0m \u001b[39mself\u001b[39m\u001b[39m.\u001b[39mhandles: IOHandles \u001b[39m|\u001b[39m \u001b[39mNone\u001b[39;00m \u001b[39m=\u001b[39m \u001b[39mNone\u001b[39;00m\n\u001b[1;32m--> 934\u001b[0m \u001b[39mself\u001b[39m\u001b[39m.\u001b[39m_engine \u001b[39m=\u001b[39m \u001b[39mself\u001b[39;49m\u001b[39m.\u001b[39;49m_make_engine(f, \u001b[39mself\u001b[39;49m\u001b[39m.\u001b[39;49mengine)\n",
      "File \u001b[1;32mc:\\Users\\Fernanda\\anaconda3\\envs\\python3.8\\lib\\site-packages\\pandas\\io\\parsers\\readers.py:1218\u001b[0m, in \u001b[0;36mTextFileReader._make_engine\u001b[1;34m(self, f, engine)\u001b[0m\n\u001b[0;32m   1214\u001b[0m     mode \u001b[39m=\u001b[39m \u001b[39m\"\u001b[39m\u001b[39mrb\u001b[39m\u001b[39m\"\u001b[39m\n\u001b[0;32m   1215\u001b[0m \u001b[39m# error: No overload variant of \"get_handle\" matches argument types\u001b[39;00m\n\u001b[0;32m   1216\u001b[0m \u001b[39m# \"Union[str, PathLike[str], ReadCsvBuffer[bytes], ReadCsvBuffer[str]]\"\u001b[39;00m\n\u001b[0;32m   1217\u001b[0m \u001b[39m# , \"str\", \"bool\", \"Any\", \"Any\", \"Any\", \"Any\", \"Any\"\u001b[39;00m\n\u001b[1;32m-> 1218\u001b[0m \u001b[39mself\u001b[39m\u001b[39m.\u001b[39mhandles \u001b[39m=\u001b[39m get_handle(  \u001b[39m# type: ignore[call-overload]\u001b[39;49;00m\n\u001b[0;32m   1219\u001b[0m     f,\n\u001b[0;32m   1220\u001b[0m     mode,\n\u001b[0;32m   1221\u001b[0m     encoding\u001b[39m=\u001b[39;49m\u001b[39mself\u001b[39;49m\u001b[39m.\u001b[39;49moptions\u001b[39m.\u001b[39;49mget(\u001b[39m\"\u001b[39;49m\u001b[39mencoding\u001b[39;49m\u001b[39m\"\u001b[39;49m, \u001b[39mNone\u001b[39;49;00m),\n\u001b[0;32m   1222\u001b[0m     compression\u001b[39m=\u001b[39;49m\u001b[39mself\u001b[39;49m\u001b[39m.\u001b[39;49moptions\u001b[39m.\u001b[39;49mget(\u001b[39m\"\u001b[39;49m\u001b[39mcompression\u001b[39;49m\u001b[39m\"\u001b[39;49m, \u001b[39mNone\u001b[39;49;00m),\n\u001b[0;32m   1223\u001b[0m     memory_map\u001b[39m=\u001b[39;49m\u001b[39mself\u001b[39;49m\u001b[39m.\u001b[39;49moptions\u001b[39m.\u001b[39;49mget(\u001b[39m\"\u001b[39;49m\u001b[39mmemory_map\u001b[39;49m\u001b[39m\"\u001b[39;49m, \u001b[39mFalse\u001b[39;49;00m),\n\u001b[0;32m   1224\u001b[0m     is_text\u001b[39m=\u001b[39;49mis_text,\n\u001b[0;32m   1225\u001b[0m     errors\u001b[39m=\u001b[39;49m\u001b[39mself\u001b[39;49m\u001b[39m.\u001b[39;49moptions\u001b[39m.\u001b[39;49mget(\u001b[39m\"\u001b[39;49m\u001b[39mencoding_errors\u001b[39;49m\u001b[39m\"\u001b[39;49m, \u001b[39m\"\u001b[39;49m\u001b[39mstrict\u001b[39;49m\u001b[39m\"\u001b[39;49m),\n\u001b[0;32m   1226\u001b[0m     storage_options\u001b[39m=\u001b[39;49m\u001b[39mself\u001b[39;49m\u001b[39m.\u001b[39;49moptions\u001b[39m.\u001b[39;49mget(\u001b[39m\"\u001b[39;49m\u001b[39mstorage_options\u001b[39;49m\u001b[39m\"\u001b[39;49m, \u001b[39mNone\u001b[39;49;00m),\n\u001b[0;32m   1227\u001b[0m )\n\u001b[0;32m   1228\u001b[0m \u001b[39massert\u001b[39;00m \u001b[39mself\u001b[39m\u001b[39m.\u001b[39mhandles \u001b[39mis\u001b[39;00m \u001b[39mnot\u001b[39;00m \u001b[39mNone\u001b[39;00m\n\u001b[0;32m   1229\u001b[0m f \u001b[39m=\u001b[39m \u001b[39mself\u001b[39m\u001b[39m.\u001b[39mhandles\u001b[39m.\u001b[39mhandle\n",
      "File \u001b[1;32mc:\\Users\\Fernanda\\anaconda3\\envs\\python3.8\\lib\\site-packages\\pandas\\io\\common.py:786\u001b[0m, in \u001b[0;36mget_handle\u001b[1;34m(path_or_buf, mode, encoding, compression, memory_map, is_text, errors, storage_options)\u001b[0m\n\u001b[0;32m    781\u001b[0m \u001b[39melif\u001b[39;00m \u001b[39misinstance\u001b[39m(handle, \u001b[39mstr\u001b[39m):\n\u001b[0;32m    782\u001b[0m     \u001b[39m# Check whether the filename is to be opened in binary mode.\u001b[39;00m\n\u001b[0;32m    783\u001b[0m     \u001b[39m# Binary mode does not support 'encoding' and 'newline'.\u001b[39;00m\n\u001b[0;32m    784\u001b[0m     \u001b[39mif\u001b[39;00m ioargs\u001b[39m.\u001b[39mencoding \u001b[39mand\u001b[39;00m \u001b[39m\"\u001b[39m\u001b[39mb\u001b[39m\u001b[39m\"\u001b[39m \u001b[39mnot\u001b[39;00m \u001b[39min\u001b[39;00m ioargs\u001b[39m.\u001b[39mmode:\n\u001b[0;32m    785\u001b[0m         \u001b[39m# Encoding\u001b[39;00m\n\u001b[1;32m--> 786\u001b[0m         handle \u001b[39m=\u001b[39m \u001b[39mopen\u001b[39;49m(\n\u001b[0;32m    787\u001b[0m             handle,\n\u001b[0;32m    788\u001b[0m             ioargs\u001b[39m.\u001b[39;49mmode,\n\u001b[0;32m    789\u001b[0m             encoding\u001b[39m=\u001b[39;49mioargs\u001b[39m.\u001b[39;49mencoding,\n\u001b[0;32m    790\u001b[0m             errors\u001b[39m=\u001b[39;49merrors,\n\u001b[0;32m    791\u001b[0m             newline\u001b[39m=\u001b[39;49m\u001b[39m\"\u001b[39;49m\u001b[39m\"\u001b[39;49m,\n\u001b[0;32m    792\u001b[0m         )\n\u001b[0;32m    793\u001b[0m     \u001b[39melse\u001b[39;00m:\n\u001b[0;32m    794\u001b[0m         \u001b[39m# Binary mode\u001b[39;00m\n\u001b[0;32m    795\u001b[0m         handle \u001b[39m=\u001b[39m \u001b[39mopen\u001b[39m(handle, ioargs\u001b[39m.\u001b[39mmode)\n",
      "\u001b[1;31mFileNotFoundError\u001b[0m: [Errno 2] No such file or directory: 'caso_full.csv'"
     ]
    }
   ],
   "source": [
    "df = pd.read_csv(\"caso_full.csv\")"
   ]
  },
  {
   "cell_type": "code",
   "execution_count": null,
   "metadata": {},
   "outputs": [],
   "source": [
    "df.head()"
   ]
  },
  {
   "cell_type": "code",
   "execution_count": null,
   "metadata": {},
   "outputs": [],
   "source": [
    "df.drop(columns= ['estimated_population_2019','is_repeated','order_for_place'], inplace = True)"
   ]
  },
  {
   "cell_type": "markdown",
   "metadata": {},
   "source": [
    "_____\n",
    "Descrição das Variáveis\n",
    "____"
   ]
  },
  {
   "cell_type": "markdown",
   "metadata": {},
   "source": [
    "|                  **Variável**                 |            **Tipo**            |\n",
    "|:---------------------------------------------:|:------------------------------:|\n",
    "| city                                          |            Qualitativa Nominal |\n",
    "| city_ibge_code                                |            Qualitativa Nominal |\n",
    "| date                                          |            Qualitativa Ordinal |\n",
    "| epidemiological_week                          |            Qualitativa Ordinal |\n",
    "| estimated_population                          |          Quantitativa Discreta |\n",
    "| last_available_confirmed                      |          Quantitativa Discreta |\n",
    "| last_available_confirmed_per_100k_inhabitants |          Quantitativa Contínua |\n",
    "| last_available_date                           |            Qualitativa Ordinal |\n",
    "| last_available_death_rate                     |          Quantitativa Contínua |\n",
    "| last_available_deaths                         |          Quantitativa Discreta |\n",
    "| place_type                                    |            Qualitativa Nominal |\n",
    "| state                                         |            Qualitativa Nominal |\n",
    "| new_confirmed                                 |          Quantitativa Discreta |\n",
    "| new_deaths                                    |          Quantitativa Discreta |"
   ]
  },
  {
   "cell_type": "code",
   "execution_count": null,
   "metadata": {},
   "outputs": [],
   "source": [
    "df.tail()"
   ]
  },
  {
   "cell_type": "code",
   "execution_count": null,
   "metadata": {},
   "outputs": [],
   "source": [
    "df = df.astype({'city_ibge_code':object, 'epidemiological_week':object})\n",
    "df[\"date\"] = pd.to_datetime(df[\"date\"])"
   ]
  },
  {
   "cell_type": "code",
   "execution_count": null,
   "metadata": {},
   "outputs": [],
   "source": [
    "df.info(show_counts=True)"
   ]
  },
  {
   "cell_type": "markdown",
   "metadata": {},
   "source": [
    "___\n",
    "Tratando os nulos\n",
    "___"
   ]
  },
  {
   "cell_type": "code",
   "execution_count": null,
   "metadata": {},
   "outputs": [],
   "source": [
    "df.isna().sum()"
   ]
  },
  {
   "cell_type": "code",
   "execution_count": null,
   "metadata": {},
   "outputs": [],
   "source": [
    "# Analisando os valores nulos da coluna city, pode-se ver que todos são nulos porque representam estados, ou seja, não há cidades faltando\n",
    "df[df['city'].isnull()]['place_type'].unique()"
   ]
  },
  {
   "cell_type": "code",
   "execution_count": null,
   "metadata": {},
   "outputs": [],
   "source": [
    "# Avaliando as cidades que tem código do IBGE nulo, pode-se ver que todos os nulos são de uma cidade chamada 'Importados/Indefinidos' \n",
    "df[df['city_ibge_code'].isnull()]['city'].unique()"
   ]
  },
  {
   "cell_type": "code",
   "execution_count": null,
   "metadata": {},
   "outputs": [],
   "source": [
    "# Foi feita a remoção desses dados, pois não temos informações das suas características\n",
    "df = df.drop(df[df['city']=='Importados/Indefinidos'].index)"
   ]
  },
  {
   "cell_type": "code",
   "execution_count": null,
   "metadata": {},
   "outputs": [],
   "source": [
    "# Para o caso dos casos confirmados por 100k habitantes, percebe-se que esses valores estão nulos nos casos que o número de confirmados é zero\n",
    "# df[df['last_available_confirmed_per_100k_inhabitants'].isnull()]\n",
    "df[df['last_available_confirmed_per_100k_inhabitants'].isnull()]['last_available_confirmed'].sum()"
   ]
  },
  {
   "cell_type": "code",
   "execution_count": null,
   "metadata": {},
   "outputs": [],
   "source": [
    "# Como o número de confirmados é zero, a razão de confirmados por 100k habitantes também é zero\n",
    "df['last_available_confirmed_per_100k_inhabitants'] = df['last_available_confirmed_per_100k_inhabitants'].fillna(0)"
   ]
  },
  {
   "cell_type": "code",
   "execution_count": null,
   "metadata": {},
   "outputs": [],
   "source": [
    "# Restaram só as cidades, como já explicado acima\n",
    "df.isna().sum()"
   ]
  },
  {
   "cell_type": "code",
   "execution_count": null,
   "metadata": {},
   "outputs": [],
   "source": [
    "# Criando um subset só com as cidades, para melhor análise dos dados de interesse\n",
    "df_city = df.iloc[:,[0,11,12,2,3,4,6,10,7,9,13, 14]]"
   ]
  },
  {
   "cell_type": "code",
   "execution_count": null,
   "metadata": {},
   "outputs": [],
   "source": [
    "df_city = df_city.loc[df[\"city\"].notnull()]"
   ]
  },
  {
   "cell_type": "code",
   "execution_count": null,
   "metadata": {},
   "outputs": [],
   "source": [
    "df_city.rename(columns={\"last_available_confirmed_per_100k_inhabitants\": \"last_confirmed_per_100k\"}, inplace = True)"
   ]
  },
  {
   "cell_type": "markdown",
   "metadata": {},
   "source": [
    "____\n",
    "Métricas de Posição\n",
    "_____"
   ]
  },
  {
   "cell_type": "markdown",
   "metadata": {},
   "source": [
    "### Qualitativas Nominais\n",
    "#### city, place_type, state"
   ]
  },
  {
   "cell_type": "code",
   "execution_count": null,
   "metadata": {},
   "outputs": [],
   "source": [
    "# Criou-se essa coluna pois existem cidades com mesmo nome em estados diferentes\n",
    "df_city['citystate'] = df_city[\"city\"]+'-'+df_city[\"state\"]"
   ]
  },
  {
   "cell_type": "code",
   "execution_count": null,
   "metadata": {},
   "outputs": [],
   "source": [
    "df_city.loc[:,[\"citystate\",\"place_type\",\"state\"]].describe()"
   ]
  },
  {
   "cell_type": "markdown",
   "metadata": {},
   "source": [
    "##### Conclui-se para city, place_type e state:\n",
    "- Os itens que apareceram com mais frequência são São Paulo - SP (762 vezes), city (3.819.883 vezes),MG (573.315 vezes);\n",
    "- citystate representa 5570 cidades diferentes;\n",
    "- place_type confirma que selecionamos apenas cidades (tem apenas 1 valor);\n",
    "- state tem 27 valores diferentes, ou seja, abrange todos os estados."
   ]
  },
  {
   "cell_type": "code",
   "execution_count": null,
   "metadata": {},
   "outputs": [],
   "source": [
    "hist_1 = px.histogram(df_city.groupby(['citystate']).size().to_frame().sort_values([0],ascending = False).reset_index().head(50), x = 'citystate', y =0)\n",
    "hist_1.update_xaxes(tickangle=60, categoryorder = 'total ascending')\n",
    "hist_1.update_layout(\n",
    "    xaxis_title=None,\n",
    "    yaxis_title=\"Frequência\",\n",
    "    showlegend=False,\n",
    "    title={\n",
    "    'text': 'Top 50 - Cidades com maior frequência',\n",
    "    'y':0.93,\n",
    "    'x':0.5,\n",
    "    'font_color': 'black'}\n",
    "    )\n",
    "hist_1.update_traces(marker=dict(color='#25215E'))\n",
    "hist_1.show()"
   ]
  },
  {
   "cell_type": "code",
   "execution_count": null,
   "metadata": {},
   "outputs": [],
   "source": [
    "hist_5 = px.histogram(df_city.groupby(['citystate']).size().to_frame().sort_values([0],ascending = False).tail(50).reset_index(), x = 'citystate', y =0)\n",
    "hist_5.update_xaxes(tickangle=60, categoryorder = 'total ascending')\n",
    "hist_5.update_layout(\n",
    "    xaxis_title=None,\n",
    "    yaxis_title=\"Frequência\",\n",
    "    showlegend=False,\n",
    "    title={\n",
    "    'text': 'Top 50 - Cidades com menor frequência',\n",
    "    'y':0.93,\n",
    "    'x':0.5,\n",
    "    'font_color': 'black'}\n",
    "    )\n",
    "hist_5.update_traces(marker=dict(color='#25215E'))\n",
    "hist_5.show()"
   ]
  },
  {
   "cell_type": "code",
   "execution_count": null,
   "metadata": {},
   "outputs": [],
   "source": [
    "hist_2 = px.histogram(df_city,'state')\n",
    "hist_2.update_xaxes(categoryorder = 'total ascending')\n",
    "hist_2.update_layout(\n",
    "    xaxis_title=None,\n",
    "    yaxis_title=\"Frequência\",\n",
    "    showlegend=False,\n",
    "    title={\n",
    "    'text': 'Frequência dos estados',\n",
    "    'y':0.93,\n",
    "    'x':0.5,\n",
    "    'font_color': 'black'}\n",
    "    )\n",
    "hist_2.update_traces(marker=dict(color='#25215E'))\n",
    "hist_2.show()"
   ]
  },
  {
   "cell_type": "markdown",
   "metadata": {},
   "source": [
    "### Qualitativas Ordinais\n",
    "#### date, epidemiological_week"
   ]
  },
  {
   "cell_type": "code",
   "execution_count": null,
   "metadata": {},
   "outputs": [],
   "source": [
    "df_city.loc[:,[\"date\", \"epidemiological_week\"]].describe()"
   ]
  },
  {
   "cell_type": "markdown",
   "metadata": {},
   "source": [
    "- A variável *date* contém 762 valores únicos, ou seja, representa aproximadamente 110 semanas diferentes (7 dias em cada).\n",
    "    - O dia mais frequente é a 02 de Abril de 2021 (5570 aparições).\n",
    "\n",
    "#\n",
    "\n",
    "- A variável *epidemiological_week* contém 110 valores únicos, ou seja, representa 110 semanas diferentes (pouco mais de 2 anos).\n",
    "    - A semana com mais dados é a 14ᵃ semana de 2021 (202114)."
   ]
  },
  {
   "cell_type": "code",
   "execution_count": null,
   "metadata": {},
   "outputs": [],
   "source": [
    "hist_3 = px.bar(df_city.pivot_table(index='date', values='epidemiological_week', aggfunc='count').sort_values('epidemiological_week', ascending=False))\n",
    "hist_3.update_xaxes(categoryorder = 'total ascending')\n",
    "hist_3.update_layout(\n",
    "    xaxis_title=None,\n",
    "    yaxis_title=\"Frequência\",\n",
    "    showlegend=False,\n",
    "    title={\n",
    "    'text': 'Frequência das datas',\n",
    "    'y':0.93,\n",
    "    'x':0.5,\n",
    "    'font_color': 'black'}\n",
    "    )\n",
    "hist_3.update_traces(marker=dict(color='#25215E'))\n",
    "hist_3.show()\n"
   ]
  },
  {
   "cell_type": "code",
   "execution_count": null,
   "metadata": {},
   "outputs": [],
   "source": [
    "hist_4 = px.bar(df_city.pivot_table(index='epidemiological_week', values='date', aggfunc='count').sort_values('date', ascending=False))\n",
    "hist_4.update_xaxes(categoryorder = 'total ascending')\n",
    "hist_4.update_layout(\n",
    "    xaxis_title=None,\n",
    "    yaxis_title=\"Frequência\",\n",
    "    showlegend=False,\n",
    "    title={\n",
    "    'text': 'Frequência das semanas',\n",
    "    'y':0.93,\n",
    "    'x':0.5,\n",
    "    'font_color': 'black'}\n",
    "    )\n",
    "hist_4.show()\n"
   ]
  },
  {
   "cell_type": "markdown",
   "metadata": {},
   "source": [
    "* *date*: Observando o gráfico acima, podemos afirmar que a moda não é apenas o dia 02/02/2021. A partir de 03/10/2020 já tinhamos 5570 valores reportados por dia\n",
    "#\n",
    "* *epidemiological_week*: Observando o gráfico acima, podemos afirmar que a moda não é apenas a 14ᵃ semana de 2021. A partir da 41ᵃ semana de 2020 já vinham sendo reportador 38990 resultados por semana!"
   ]
  },
  {
   "cell_type": "markdown",
   "metadata": {},
   "source": [
    "### Quantitativas Discretas\n",
    "#### estimated_population, last_available_confirmed, last_available_deaths"
   ]
  },
  {
   "cell_type": "code",
   "execution_count": null,
   "metadata": {},
   "outputs": [],
   "source": [
    "for coluna in [\"estimated_population\", \"last_available_confirmed\",\"last_available_deaths\",]:\n",
    "    media = round(df_city[coluna].mean(), 2)\n",
    "    mediana = round(df_city[coluna].median(),2)\n",
    "    moda = statistics.mode(df_city[coluna])\n",
    "    print(f\" Média de {coluna} - {media}\\n Mediana de {coluna} - {mediana}\\n Moda de {coluna} - {moda}\\n-------------------\")"
   ]
  },
  {
   "cell_type": "code",
   "execution_count": null,
   "metadata": {},
   "outputs": [],
   "source": [
    "df_city.loc[:,[\"estimated_population\", \"last_available_confirmed\",\"last_available_deaths\",]].describe().applymap(lambda x: f\"{x:0.3f}\")"
   ]
  },
  {
   "cell_type": "markdown",
   "metadata": {},
   "source": [
    "A princípio, pode-se dizer que para as três variáveis, a média está muito acima da mediana, e o coeficiente de variação é muito maior que um, indicando valores muito altos no conjunto (sabe-se que a média é mais sensível a este tipo de valores)."
   ]
  },
  {
   "cell_type": "code",
   "execution_count": null,
   "metadata": {},
   "outputs": [],
   "source": [
    "fig, ax = plt.subplots(1, 5, figsize=(30,20), sharey=False)\n",
    "fig.tight_layout(pad=10)\n",
    "\n",
    "y  = 0\n",
    "for coluna in ['last_available_deaths', 'last_available_confirmed', \"estimated_population\", \"new_deaths\", \"new_confirmed\"]:\n",
    "    df_city.plot(y=coluna, kind='box', figsize=(10, 5), ax = ax[y]);\n",
    "    y += 1"
   ]
  },
  {
   "cell_type": "code",
   "execution_count": null,
   "metadata": {},
   "outputs": [],
   "source": [
    "list(pd.Series(df_city.estimated_population.unique()).nlargest())"
   ]
  },
  {
   "cell_type": "code",
   "execution_count": null,
   "metadata": {},
   "outputs": [],
   "source": [
    "lista_maiores_cidades = list(pd.Series(df_city.estimated_population.unique()).nlargest())\n",
    "df_city[df_city.estimated_population.isin(lista_maiores_cidades)].sort_values(by='estimated_population', ascending=False).city.unique()"
   ]
  },
  {
   "cell_type": "markdown",
   "metadata": {},
   "source": [
    "Os boxplots indicam muitos outliers. Mas neste caso, apesar de como o gráfico se apresenta, não podemos considerar realmente os valores como outliers do conjunto, isso acontece porque há muitas cidades dentro do dataset, e elas tem perfis bem diversos\n",
    "Os dois maiores valores em *estimated_population*, por exemplo, representam a cidade de São Paulo e Rio de Janeiro."
   ]
  },
  {
   "cell_type": "markdown",
   "metadata": {},
   "source": [
    "### Quantitativas Contínuas\n",
    "#### last_confirmed_per_100k, last_available_death_rate"
   ]
  },
  {
   "cell_type": "code",
   "execution_count": null,
   "metadata": {},
   "outputs": [],
   "source": [
    "for coluna in [\"last_confirmed_per_100k\", \"last_available_death_rate\"]:\n",
    "    media = round(df_city[coluna].mean(), 2)\n",
    "    mediana = round(df_city[coluna].median(),2)\n",
    "    moda = statistics.mode(df_city[coluna])\n",
    "    print(f\" Média de {coluna} - {media}\\n Mediana de {coluna} - {mediana}\\n Moda de {coluna} - {moda}\\n-------------------\")"
   ]
  },
  {
   "cell_type": "code",
   "execution_count": null,
   "metadata": {},
   "outputs": [],
   "source": [
    "df_city.loc[:,[\"last_confirmed_per_100k\", \"last_available_death_rate\"]].describe().applymap(lambda x: f\"{x:0.3f}\")"
   ]
  },
  {
   "cell_type": "code",
   "execution_count": null,
   "metadata": {},
   "outputs": [],
   "source": [
    "box_1 = df_city.plot(y='last_confirmed_per_100k', kind='box', figsize=(10, 5));\n",
    "box_1.set_xlabel('Confirmados a cada 100k de Habitantes');"
   ]
  },
  {
   "cell_type": "code",
   "execution_count": null,
   "metadata": {},
   "outputs": [],
   "source": [
    "q1,q3 = np.percentile(df_city['last_confirmed_per_100k'], [25,75])\n",
    "iqr_dr = q3-q1\n",
    "lim_sup_dr = q3 +1.5*(iqr_dr)\n",
    "lim_sup_dr"
   ]
  },
  {
   "cell_type": "code",
   "execution_count": null,
   "metadata": {},
   "outputs": [],
   "source": [
    "# O valor máximo dos confirmados por 100 mil habitantes é 100.000 (100% de mortes) e pelo boxplot pode-se ver que há valores superiores a isso\n",
    "df_city.loc[df_city['last_confirmed_per_100k'] > 100000]"
   ]
  },
  {
   "cell_type": "code",
   "execution_count": null,
   "metadata": {},
   "outputs": [],
   "source": [
    "# Consultou-se esses casos isolados e percebe-se que são erros\n",
    "df_city[(df_city[\"city\"] == \"Nísia Floresta\") & (df_city[\"epidemiological_week\"] == 202147)]"
   ]
  },
  {
   "cell_type": "code",
   "execution_count": null,
   "metadata": {},
   "outputs": [],
   "source": [
    "# Faz-se a substituição desses valores alterados para o valor correspondente do dia anterior\n",
    "\n",
    "for index,linha in df_city[(df_city[\"last_confirmed_per_100k\"] > 100000)].iterrows():\n",
    "        linha[\"last_confirmed_per_100k\"] = df_city.loc[(df_city[\"city\"] == linha[\"city\"]) & (df_city[\"date\"] == linha[\"date\"] + timedelta(days = 1))][\"last_confirmed_per_100k\"]\n",
    "        linha[\"last_available_confirmed\"] = df_city.loc[(df_city[\"city\"] == linha[\"city\"]) & (df_city[\"date\"] == linha[\"date\"] + timedelta(days = 1))][\"last_available_confirmed\"]\n",
    "        linha[\"last_available_death_rate\"] = df_city.loc[(df_city[\"city\"] == linha[\"city\"]) & (df_city[\"date\"] == linha[\"date\"] + timedelta(days = 1))][\"last_available_death_rate\"]\n",
    "        df_city[\"last_confirmed_per_100k\"][index] = linha[\"last_confirmed_per_100k\"]\n",
    "        df_city[\"last_available_confirmed\"][index] = linha[\"last_available_confirmed\"]\n",
    "        df_city[\"last_available_death_rate\"][index] = linha[\"last_available_death_rate\"]\n"
   ]
  },
  {
   "cell_type": "code",
   "execution_count": null,
   "metadata": {},
   "outputs": [],
   "source": [
    "box_1 = df_city.plot(y='last_confirmed_per_100k', kind='box', figsize=(10, 5));\n",
    "box_1.set_xlabel('Confirmados a cada 100k de Habitantes');"
   ]
  },
  {
   "cell_type": "code",
   "execution_count": null,
   "metadata": {},
   "outputs": [],
   "source": [
    "# Checando se os valores estão coerentes para last_available_death_rate\n",
    "box_2 = df_city.plot(y='last_available_death_rate', kind='box', figsize=(10, 5));\n",
    "box_2.set_xlabel('Taxa de morte (mortes/confirmados)');\n"
   ]
  },
  {
   "cell_type": "markdown",
   "metadata": {},
   "source": [
    "Neste caso, o maior valor é 1, o que significa que todos os confirmados naquela cidade vieram a óbito. Vamos verificar."
   ]
  },
  {
   "cell_type": "code",
   "execution_count": null,
   "metadata": {},
   "outputs": [],
   "source": [
    "df_city.loc[df_city['last_available_death_rate'] ==1]"
   ]
  },
  {
   "cell_type": "code",
   "execution_count": null,
   "metadata": {},
   "outputs": [],
   "source": [
    "print('Confirmados: ', df_city.loc[df_city['last_available_death_rate'] ==1].last_available_confirmed.unique())\n",
    "print('Óbitos: ', df_city.loc[df_city['last_available_death_rate'] ==1].last_available_deaths.unique())\n",
    "print('Datas menor e maior: ', pd.to_datetime(df_city.loc[df_city['last_available_death_rate'] ==1].date.unique().min()).strftime('%d.%B.%Y'), '&', pd.to_datetime(df_city.loc[df_city['last_available_death_rate'] ==1].date.unique().max()).strftime('%d.%B.%Y') )"
   ]
  },
  {
   "cell_type": "code",
   "execution_count": null,
   "metadata": {},
   "outputs": [],
   "source": [
    "# Relação final das mortes de covid no Brasil por estado\n",
    "df_state = df[df['city'].isna()]\n",
    "df_state = df_state.drop(columns=['city'])\n",
    "df_final_record_bystate = df_state.loc[df['is_last'] == True]\n",
    "df_final_record_bystate['deaths_per_100k_inhabintants'] = df_final_record_bystate.loc[:, 'last_available_death_rate']*100000\n",
    "\n",
    "fig = plt.figure(figsize=(15,10))\n",
    "sns.barplot(x='state', y='deaths_per_100k_inhabintants', data=df_final_record_bystate)\n",
    "plt.title('Total de mortes por 100 mil habitantes de COVID-19 por estado (atualizado 27/03/2022)', fontsize=18)\n",
    "plt.xlabel(None)\n",
    "plt.ylabel('Número de mortes')\n",
    "plt.grid(axis='y', alpha=.3)\n",
    "plt.show();"
   ]
  },
  {
   "cell_type": "markdown",
   "metadata": {},
   "source": [
    "Conclui-se que esses dados são corretos. Para uma alta taxa de óbitos, isto só ocorreu quando havia poucas confirmações e todas vieram a ser óbitos (entre 1 e 3). Essas situações ocorreram no primeiro ano de pandemia, entre março de 2020 e março de 2021."
   ]
  },
  {
   "cell_type": "markdown",
   "metadata": {},
   "source": [
    "___\n",
    "Correlação\n",
    "____"
   ]
  },
  {
   "cell_type": "markdown",
   "metadata": {},
   "source": [
    "- Pearson - Verificar a existência de uma correlação linear\n",
    "- Spearman - Verificar o crescimento/descrescimento entre as variáveis (se uma cresce a outra cresce)"
   ]
  },
  {
   "cell_type": "code",
   "execution_count": null,
   "metadata": {},
   "outputs": [],
   "source": [
    "# Pearson\n",
    "df_city.corr()"
   ]
  },
  {
   "cell_type": "code",
   "execution_count": null,
   "metadata": {},
   "outputs": [],
   "source": [
    "plt.figure(figsize=(10,7))\n",
    "\n",
    "heat_1 = sns.heatmap(df_city.corr(), cmap='RdYlGn', vmin=-1, vmax=1, annot = True, annot_kws={'size':12});\n",
    "heat_1.set_xticklabels(heat_1.get_xmajorticklabels(), fontsize = 12);\n",
    "heat_1.set_yticklabels(heat_1.get_ymajorticklabels(), fontsize = 12);\n",
    "heat_1.tick_params(axis='x', rotation=90)"
   ]
  },
  {
   "cell_type": "code",
   "execution_count": null,
   "metadata": {},
   "outputs": [],
   "source": [
    "plt.figure(figsize = (10,5))\n",
    "sns.scatterplot(x=df_city.last_available_deaths, y=df_city.last_available_confirmed, hue=df_city.state)\n",
    "plt.legend(bbox_to_anchor=(1,1.01));"
   ]
  },
  {
   "cell_type": "code",
   "execution_count": null,
   "metadata": {},
   "outputs": [],
   "source": [
    "plt.figure(figsize = (10,5))\n",
    "df_temp = df_city[df_city['last_available_deaths'] > 7000]\n",
    "sns.scatterplot(x=df_temp.last_available_deaths, y=df_temp.last_available_confirmed, hue=df_temp.state)\n",
    "plt.legend(bbox_to_anchor=(1,1.01));"
   ]
  },
  {
   "cell_type": "code",
   "execution_count": null,
   "metadata": {},
   "outputs": [],
   "source": [
    "df_city.corr(method='spearman')"
   ]
  },
  {
   "cell_type": "code",
   "execution_count": null,
   "metadata": {},
   "outputs": [],
   "source": [
    "plt.figure(figsize=(10,7))\n",
    "\n",
    "heat_1 = sns.heatmap(df_city.corr(method = \"spearman\"), cmap='RdYlGn', vmin=-1, vmax=1, annot = True, annot_kws={'size':12});\n",
    "heat_1.set_xticklabels(heat_1.get_xmajorticklabels(), fontsize = 12);\n",
    "heat_1.set_yticklabels(heat_1.get_ymajorticklabels(), fontsize = 12);\n",
    "heat_1.tick_params(axis='x', rotation=90)"
   ]
  },
  {
   "cell_type": "code",
   "execution_count": null,
   "metadata": {},
   "outputs": [],
   "source": [
    "plt.figure(figsize = (10,5))\n",
    "disp_1 = sns.scatterplot(data = df_city, y = 'last_available_confirmed', x = 'last_confirmed_per_100k', color = '#353942');\n",
    "disp_1.set_ylabel('Casos Confirmados', fontsize = 15);\n",
    "disp_1.set_xlabel('Confirmados a cada 100 mil Habitantes', fontsize = 15);"
   ]
  },
  {
   "cell_type": "code",
   "execution_count": null,
   "metadata": {},
   "outputs": [],
   "source": [
    "plt.figure(figsize = (10,5))\n",
    "disp_1 = sns.scatterplot(data = df_city[df_city[\"city\"] == 'São Paulo'], y = 'last_available_confirmed', x = 'last_confirmed_per_100k', color = '#353942');\n",
    "disp_1.set_ylabel('Casos Confirmados', fontsize = 15);\n",
    "disp_1.set_xlabel('Confirmados a cada 100 mil Habitantes', fontsize = 15);"
   ]
  },
  {
   "cell_type": "markdown",
   "metadata": {},
   "source": [
    "- No geral, olhando todas as cidades, a relação não é linear (Pearson de 0.13), pois cada cidade tem a sua própria dinâmica de contágio e a a densidade populacional também é bem diferente. Já, filtrando uma cidade, vê-se que a relação é linear."
   ]
  },
  {
   "cell_type": "markdown",
   "metadata": {},
   "source": [
    "___________\n",
    "Q2 - PROBABILIDADE E INFERÊNCIA / TESTE DE HIPÓTESE\n",
    "_____"
   ]
  },
  {
   "cell_type": "code",
   "execution_count": null,
   "metadata": {},
   "outputs": [],
   "source": [
    "import scipy.stats as stats\n",
    "from fitter import Fitter, get_common_distributions, get_distributions\n",
    "from scipy import stats"
   ]
  },
  {
   "cell_type": "code",
   "execution_count": null,
   "metadata": {},
   "outputs": [],
   "source": [
    "data = np.load('values_squad1.npy')\n",
    "data"
   ]
  },
  {
   "cell_type": "code",
   "execution_count": null,
   "metadata": {},
   "outputs": [],
   "source": [
    "bins_num = 200 # número de bins a ser considerado\n",
    "interval = np.linspace(np.min(data), np.max(data), bins_num)\n",
    "plt.hist(data, bins=interval);"
   ]
  },
  {
   "cell_type": "code",
   "execution_count": null,
   "metadata": {},
   "outputs": [],
   "source": [
    "s2 = np.var(data)\n",
    "s = np.std(data)\n",
    "x = np.mean(data)\n",
    "values, bins_val = np.histogram(data, bins = interval)\n",
    "print('Média: ', x, ' Desvio: ', s, ' Variância: ', s2)"
   ]
  },
  {
   "cell_type": "markdown",
   "metadata": {},
   "source": [
    "### Teste da distribuição Normal:\n",
    "\n",
    "$\\left\\{\\begin{array}{l} H_0:\\ O_i = E_i \\\\ H_1:\\ O_i \\neq E_i  \\end{array}\\right.$\n",
    "\n",
    "Considere:\n",
    "$\\chi^2$ = $\\sum_{i=1}^{n}$ $\\frac{(O_{i} - E_{i})^2}{(E_{i})}$.\n",
    "\n",
    "Rejeita-se a hipótese nula se: $\\chi^2$ > $\\chi^2_{\\alpha,\\ n-p-1}$, onde $\\alpha$ é o nível de significância, $n$ é o número de intervalos observados (bins) e $p$ é o número de parâmetros estimados na distribuição."
   ]
  },
  {
   "cell_type": "code",
   "execution_count": null,
   "metadata": {},
   "outputs": [],
   "source": [
    "alpha = 0.05 # nível de signficância do teste\n",
    "\n",
    "# distribuição normal teórica dos dados: \n",
    "dist_normal = stats.norm(loc=x, scale=s)\n",
    "norm_cdf = dist_normal.cdf(interval)\n",
    "area_bins_norm = norm_cdf[1:] - norm_cdf[:-1]\n",
    "frequencia_teorica_norm = area_bins_norm * data.shape[0]\n",
    "\n",
    "# teste:\n",
    "chi2_norm = 0\n",
    "for i in range(len(frequencia_teorica_norm)):\n",
    "    if frequencia_teorica_norm[i] > 0.00001:\n",
    "        chi2_norm += ((frequencia_teorica_norm[i] - values[i])**2/frequencia_teorica_norm[i])\n",
    "    else:\n",
    "        chi2_norm += 0\n",
    "chi2_teste_norm = stats.chi2.ppf(alpha, df=bins_num-2-1) # = 239.8774290531936; bins=200\n",
    "if chi2_norm < chi2_teste_norm  :\n",
    "  print(f'Hipótese nula NÃO rejeitada pois chi2 ({chi2_norm:.2f}) < chi2_teste ({chi2_teste_norm:.2f})')\n",
    "else:\n",
    "  print(f'Hipótese nula rejeitada pois chi2 ({chi2_norm:.2f}) > chi2_teste ({chi2_teste_norm:.2f})')\n",
    "\n",
    "# gráfico:\n",
    "plt.plot(bins_val[:-1], frequencia_teorica_norm, label='Curva Teórica')\n",
    "plt.plot(bins_val[:-1], values, label='Curva Observada')\n",
    "plt.legend();"
   ]
  },
  {
   "cell_type": "markdown",
   "metadata": {},
   "source": [
    "### Teste da distribuição Gamma:\n",
    "\n",
    "$\\left\\{\\begin{array}{l} H_0:\\ O_i = E_i \\\\ H_1:\\ O_i \\neq E_i  \\end{array}\\right.$\n",
    "\n",
    "Considere:\n",
    "$\\chi^2$ = $\\sum_{i=1}^{n}$ $\\frac{(O_{i} - E_{i})^2}{(E_{i})}$.\n",
    "\n",
    "Rejeita-se a hipótese nula se: $\\chi^2$ > $\\chi^2_{\\alpha,\\ n-p-1}$, onde $\\alpha$ é o nível de significância, $n$ é o número de intervalos observados (bins) e $p$ é o número de parâmetros estimados na distribuição."
   ]
  },
  {
   "cell_type": "code",
   "execution_count": null,
   "metadata": {},
   "outputs": [],
   "source": [
    "fit_shape, fit_loc, fit_scale = stats.gamma.fit(data)\n",
    "dist_gamma = stats.gamma(a=fit_shape, loc=fit_loc, scale=fit_scale)\n",
    "gamma_cdf = dist_gamma.cdf(interval)\n",
    "area_bins_gamma = gamma_cdf[1:] - gamma_cdf[:-1]\n",
    "frequencia_teorica_gamma = area_bins_gamma * data.shape[0]\n",
    "\n",
    "# teste:\n",
    "chi2_gamma = np.sum((values - frequencia_teorica_gamma)**2/frequencia_teorica_gamma) # = 212.6268094321364; bins=200\n",
    "chi2_teste_gamma = stats.chi2.ppf(alpha, df=bins_num-2-1) # = 239.8774290531936; bins=200\n",
    "if chi2_gamma < chi2_teste_gamma  :\n",
    "  print(f'Hipótese nula NÃO rejeitada pois chi2 ({chi2_gamma:.2f}) < chi2_teste ({chi2_teste_gamma:.2f})')\n",
    "else:\n",
    "  print(f'Hipótese nula rejeitada pois chi2 ({chi2_gamma:.2f}) > chi2_teste ({chi2_teste_gamma:.2f})')\n",
    "\n",
    "plt.plot(bins_val[:-1], frequencia_teorica_norm, label='Curva Teórica')\n",
    "plt.plot(bins_val[:-1], values, label='Curva Observada')\n",
    "plt.legend();"
   ]
  },
  {
   "cell_type": "markdown",
   "metadata": {},
   "source": [
    "### Teste da distribuição LogNormal:\n",
    "\n",
    "$\\left\\{\\begin{array}{l} H_0:\\ O_i = E_i \\\\ H_1:\\ O_i \\neq E_i  \\end{array}\\right.$\n",
    "\n",
    "Considere:\n",
    "$\\chi^2$ = $\\sum_{i=1}^{n}$ $\\frac{(O_{i} - E_{i})^2}{(E_{i})}$.\n",
    "\n",
    "Rejeita-se a hipótese nula se: $\\chi^2$ > $\\chi^2_{\\alpha,\\ n-p-1}$, onde $\\alpha$ é o nível de significância, $n$ é o número de intervalos observados (bins) e $p$ é o número de parâmetros estimados na distribuição.\n"
   ]
  },
  {
   "cell_type": "code",
   "execution_count": null,
   "metadata": {},
   "outputs": [],
   "source": [
    "# Parâmetros de entrada stats.lognorm(s, loc, scale) explicados:\n",
    "# loc - No equivalent, this gets subtracted from your data so that 0 becomes the infimum of the range of the data.\n",
    "# scale - exp μ, where μ is the mean of the log of the variate. (When fitting, typically you'd use the sample mean of the log of the data.)\n",
    "# s -> shape - the standard deviation of the log of the variate.\n",
    "# https://docs.scipy.org/doc/scipy/reference/generated/scipy.stats.lognorm.html\n",
    "# https://stackoverflow.com/questions/8870982/how-do-i-get-a-lognormal-distribution-in-python-with-mu-and-sigma?noredirect=1&lq=1\n",
    "\n",
    "alpha = 0.95 # nível de signficância do teste\n",
    "x_log = np.mean(np.log(data))  # média do logaritmo dos dados\n",
    "s_log = np.std(np.log(data))  # desvio padrão do logaritmo dos dados\n",
    "\n",
    "# distribuição lognormal teórica dos dados: \n",
    "dist_log_normal = stats.lognorm(s=s_log, loc=x_log, scale=np.exp(x_log))\n",
    "log_cdf = dist_log_normal.cdf(interval)\n",
    "area_bins = log_cdf[1:] - log_cdf[:-1]\n",
    "frequencia_teorica = area_bins * data.shape[0]\n",
    "\n",
    "# teste:\n",
    "chi2_log = np.sum((values - frequencia_teorica)**2/frequencia_teorica) # = 212.6268094321364; bins=200\n",
    "chi2_teste_log = stats.chi2.ppf(alpha, df=bins_num-2-1) # = 239.8774290531936; bins=200\n",
    "if chi2_log < chi2_teste_log  :\n",
    "  print(f'Hipótese nula NÃO rejeitada pois chi2 ({chi2_log:.2f}) < chi2_teste ({chi2_teste_log:.2f})')\n",
    "else:\n",
    "  print(f'Hipótese nula rejeitada pois chi2 ({chi2_log:.2f}) > chi2_teste ({chi2_teste_log:.2f})')\n",
    "\n",
    "# gráfico:\n",
    "plt.plot(bins_val[:-1], frequencia_teorica_norm, label='Curva Teórica')\n",
    "plt.plot(bins_val[:-1], values, label='Curva Observada')\n",
    "plt.legend();"
   ]
  },
  {
   "cell_type": "code",
   "execution_count": null,
   "metadata": {},
   "outputs": [],
   "source": [
    "f = Fitter(data,distributions=['gamma','lognorm',\"norm\", \"expon\"])\n",
    "f.fit()\n",
    "f.summary()"
   ]
  },
  {
   "cell_type": "code",
   "execution_count": null,
   "metadata": {},
   "outputs": [],
   "source": [
    "f.get_best(method = 'sumsquare_error')"
   ]
  },
  {
   "cell_type": "markdown",
   "metadata": {},
   "source": [
    "- Dessa forma, chega-se à conclusão que a distribuição que melhor se adapta aos dados fornecidos é a lognormal."
   ]
  },
  {
   "cell_type": "markdown",
   "metadata": {},
   "source": [
    "### EXTRA: Função que testa várias distribuições"
   ]
  },
  {
   "cell_type": "code",
   "execution_count": null,
   "metadata": {},
   "outputs": [],
   "source": [
    "import numpy as np\n",
    "import matplotlib.pyplot as plt\n",
    "import scipy.stats as stats\n",
    "import warnings\n",
    "warnings.filterwarnings(\"ignore\")\n",
    "\n",
    "def plots(frequencia_teorica, histogram, bins_val, kind):\n",
    "    plt.plot(bins_val[:-1], frequencia_teorica, label='Curva Teórica')\n",
    "    plt.plot(bins_val[:-1], histogram, label='Curva Observada')\n",
    "    plt.legend()\n",
    "    plt.title(f'{kind} fitting')\n",
    "    plt.show()\n",
    "\n",
    "\n",
    "def normal_test(data, histogram, bins_val, bins_num, alpha, show_hist=False):\n",
    "    fit_loc, fit_scale = stats.norm.fit(data)\n",
    "    dist = stats.norm(loc=fit_loc, scale=fit_scale)\n",
    "    values = dist.cdf(bins_val)\n",
    "    area_bins = values[1:] - values[:-1]\n",
    "    frequencia_teorica = area_bins * data.shape[0]\n",
    "    chi2 =  np.sum((histogram - frequencia_teorica)**2/frequencia_teorica, where=frequencia_teorica!=0)\n",
    "    chi2_teste = stats.chi2.ppf(1-alpha, df=bins_num-2-1)\n",
    "    if show_hist:\n",
    "        plots(frequencia_teorica, histogram, bins_val, 'Normal')\n",
    "    return f'O teste para a distribuição Normal {\"NÃO \" if chi2 < chi2_teste else \"\"}rejeita a hipótese nula, chi = {chi2:.2f}, chi_teste = {chi2_teste:.2f}.'\n",
    "\n",
    "def chi2_test(data, histogram, bins_val, bins_num, alpha, show_hist=False):\n",
    "    fit_shape, fit_loc, fit_scale = stats.chi2.fit(data)\n",
    "    dist = stats.chi2(df=fit_shape, loc=fit_loc, scale=fit_scale)\n",
    "    values = dist.cdf(bins_val)\n",
    "    area_bins = values[1:] - values[:-1]\n",
    "    frequencia_teorica = area_bins * data.shape[0]\n",
    "    chi2 =  np.sum((histogram - frequencia_teorica)**2/frequencia_teorica, where=frequencia_teorica!=0)\n",
    "    chi2_teste = stats.chi2.ppf(1-alpha, df=bins_num-2-1)\n",
    "    if show_hist:\n",
    "        plots(frequencia_teorica, histogram, bins_val, 'ChiQuadrado')   \n",
    "    return f'O teste para a distribuição ChiQuadrado {\"NÃO \" if chi2 < chi2_teste else \"\"}rejeita a hipótese nula, chi = {chi2:.2f}, chi_teste = {chi2_teste:.2f}.'\n",
    "\n",
    "def gamma_test(data, histogram, bins_val, bins_num, alpha, show_hist=False):\n",
    "    fit_shape, fit_loc, fit_scale = stats.gamma.fit(data)\n",
    "    dist = stats.gamma(a=fit_shape, loc=fit_loc, scale=fit_scale)\n",
    "    values = dist.cdf(bins_val)\n",
    "    area_bins = values[1:] - values[:-1]\n",
    "    frequencia_teorica = area_bins * data.shape[0]\n",
    "    chi2 =  np.sum((histogram - frequencia_teorica)**2/frequencia_teorica, where=frequencia_teorica!=0)\n",
    "    chi2_teste = stats.chi2.ppf(1-alpha, df=bins_num-2-1) \n",
    "    if show_hist:\n",
    "        plots(frequencia_teorica, histogram, bins_val, 'Gamma')\n",
    "    return f'O teste para a distribuição Gamma {\"NÃO \" if chi2 < chi2_teste else \"\"}rejeita a hipótese nula, chi = {chi2:.2f}, chi_teste = {chi2_teste:.2f}.'\n",
    "\n",
    "def log_normal_test(data, histogram, bins_val, bins_num, alpha, show_hist=False):\n",
    "    fit_shape, fit_loc, fit_scale = stats.lognorm.fit(data)\n",
    "    dist = stats.lognorm(s=fit_shape, loc=fit_loc, scale=fit_scale)\n",
    "    values = dist.cdf(bins_val)\n",
    "    area_bins = values[1:] - values[:-1]\n",
    "    frequencia_teorica = area_bins * data.shape[0]\n",
    "    chi2 =  np.sum((histogram - frequencia_teorica)**2/frequencia_teorica, where=frequencia_teorica!=0)\n",
    "    chi2_teste = stats.chi2.ppf(1-alpha, df=bins_num-2-1) \n",
    "    if show_hist:\n",
    "        plots(frequencia_teorica, histogram, bins_val, 'LogNormal')\n",
    "    return f'O teste para a distribuição LogNormal {\"NÃO \" if chi2 < chi2_teste else \"\"}rejeita a hipótese nula, chi = {chi2:.2f}, chi_teste = {chi2_teste:.2f}.'\n",
    "\n",
    "def weibull_test(data, histogram, bins_val, bins_num, alpha, show_hist=False):\n",
    "    fit_shape, fit_loc, fit_scale = stats.weibull_min.fit(data)\n",
    "    dist = stats.weibull_min(c=fit_shape, loc=fit_loc, scale=fit_scale)\n",
    "    values = dist.cdf(bins_val)\n",
    "    area_bins = values[1:] - values[:-1]\n",
    "    frequencia_teorica = area_bins * data.shape[0]\n",
    "    chi2 =  np.sum((histogram - frequencia_teorica)**2/frequencia_teorica, where=frequencia_teorica!=0)\n",
    "    chi2_teste = stats.chi2.ppf(1-alpha, df=bins_num-2-1) \n",
    "    if show_hist:\n",
    "        plots(frequencia_teorica, histogram, bins_val, 'Weibull')\n",
    "    return f'O teste para a distribuição weibull_min {\"NÃO \" if chi2 < chi2_teste else \"\"}rejeita a hipótese nula, chi = {chi2:.2f}, chi_teste = {chi2_teste:.2f}.'\n",
    "\n",
    "def goodness_of_fit(data, bins_num, alpha, show_hist=False):\n",
    "    distributions = [normal_test, log_normal_test, gamma_test, chi2_test, weibull_test]\n",
    "    histogram, bins_val = np.histogram(data, bins = bins_num)\n",
    "    for dist in distributions:\n",
    "        print(dist(data, histogram, bins_val, bins_num=bins_num, alpha=alpha, show_hist=show_hist))\n",
    "\n",
    "\n",
    "data = np.load('values_squad1.npy')\n",
    "goodness_of_fit(data=data, bins_num=15, alpha=0.05, show_hist=True)"
   ]
  },
  {
   "cell_type": "markdown",
   "metadata": {},
   "source": [
    "________\n",
    "Q3 - SERIES TEMPORAIS\n",
    "____"
   ]
  },
  {
   "cell_type": "code",
   "execution_count": null,
   "metadata": {},
   "outputs": [],
   "source": [
    "df_energia = pd.read_csv('ipeadata_consumo_energia.csv', sep=';')\n",
    "df_energia = df_energia.drop(columns='Unnamed: 2')\n",
    "df_energia = df_energia.rename(columns={'Energia elétrica - consumo - residência - quantidade - GWh - Eletrobras - ELETRO12_CEERES12':'Consumo'})\n",
    "df_energia['Consumo'] = df_energia['Consumo'].apply(lambda x: x.replace(',','.'))\n",
    "df_energia['Data'] = df_energia['Data'].apply(lambda x: str(x).replace('.','-'))"
   ]
  },
  {
   "cell_type": "code",
   "execution_count": null,
   "metadata": {},
   "outputs": [],
   "source": [
    "df_energia['Data'] = pd.to_datetime(df_energia['Data'], format='%Y-%m')\n",
    "df_energia['Consumo'] = df_energia['Consumo'].astype('float')\n",
    "\n",
    "rng = pd.date_range(start = '1976-01-01', end = '2022-07-01', freq='MS')\n",
    "rng = pd.DataFrame(rng)\n",
    "df_energia.loc[:,['Data']] = [rng]\n",
    "\n",
    "df_energia = df_energia.set_index('Data')"
   ]
  },
  {
   "cell_type": "code",
   "execution_count": null,
   "metadata": {},
   "outputs": [],
   "source": [
    "series = df_energia['Consumo']\n"
   ]
  },
  {
   "cell_type": "code",
   "execution_count": null,
   "metadata": {},
   "outputs": [],
   "source": [
    "result = seasonal_decompose(series, model='additive')\n",
    "fig = result.plot()\n",
    "fig.set_size_inches((15, 10))\n",
    "plt.show()"
   ]
  },
  {
   "cell_type": "markdown",
   "metadata": {},
   "source": [
    "Observando o gráfico acima, podemos observar que o consumo de energia elétrica em GWh no Brasil vem crescendo ao longo dos anos, o que é ressaltado pelo gráfico da tendência. Também é possível observar a presença de uma sazonalidade com amplitude por volta de 280 GWh. Além disso, vemos que há cinco períodos de sazonaliodades completos em um período de 5 anos (repare no gráfico de sazonalidade de 1985 a 1990, por exemplo), logo há uma sazonalidade anual. Por fim, vê-se que os resíduos se comportam de maneira similar, excetuando períodos com maiores oscilações, provavelmente em razão de motivos de infraestrutura, macro e microeconômicos. É interessante ver que os períodos com maiores resíduos são aqueles com maiores oscilações de consumo, o que, no caso, é um resultado direto da oscilação, então seria esperado.\\\n",
    "Os períodos com maiores oscilações, citados acima, seriam os períodos atípicos perguntados no enunciado. Especificamente na época de 2001-2002, ocorreu um racionamento de energia no Brasil, conhecido como apagão, em razão da falta de chuvas. Dessa forma, o governo orientou tal racionamento para que não ocorresse outro apagão total de energia como se passou em alguns dias daqueles anos."
   ]
  },
  {
   "cell_type": "code",
   "execution_count": null,
   "metadata": {},
   "outputs": [],
   "source": [
    "valor_max = df_energia['Consumo'].max()\n",
    "periodo_max = df_energia[df_energia['Consumo'] == valor_max].index\n",
    "\n",
    "valor_min = df_energia['Consumo'].min()\n",
    "periodo_min = df_energia[df_energia['Consumo'] == valor_min].index"
   ]
  },
  {
   "cell_type": "code",
   "execution_count": null,
   "metadata": {},
   "outputs": [],
   "source": [
    "print(f'O consumo máximo foi de {valor_max} GWh e ocorreu em {str(periodo_max[0])[0:7]}. \\\n",
    "Já o consumo mínimo foi de {valor_min} GWh e ocorreu em {str(periodo_min[0])[0:7]}.')"
   ]
  },
  {
   "cell_type": "markdown",
   "metadata": {},
   "source": [
    "Agora, vejamos com mais detalhes um período de 3 anos para ver a sazonalidade"
   ]
  },
  {
   "cell_type": "code",
   "execution_count": null,
   "metadata": {},
   "outputs": [],
   "source": [
    "ano_inicial_corte = 2015\n",
    "ano_final_corte = 2018\n",
    "series2 = df_energia['Consumo'][12*(ano_inicial_corte-1976):12*(ano_final_corte-1976)+12]"
   ]
  },
  {
   "cell_type": "code",
   "execution_count": null,
   "metadata": {},
   "outputs": [],
   "source": [
    "result2 = seasonal_decompose(series2, model='additive')\n",
    "fig = result2.plot()\n",
    "fig.set_size_inches((15, 10))\n",
    "plt.show()"
   ]
  },
  {
   "cell_type": "markdown",
   "metadata": {},
   "source": [
    "Com os gráficos acima, pode-se observar que o pico de consumo de energia ocorre sempre no mês de janeiro daquele ano, o que coincide com o verão, possivelmente um dos meses mais quentes do ano e que também possui diversos eventos associados que podem aumentar o consumo de energia, tal como festas de fim de ano. Além disso, o vale de consumo ocorre em julho, mês de inverno, quando não é necessário utilizar diversos aparelhos domésticos que consomem energia como ar-condicionado.\n",
    "\n",
    "Agora, vejamos o consumo de energia no período de 2000 a 2002"
   ]
  },
  {
   "cell_type": "code",
   "execution_count": null,
   "metadata": {},
   "outputs": [],
   "source": [
    "ano_inicial_corte = 2000\n",
    "ano_final_corte = 2002\n",
    "series3 = df_energia['Consumo'][12*(ano_inicial_corte-1976):12*(ano_final_corte-1976)+12]\n"
   ]
  },
  {
   "cell_type": "code",
   "execution_count": null,
   "metadata": {},
   "outputs": [],
   "source": [
    "result3 = seasonal_decompose(series3, model='additive')\n",
    "fig = result3.plot()\n",
    "fig.set_size_inches((15, 10))\n",
    "plt.show()"
   ]
  },
  {
   "cell_type": "markdown",
   "metadata": {},
   "source": [
    "Pode-se observar o efeito do apagão de 2001 por volta do mês de maio desse ano, que fez com que o consumo caísse de 7000 GWh a 5000 GWh em pouco tempo. Esse fato foi tão significativo que faz com que a sazonalidade do consumo seja alterada quando analisa-se uma janela temporal focada nesse evento."
   ]
  },
  {
   "cell_type": "markdown",
   "metadata": {},
   "source": [
    "##### Resíduos da série"
   ]
  },
  {
   "cell_type": "code",
   "execution_count": null,
   "metadata": {},
   "outputs": [],
   "source": [
    "residual = result.resid\n",
    "residual= residual.dropna()\n",
    "plt.plot(residual, label='Residuals');\n",
    "plt.xlabel('Anos'); plt.ylabel('Resíduos')\n",
    "\n",
    "plt.figure()\n",
    "bins_num = 10\n",
    "plt.hist(residual, bins = bins_num);\n",
    "plt.xlabel('Resíduos'); plt.ylabel('Contagem');"
   ]
  },
  {
   "cell_type": "code",
   "execution_count": null,
   "metadata": {},
   "outputs": [],
   "source": [
    "residual = np.array(residual)\n",
    "\n",
    "x = np.mean(residual)\n",
    "s = np.std(residual)\n",
    "interval = np.linspace(np.min(residual), np.max(residual), bins_num)\n",
    "values, bins_val = np.histogram(residual, bins = interval)\n",
    "\n",
    "alpha = 0.05 # nível de signficância do teste\n",
    "\n",
    "# distribuição normal teórica dos dados: \n",
    "dist_normal = stats.norm(loc=x, scale=s)\n",
    "norm_cdf = dist_normal.cdf(interval)\n",
    "area_bins_norm = norm_cdf[1:] - norm_cdf[:-1]\n",
    "frequencia_teorica_norm = area_bins_norm * residual.shape[0]\n",
    "\n",
    "# teste:\n",
    "chi2_norm = 0\n",
    "for i in range(len(frequencia_teorica_norm)):\n",
    "    if frequencia_teorica_norm[i] > 0.00001:\n",
    "        chi2_norm += ((frequencia_teorica_norm[i] - values[i])**2/frequencia_teorica_norm[i])\n",
    "    else:\n",
    "        chi2_norm += 0\n",
    "chi2_teste_norm = stats.chi2.ppf(1-alpha, df=bins_num-2-1) # = 239.8774290531936; bins=200\n",
    "if chi2_norm < chi2_teste_norm  :\n",
    "  print(f'Hipótese nula NÃO rejeitada pois chi2 ({chi2_norm:.2f}) < chi2_teste ({chi2_teste_norm:.2f})')\n",
    "else:\n",
    "  print(f'Hipótese nula rejeitada pois chi2 ({chi2_norm:.2f}) > chi2_teste ({chi2_teste_norm:.2f})')\n",
    "\n",
    "# gráfico:\n",
    "plt.plot(frequencia_teorica_norm, label='Curva Teórica')\n",
    "plt.plot(values, label='Curva Observada')\n",
    "plt.xlabel('Nº da bin'); plt.ylabel('Contagem')\n",
    "plt.legend();"
   ]
  },
  {
   "cell_type": "code",
   "execution_count": null,
   "metadata": {},
   "outputs": [],
   "source": [
    "from statsmodels.graphics.gofplots import qqplot"
   ]
  },
  {
   "cell_type": "code",
   "execution_count": null,
   "metadata": {},
   "outputs": [],
   "source": [
    "qqplot(residual, line = 's')\n",
    "plt.show;"
   ]
  },
  {
   "cell_type": "markdown",
   "metadata": {},
   "source": [
    "Pelo teste acima, não foi possível aceitar a hipótese que a distribuição dos resíduos é normal. Podemos testar se os eventos que causaram grandes oscilações no consumo de energia estão influenciando nessa não normalidade dos resultados. Assim, o teste de hipótese a seguir é feito de 1976 a 1996."
   ]
  },
  {
   "cell_type": "code",
   "execution_count": null,
   "metadata": {},
   "outputs": [],
   "source": [
    "residual = result.resid\n",
    "residual= residual[0:12*21].dropna()\n",
    "plt.plot(residual, label='Residuals');\n",
    "plt.xlabel('Anos'); plt.ylabel('Resíduos')\n",
    "\n",
    "bins_num = 10\n",
    "plt.figure()\n",
    "plt.hist(residual, bins = bins_num);\n",
    "plt.xlabel('Resíduos'); plt.ylabel('Contagem')"
   ]
  },
  {
   "cell_type": "code",
   "execution_count": null,
   "metadata": {},
   "outputs": [
    {
     "ename": "NameError",
     "evalue": "name 'np' is not defined",
     "output_type": "error",
     "traceback": [
      "\u001b[1;31m---------------------------------------------------------------------------\u001b[0m",
      "\u001b[1;31mNameError\u001b[0m                                 Traceback (most recent call last)",
      "\u001b[1;32mc:\\Users\\Fernanda\\Downloads\\Projeto_stats_FINAL_FINAL.ipynb Célula: 111\u001b[0m in \u001b[0;36m<cell line: 1>\u001b[1;34m()\u001b[0m\n\u001b[1;32m----> <a href='vscode-notebook-cell:/c%3A/Users/Fernanda/Downloads/Projeto_stats_FINAL_FINAL.ipynb#Y215sZmlsZQ%3D%3D?line=0'>1</a>\u001b[0m residual \u001b[39m=\u001b[39m np\u001b[39m.\u001b[39marray(residual)\n\u001b[0;32m      <a href='vscode-notebook-cell:/c%3A/Users/Fernanda/Downloads/Projeto_stats_FINAL_FINAL.ipynb#Y215sZmlsZQ%3D%3D?line=2'>3</a>\u001b[0m x \u001b[39m=\u001b[39m np\u001b[39m.\u001b[39mmean(residual)\n\u001b[0;32m      <a href='vscode-notebook-cell:/c%3A/Users/Fernanda/Downloads/Projeto_stats_FINAL_FINAL.ipynb#Y215sZmlsZQ%3D%3D?line=3'>4</a>\u001b[0m s \u001b[39m=\u001b[39m np\u001b[39m.\u001b[39mstd(residual)\n",
      "\u001b[1;31mNameError\u001b[0m: name 'np' is not defined"
     ]
    }
   ],
   "source": [
    "residual = np.array(residual)\n",
    "\n",
    "x = np.mean(residual)\n",
    "s = np.std(residual)\n",
    "interval = np.linspace(np.min(residual), np.max(residual), bins_num)\n",
    "values, bins_val = np.histogram(residual, bins = interval)\n",
    "\n",
    "alpha = 0.05 # nível de signficância do teste\n",
    "\n",
    "# distribuição normal teórica dos dados: \n",
    "dist_normal = stats.norm(loc=x, scale=s)\n",
    "norm_cdf = dist_normal.cdf(interval)\n",
    "area_bins_norm = norm_cdf[1:] - norm_cdf[:-1]\n",
    "frequencia_teorica_norm = area_bins_norm * residual.shape[0]\n",
    "\n",
    "# teste:\n",
    "chi2_norm = 0\n",
    "for i in range(len(frequencia_teorica_norm)):\n",
    "    if frequencia_teorica_norm[i] > 0.00001:\n",
    "        chi2_norm += ((frequencia_teorica_norm[i] - values[i])**2/frequencia_teorica_norm[i])\n",
    "    else:\n",
    "        chi2_norm += 0\n",
    "chi2_teste_norm = stats.chi2.ppf(1-alpha, df=bins_num-2-1) # = 239.8774290531936; bins=200\n",
    "if chi2_norm < chi2_teste_norm  :\n",
    "  print(f'Hipótese nula NÃO rejeitada pois chi2 ({chi2_norm:.2f}) < chi2_teste ({chi2_teste_norm:.2f})')\n",
    "else:\n",
    "  print(f'Hipótese nula rejeitada pois chi2 ({chi2_norm:.2f}) > chi2_teste ({chi2_teste_norm:.2f})')\n",
    "\n",
    "# gráfico:\n",
    "plt.plot(frequencia_teorica_norm, label='Curva Teórica')\n",
    "plt.plot(values, label='Curva Observada')\n",
    "plt.xlabel('Nº da bin'); plt.ylabel('Contagem')\n",
    "plt.legend();"
   ]
  },
  {
   "cell_type": "code",
   "execution_count": null,
   "metadata": {},
   "outputs": [],
   "source": [
    "qqplot(residual, line = 's')\n",
    "plt.show;"
   ]
  },
  {
   "cell_type": "markdown",
   "metadata": {},
   "source": [
    "Neste caso, para as condições analisadas, temos que não podemos rejeitar a hipótese nula, indicando que os devios tendem a uma normalidade."
   ]
  },
  {
   "cell_type": "code",
   "execution_count": null,
   "metadata": {},
   "outputs": [],
   "source": [
    "goodness_of_fit(data=residual, bins_num=9, alpha=0.05, show_hist=True)"
   ]
  }
 ],
 "metadata": {
  "kernelspec": {
   "display_name": "Python 3.8.13 ('python3.8')",
   "language": "python",
   "name": "python3"
  },
  "language_info": {
   "codemirror_mode": {
    "name": "ipython",
    "version": 3
   },
   "file_extension": ".py",
   "mimetype": "text/x-python",
   "name": "python",
   "nbconvert_exporter": "python",
   "pygments_lexer": "ipython3",
   "version": "3.8.13"
  },
  "orig_nbformat": 4,
  "vscode": {
   "interpreter": {
    "hash": "f5df8bf237c44c6c1cce32517e1fc0f6413855a14e63ee11049ba72c8abc8688"
   }
  }
 },
 "nbformat": 4,
 "nbformat_minor": 2
}
