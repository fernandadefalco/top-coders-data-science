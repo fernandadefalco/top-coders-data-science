{
 "cells": [
  {
   "cell_type": "markdown",
   "metadata": {},
   "source": [
    "## 🎯 Exercícios 🎯 <a class=\"anchor\" id=\"cinco\"></a>\n",
    "\n",
    "\n",
    "Faça uma função que recebe dois parâmetros: linhas e colunas e desenhe uma tabela usando os caracteres (-, |, + e espaços) com essas dimensões, exemplo:\n",
    "\n",
    "linhas: 3\n",
    "colunas: 5\n",
    "\n",
    "    -----------\n",
    "    | | | | | |\n",
    "    |-+-+-+-+-|\n",
    "    | | | | | |\n",
    "    |-+-+-+-+-|\n",
    "    | | | | | |\n",
    "    -----------"
   ]
  },
  {
   "cell_type": "code",
   "execution_count": 2,
   "metadata": {},
   "outputs": [
    {
     "name": "stdout",
     "output_type": "stream",
     "text": [
      "-----------------\n",
      "| | | | | | | | | \n",
      "|-+-+-+-+-+-+-+-|\n",
      "| | | | | | | | | \n",
      "|-+-+-+-+-+-+-+-|\n",
      "| | | | | | | | | \n",
      "|-+-+-+-+-+-+-+-|\n",
      "| | | | | | | | | \n",
      "-----------------\n"
     ]
    }
   ],
   "source": [
    "def formato(linhas, colunas):\n",
    "    print(\"-\"*(colunas*2+1))\n",
    "     \n",
    "    i=0\n",
    "    while i <= (linhas+2):\n",
    "        if i%2==0:\n",
    "                print(\"| \"*(colunas+1))\n",
    "        else:\n",
    "            print(\"|\"+\"-+\"*(colunas-1)+\"-|\")\n",
    "        i+=1\n",
    "    \n",
    "    print(\"-\"*(colunas*2+1))\n",
    "\n",
    "formato(4,8)"
   ]
  },
  {
   "cell_type": "markdown",
   "metadata": {},
   "source": [
    "Faça uma função que recebe um texto e um letra e retorne a quantidade daquela letra naquele texto (ignore diferenças de capitalização, 'A' e 'a' são a mesma letra)"
   ]
  },
  {
   "cell_type": "code",
   "execution_count": 6,
   "metadata": {},
   "outputs": [
    {
     "data": {
      "text/plain": [
       "2"
      ]
     },
     "execution_count": 6,
     "metadata": {},
     "output_type": "execute_result"
    }
   ],
   "source": [
    "def contaLetra(texto,letra):\n",
    "    i = 0\n",
    "    count = 0\n",
    "    while i < len(texto):\n",
    "        if texto[i] == letra.lower() or texto[i] == letra.upper():\n",
    "            count +=1\n",
    "        i+=1\n",
    "    return (count)\n",
    "\n",
    "contaLetra('Faça uma função que recebe um texto e um letra e retorne a quantidade', 'f')"
   ]
  },
  {
   "cell_type": "markdown",
   "metadata": {},
   "source": [
    "Faça uma função que recebe um inteiro n e retorna uma lista com os n primeiros elementros da sequência de fibonacci"
   ]
  },
  {
   "cell_type": "code",
   "execution_count": 10,
   "metadata": {},
   "outputs": [
    {
     "data": {
      "text/plain": [
       "[0, 1, 1, 2, 3, 5, 8, 13, 21, 34]"
      ]
     },
     "execution_count": 10,
     "metadata": {},
     "output_type": "execute_result"
    }
   ],
   "source": [
    "def fibo(n):\n",
    "    if n == 1:\n",
    "        return 0\n",
    "    elif n == 2:\n",
    "        return 1\n",
    "    else:\n",
    "        return fibo(n-1) + fibo(n-2)\n",
    "\n",
    "def lista_fibo (numero):\n",
    "    i=numero-1\n",
    "    lista=[]\n",
    "    while i >= 0:\n",
    "        lista.append(fibo(numero-i))\n",
    "        i-=1\n",
    "    return lista\n",
    "\n",
    "lista_fibo(10)"
   ]
  },
  {
   "cell_type": "markdown",
   "metadata": {},
   "source": [
    "Faça uma função maxLista que faz a mesma coisa que a funcão _max_ faz ao receber uma lista"
   ]
  },
  {
   "cell_type": "code",
   "execution_count": 11,
   "metadata": {},
   "outputs": [
    {
     "data": {
      "text/plain": [
       "65456"
      ]
     },
     "execution_count": 11,
     "metadata": {},
     "output_type": "execute_result"
    }
   ],
   "source": [
    "def maxLista(lista):\n",
    "    if type(lista[0]) not in (int, float):\n",
    "        return 'Lista deve ser numérica'\n",
    "    \n",
    "    maximo = lista[0]\n",
    "        \n",
    "    i=1 \n",
    "    while i < len(lista):\n",
    "        if type(lista[i]) not in (int, float):\n",
    "            return 'Lista deve ser numérica'\n",
    "        elif lista[i] > maximo:\n",
    "            maximo = lista[i]\n",
    "        i+=1\n",
    "    return maximo\n",
    "\n",
    "maxLista([3,2,32,65456,30])"
   ]
  }
 ],
 "metadata": {
  "interpreter": {
   "hash": "8c8fc2e0ba7427c85b89a036e5ebd06d6d068590f5141f2ce1bbe7a31f46c41e"
  },
  "kernelspec": {
   "display_name": "Python 3.8.5 ('base')",
   "language": "python",
   "name": "python3"
  },
  "language_info": {
   "codemirror_mode": {
    "name": "ipython",
    "version": 3
   },
   "file_extension": ".py",
   "mimetype": "text/x-python",
   "name": "python",
   "nbconvert_exporter": "python",
   "pygments_lexer": "ipython3",
   "version": "3.8.5"
  },
  "varInspector": {
   "cols": {
    "lenName": 16,
    "lenType": 16,
    "lenVar": 40
   },
   "kernels_config": {
    "python": {
     "delete_cmd_postfix": "",
     "delete_cmd_prefix": "del ",
     "library": "var_list.py",
     "varRefreshCmd": "print(var_dic_list())"
    },
    "r": {
     "delete_cmd_postfix": ") ",
     "delete_cmd_prefix": "rm(",
     "library": "var_list.r",
     "varRefreshCmd": "cat(var_dic_list()) "
    }
   },
   "types_to_exclude": [
    "module",
    "function",
    "builtin_function_or_method",
    "instance",
    "_Feature"
   ],
   "window_display": false
  }
 },
 "nbformat": 4,
 "nbformat_minor": 2
}
