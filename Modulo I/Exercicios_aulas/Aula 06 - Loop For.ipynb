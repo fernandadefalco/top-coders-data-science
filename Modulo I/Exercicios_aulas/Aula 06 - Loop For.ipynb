{
 "cells": [
  {
   "cell_type": "markdown",
   "metadata": {},
   "source": [
    "## 🎯 Exercícios 🎯 <a class=\"anchor\" id=\"cinco\"></a>"
   ]
  },
  {
   "cell_type": "markdown",
   "metadata": {},
   "source": [
    "1) Escreva um algoritmo que receba um número (inteiro e positivo) e calcule seu fatorial"
   ]
  },
  {
   "cell_type": "code",
   "execution_count": 2,
   "metadata": {},
   "outputs": [
    {
     "name": "stdout",
     "output_type": "stream",
     "text": [
      "120\n"
     ]
    }
   ],
   "source": [
    "def fatorial (numero:int) -> int:\n",
    "    produto = 1\n",
    "    for i in range(1,numero+1):\n",
    "        produto *= i\n",
    "    return produto\n",
    "\n",
    "print(fatorial(5))"
   ]
  },
  {
   "cell_type": "markdown",
   "metadata": {},
   "source": [
    "2) Escreva um algoritmo que receba um numero e inteiro < 11 e imprima sua tabuada "
   ]
  },
  {
   "cell_type": "code",
   "execution_count": 1,
   "metadata": {},
   "outputs": [
    {
     "name": "stdout",
     "output_type": "stream",
     "text": [
      "5 x 1 = 5\n",
      "5 x 2 = 10\n",
      "5 x 3 = 15\n",
      "5 x 4 = 20\n",
      "5 x 5 = 25\n",
      "5 x 6 = 30\n",
      "5 x 7 = 35\n",
      "5 x 8 = 40\n",
      "5 x 9 = 45\n",
      "5 x 10 = 50\n"
     ]
    }
   ],
   "source": [
    "#Quando a função não retorna nada pode colocar None para documentar\n",
    "def tabuada(numero: int) -> None:\n",
    "    for i in range (1,11):\n",
    "        print(f\"{numero} x {i} = {numero*i}\")\n",
    "\n",
    "numero = int(input(\"Insira um número: \"))\n",
    "\n",
    "tabuada(numero)"
   ]
  },
  {
   "attachments": {
    "image.png": {
     "image/png": "[encoded data removed]"
    }
   },
   "cell_type": "markdown",
   "metadata": {},
   "source": [
    "3) Escreva um algoritmo que imprima o seguinte padrão:\n",
    "   \n",
    "<br>\n",
    "1 <br>\n",
    "1 2<br>\n",
    "1 2 3<br>\n",
    "1 2 3 4<br>\n",
    "1 2 3 4 5<br>\n",
    "...<br>"
   ]
  },
  {
   "cell_type": "code",
   "execution_count": 13,
   "metadata": {},
   "outputs": [
    {
     "name": "stdout",
     "output_type": "stream",
     "text": [
      "1 \n",
      "1 2 \n",
      "1 2 3 \n",
      "1 2 3 4 \n",
      "1 2 3 4 5 \n"
     ]
    }
   ],
   "source": [
    "def imprimePadrao (limite: int) -> None:\n",
    "    for linha in range(1,limite+1):\n",
    "        for j in range(1, linha+1):\n",
    "            print(j, end = \" \")\n",
    "        print()\n",
    "imprimePadrao(5)"
   ]
  }
 ],
 "metadata": {
  "interpreter": {
   "hash": "8c8fc2e0ba7427c85b89a036e5ebd06d6d068590f5141f2ce1bbe7a31f46c41e"
  },
  "kernelspec": {
   "display_name": "Python 3.8.5 ('base')",
   "language": "python",
   "name": "python3"
  },
  "language_info": {
   "codemirror_mode": {
    "name": "ipython",
    "version": 3
   },
   "file_extension": ".py",
   "mimetype": "text/x-python",
   "name": "python",
   "nbconvert_exporter": "python",
   "pygments_lexer": "ipython3",
   "version": "3.8.5"
  }
 },
 "nbformat": 4,
 "nbformat_minor": 2
}
