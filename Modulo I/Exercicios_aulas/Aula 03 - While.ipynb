{
 "cells": [
  {
   "cell_type": "markdown",
   "metadata": {},
   "source": [
    "---\n",
    "\n",
    "## 🎯 Exercícios 🎯 <a class=\"anchor\" id=\"cinco\"></a>\n",
    "\n",
    "**1)** Imprima os padrões usando loop:\n",
    "\n",
    "a.<br>\n",
    "\n",
    "\\*<br>\n",
    "\\*\\*<br>\n",
    "\\*\\*\\*<br>\n",
    "\\*\\*\\*\\*<br>\n",
    "\n",
    "b.<br>\n",
    "\n",
    "  \\*  <br>\n",
    " \\*\\*\\* <br>\n",
    "\\*\\*\\*\\*\\*<br>\n",
    " \\*\\*\\* <br>\n",
    "  \\*  <br>"
   ]
  },
  {
   "cell_type": "code",
   "execution_count": 3,
   "metadata": {},
   "outputs": [
    {
     "name": "stdout",
     "output_type": "stream",
     "text": [
      "*\n",
      "**\n",
      "***\n",
      "****\n"
     ]
    }
   ],
   "source": [
    "numero = int(input(\"Insira um número maior que zero: \"))\n",
    "\n",
    "#Validação do usuário\n",
    "while numero <= 0:\n",
    "    numero = int(input(\"Insira novamente um número: \"))\n",
    "\n",
    "i=1   \n",
    "while i <= numero:\n",
    "    print(\"*\"*i)\n",
    "    i+=1"
   ]
  },
  {
   "cell_type": "code",
   "execution_count": 5,
   "metadata": {},
   "outputs": [
    {
     "name": "stdout",
     "output_type": "stream",
     "text": [
      "  *\n",
      " ***\n",
      "*****\n",
      " ***\n",
      "  *\n"
     ]
    }
   ],
   "source": [
    "numero = int(input(\"Insira um número ímpar e maior que zero para a diagonal menor do losango: \"))\n",
    "\n",
    "#Validação do usuário\n",
    "while numero <= 0 or numero %2 ==0:\n",
    "    numero = int(input(\"Insira novamente um número: \"))\n",
    "\n",
    "i = 1\n",
    "j = numero//2\n",
    "\n",
    "while i <= numero:\n",
    "    print(\" \"*j + \"*\"*i)\n",
    "    i+=2\n",
    "    j-=1\n",
    "\n",
    "i=numero -2\n",
    "j = 1\n",
    "while i >=1:\n",
    "    print(\" \"*j + \"*\"*i)\n",
    "    i-=2\n",
    "    j+=1\n"
   ]
  },
  {
   "cell_type": "markdown",
   "metadata": {},
   "source": [
    "**2)** Inverta um número inteiro sem utilizar dados do tipo string.\n",
    "\n",
    "**Ex:** <br>\n",
    "3715 -> 5173 <br>\n",
    "7000 -> 7 (Zeros a esquerda naturalmente não são exibidos)"
   ]
  },
  {
   "cell_type": "code",
   "execution_count": 6,
   "metadata": {},
   "outputs": [
    {
     "data": {
      "text/plain": [
       "45432"
      ]
     },
     "execution_count": 6,
     "metadata": {},
     "output_type": "execute_result"
    }
   ],
   "source": [
    "numero = input(\"Insira um número: \")\n",
    "\n",
    "num_inv = numero[-1::-1]\n",
    "int(num_inv)"
   ]
  },
  {
   "cell_type": "code",
   "execution_count": 7,
   "metadata": {},
   "outputs": [
    {
     "name": "stdout",
     "output_type": "stream",
     "text": [
      "\n",
      " O inverso do número é = 4322\n"
     ]
    }
   ],
   "source": [
    "numero = int(input(\"Insira um número: \"))\n",
    "   \n",
    "\n",
    "invertido = 0    \n",
    "while(numero > 0):    \n",
    "    resto = numero %10    \n",
    "    invertido = (invertido *10) + resto    \n",
    "    numero = numero //10    \n",
    "     \n",
    "print(\"\\n O inverso do número é = %d\" %invertido) "
   ]
  },
  {
   "cell_type": "markdown",
   "metadata": {},
   "source": [
    "**3)** Escreva um programa que encontra o maximo divisor comum entre dois números"
   ]
  },
  {
   "cell_type": "code",
   "execution_count": 8,
   "metadata": {},
   "outputs": [
    {
     "name": "stdout",
     "output_type": "stream",
     "text": [
      "O mdc é:  4\n"
     ]
    }
   ],
   "source": [
    "num_1 = int(input(\"Insira um número: \"))\n",
    "num_2 = int(input(\"Insira um segundo número: \"))\n",
    " \n",
    "divisor = min(num_1, num_2)\n",
    " \n",
    "while divisor > 0:\n",
    "    if num_1%divisor == 0 and num_2%divisor == 0:\n",
    "        print('O mdc é: ', divisor)\n",
    "        break\n",
    "    divisor -= 1"
   ]
  },
  {
   "cell_type": "markdown",
   "metadata": {},
   "source": [
    "**3b)** Escreva um programa que encontra o mínimo múltiplo comum entre dois números"
   ]
  },
  {
   "cell_type": "code",
   "execution_count": 9,
   "metadata": {},
   "outputs": [
    {
     "name": "stdout",
     "output_type": "stream",
     "text": [
      "O mínimo múltiplo comum é 3978\n"
     ]
    }
   ],
   "source": [
    "num_1 = int(input(\"Insira um número: \"))\n",
    "num_2 = int(input(\"Insira um segundo número: \"))\n",
    "\n",
    "maior = max(num_1,num_2)\n",
    "\n",
    "while(True):\n",
    "    if ((maior % num_1 == 0) and (maior % num_2 == 0)):\n",
    "        mmc = maior\n",
    "        break\n",
    "    maior += 1\n",
    "\n",
    "print(f\"O mínimo múltiplo comum é {mmc}\")"
   ]
  },
  {
   "cell_type": "markdown",
   "metadata": {},
   "source": [
    "**4)** Faça a somatória de todos os numeros seguindo a sequência: <br>\n",
    "\n",
    "$ \\frac{1}{1} + \\frac{1}{2} + \\frac{1}{3} + \\frac{1}{4} + \\frac{1}{5} + \\frac{1}{6} + ... + \\frac{1}{1000} $\n",
    "\n"
   ]
  },
  {
   "cell_type": "code",
   "execution_count": 10,
   "metadata": {},
   "outputs": [
    {
     "name": "stdout",
     "output_type": "stream",
     "text": [
      "7.485470860550343\n"
     ]
    }
   ],
   "source": [
    "i = 1\n",
    "soma = 0\n",
    "while i <=1000:\n",
    "    soma = soma + 1/i\n",
    "    i+=1\n",
    "print(soma)"
   ]
  },
  {
   "cell_type": "markdown",
   "metadata": {},
   "source": [
    "\n",
    "$ \\frac{1}{1} + \\frac{1}{2} + \\frac{1}{4} + \\frac{1}{8} + \\frac{1}{16} + \\frac{1}{32} + ... + \\frac{1}{2^{n}} $\n",
    "\n"
   ]
  },
  {
   "cell_type": "code",
   "execution_count": 11,
   "metadata": {},
   "outputs": [
    {
     "name": "stdout",
     "output_type": "stream",
     "text": [
      "1.75\n"
     ]
    }
   ],
   "source": [
    "n = int(input('Insira o valor de n: '))\n",
    "i = 0\n",
    "soma = 0\n",
    "\n",
    "while i <= n:\n",
    "    soma = soma + 1/(2**i)\n",
    "    i+=1\n",
    "print(soma)"
   ]
  },
  {
   "cell_type": "markdown",
   "metadata": {},
   "source": [
    "**5)** Seguindo a mesma ideia do exercício 4, faça a soma da seguinte sequência: <br>\n",
    "\n",
    "$ \\frac{1}{1!} + \\frac{1}{2!} + \\frac{1}{3!} + \\frac{1}{4!} + \\frac{1}{5!} + \\frac{1}{6!} + ... + \\frac{1}{100!} $"
   ]
  },
  {
   "cell_type": "code",
   "execution_count": 12,
   "metadata": {},
   "outputs": [
    {
     "name": "stdout",
     "output_type": "stream",
     "text": [
      "1.7182818284590455\n"
     ]
    }
   ],
   "source": [
    "def fat(n):\n",
    "    i = 0 \n",
    "    fat=1\n",
    "    while i <= (n-1):\n",
    "        fat *= (n-i)\n",
    "        i +=1 \n",
    "    return fat\n",
    "\n",
    "i=1\n",
    "soma =0\n",
    "while i <= 100:\n",
    "    soma = soma + 1/(fat(i))\n",
    "    i+=1\n",
    "print(soma)"
   ]
  },
  {
   "cell_type": "markdown",
   "metadata": {},
   "source": [
    "**6)** Faça uma calculadora de investimentos que define se um fundo gera lucro real (rendimento acima da inflação) ao final de 12 meses, considerando o rendimento mensal projetado, a taxa de administração do fundo, a inflação no ano, come-cotas ( vamos considerar 15%) e o capital investido. Caso positivo, informe quanto foi esse lucro."
   ]
  },
  {
   "cell_type": "code",
   "execution_count": 26,
   "metadata": {},
   "outputs": [
    {
     "name": "stdout",
     "output_type": "stream",
     "text": [
      "   ------ Calculadora de Rendimentos ------\n",
      "                1. Calcular deduções\n",
      "                2. Calcular rendimento antes das deduções\n",
      "                3. Calcular lucro final\n",
      "                4. Verificar se o redimento está acima da inflação\n",
      "                5. Sair do programa\n",
      "    \n",
      "Seu redimento foi superior à inflação em R$57.06\n",
      "   ------ Calculadora de Rendimentos ------\n",
      "                1. Calcular deduções\n",
      "                2. Calcular rendimento antes das deduções\n",
      "                3. Calcular lucro final\n",
      "                4. Verificar se o redimento está acima da inflação\n",
      "                5. Sair do programa\n",
      "    \n",
      "O seu rendimento bruto é : R$1062882.00\n",
      "Fim do programa\n"
     ]
    }
   ],
   "source": [
    "def menu():  \n",
    "    print('''   ------ Calculadora de Rendimentos ------\n",
    "                1. Calcular deduções\n",
    "                2. Calcular rendimento antes das deduções\n",
    "                3. Calcular lucro final\n",
    "                4. Verificar se o redimento está acima da inflação\n",
    "                5. Sair do programa\n",
    "    ''')\n",
    "    inflacao = float(input(\"Insira a taxa de inflação (ano): \"))\n",
    "    come_cotas = 0.15\n",
    "    rend_mensal = float(input(\"Insira a taxa de rendimento mensal do fundo: \"))\n",
    "    taxa_adm = float(input(\"Insira a taxa administrativa: \"))\n",
    "    capital_inicial = float(input(\"Insira o capital investido: \"))\n",
    "\n",
    "    opcao = int(input(\"Digite a opção escolhida: \"))\n",
    "    while opcao not in range(1,6):\n",
    "        opcao = int(input(\"Opção inválida, digite novamente a opção escolhida: \"))\n",
    "\n",
    "    rendimento = capital_inicial*(1 + rend_mensal)**12 \n",
    "    deducoes = (taxa_adm + come_cotas)*rendimento\n",
    "    rend_final = rendimento-deducoes\n",
    "\n",
    "    if opcao == 1:\n",
    "        print(f\"O valor de deduções é: R${deducoes:.2f}\")\n",
    "    elif opcao == 2:\n",
    "        print(f\"O seu rendimento bruto é : R${rendimento:.2f}\")\n",
    "    elif opcao == 3:\n",
    "        print(f\"O seu lucro final é: R${rend_final:.2f}\")\n",
    "    elif opcao == 4:\n",
    "        rendimento_inflacao = capital_inicial*(1+inflacao)\n",
    "        deducoes_inflacao = (taxa_adm + come_cotas)*rendimento_inflacao\n",
    "        rend_final_inf = rendimento_inflacao - deducoes_inflacao\n",
    "        if rend_final > rend_final_inf:\n",
    "            print(f\"Seu redimento foi superior à inflação em R${rend_final-rend_final_inf:.2f}\")\n",
    "        else:\n",
    "            print(f\"Seu redimento foi inferior à inflação em R${rend_final_inf-rend_final:.2f}\")\n",
    "    else:\n",
    "            print(\"Fim do programa\")\n",
    "\n",
    "menu()\n",
    "validacao = input(\"Gostaria de calcular novamente? (S/N)\").upper()\n",
    "\n",
    "while validacao == 'S':\n",
    "    menu()\n",
    "    validacao = input(\"Gostaria de calcular novamente? (S/N)\").upper()\n",
    "\n",
    "print(\"Fim do programa\")"
   ]
  }
 ],
 "metadata": {
  "interpreter": {
   "hash": "8c8fc2e0ba7427c85b89a036e5ebd06d6d068590f5141f2ce1bbe7a31f46c41e"
  },
  "kernelspec": {
   "display_name": "Python 3.8.5 ('base')",
   "language": "python",
   "name": "python3"
  },
  "language_info": {
   "codemirror_mode": {
    "name": "ipython",
    "version": 3
   },
   "file_extension": ".py",
   "mimetype": "text/x-python",
   "name": "python",
   "nbconvert_exporter": "python",
   "pygments_lexer": "ipython3",
   "version": "3.8.5"
  }
 },
 "nbformat": 4,
 "nbformat_minor": 4
}
