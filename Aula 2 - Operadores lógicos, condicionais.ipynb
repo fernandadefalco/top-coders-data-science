{
 "cells": [
  {
   "cell_type": "markdown",
   "metadata": {},
   "source": [
    "## Exercícios"
   ]
  },
  {
   "cell_type": "markdown",
   "metadata": {},
   "source": [
    "**1)** Um posto está vendendo combustíveis com a seguinte tabela de descontos: <br>\n",
    "\n",
    "Álcool:<br>\n",
    " - até 20 litros, desconto de 3% por litro\n",
    " - acima de 20 litros, desconto de 5% por litro <br>\n",
    " \n",
    "Gasolina:<br>\n",
    " - até 20 litros, desconto de 4% por litro\n",
    " - acima de 20 litros, desconto de 6% por litro. \n",
    " \n",
    "Escreva um algoritmo que leia o número de litros vendidos, o tipo de combustível (codificado da seguinte forma: A-álcool, G-gasolina), calcule e imprima o valor a ser pago pelo cliente sabendo-se que o preço do litro da gasolina é 2,50 reais o preço do litro do álcool é 1,90 reais."
   ]
  },
  {
   "cell_type": "code",
   "execution_count": 21,
   "metadata": {},
   "outputs": [
    {
     "name": "stdout",
     "output_type": "stream",
     "text": [
      "Digite a quantidade de litros vendidos: 23\n",
      "Informe o tipo de combustível (A-álcool ou G-gasolina): G\n",
      "Para abastecer 23.0L, o valor a ser pago é R$54.05\n"
     ]
    }
   ],
   "source": [
    "preco_gas = 2.50\n",
    "preco_alc = 1.90\n",
    "\n",
    "desc_alc_ate_20 = 0.03\n",
    "desc_alc_maior_20 = 0.05\n",
    "\n",
    "desc_gas_ate_20 = 0.04\n",
    "desc_gas_maior_20 = 0.06\n",
    "\n",
    "litros = float(input(\"Digite a quantidade de litros vendidos: \"))\n",
    "combustivel = input(\"Informe o tipo de combustível (A-álcool ou G-gasolina): \").upper()\n",
    "\n",
    "while combustivel != \"A\" and combustivel !=\"G\":\n",
    "    combustivel = input(\"Valor inválido, informe o tipo de combustível (A-álcool ou G-gasolina): \").upper()\n",
    "\n",
    "if litros > 20 and combustivel == \"A\":\n",
    "    preco = (1-desc_alc_maior_20)*litros*preco_alc\n",
    "elif litros <= 20 and combustivel == \"A\":\n",
    "    preco = (1-desc_alc_ate_20)*litros*preco_alc\n",
    "elif litros > 20 and combustivel == \"G\":\n",
    "    preco = (1-desc_gas_maior_20)*litros*preco_gas\n",
    "else:\n",
    "    preco = (1-desc_gas_ate_20)*litros*preco_gas\n",
    "    \n",
    "print(f\"Para abastecer {litros:.1f}L, o valor a ser pago é R${preco:.2f}\")"
   ]
  },
  {
   "cell_type": "markdown",
   "metadata": {},
   "source": [
    "**2)** Faça um programa que faça 5 perguntas para uma pessoa sobre um crime. As perguntas são:\n",
    "\n",
    "- \"Telefonou para a vítima?\"\n",
    "- \"Esteve no local do crime?\"\n",
    "- \"Mora perto da vítima?\"\n",
    "- \"Devia para a vítima?\"\n",
    "- \"Já trabalhou com a vítima?\"\n",
    "\n",
    "O programa deve no final emitir uma classificação sobre a participação da pessoa no crime. Se a pessoa responder positivamente a 2 questões ela deve ser classificada como \"Suspeita\", entre 3 e 4 como \"Cúmplice\" e 5 como \"Assassino\". Caso contrário, ele será classificado como \"Inocente\"."
   ]
  },
  {
   "cell_type": "code",
   "execution_count": 17,
   "metadata": {},
   "outputs": [
    {
     "name": "stdout",
     "output_type": "stream",
     "text": [
      "Telefonou para a vítima? (Responda com S/N) d\n",
      "Esteve no local do crime? (Responda com S/N) s\n",
      "Mora perto da vítima? (Responda com S/N) s\n",
      "Devia para a vítima? (Responda com S/N) s\n",
      "Já trabalhou com a vítima? (Responda com S/N) s\n",
      "Cúmplice\n"
     ]
    }
   ],
   "source": [
    "perg_1 = input(\"Telefonou para a vítima? (Responda com S/N) \").upper()\n",
    "perg_2 = input(\"Esteve no local do crime? (Responda com S/N) \").upper()\n",
    "perg_3 = input(\"Mora perto da vítima? (Responda com S/N) \").upper()\n",
    "perg_4 = input(\"Devia para a vítima? (Responda com S/N) \").upper()\n",
    "perg_5 = input(\"Já trabalhou com a vítima? (Responda com S/N) \").upper()\n",
    "lista=[]\n",
    "\n",
    "for i in range (1,6):\n",
    "    lista.append(globals()[\"perg_\"+str(i)])\n",
    "    \n",
    "if lista.count(\"S\") == 5:\n",
    "    print(\"Assassino\")\n",
    "elif lista.count(\"S\") in (3,4):\n",
    "    print(\"Cúmplice\")\n",
    "elif lista.count(\"S\") == 2:\n",
    "    print(\"Suspeita\")\n",
    "else:\n",
    "    print(\"Inocente\")"
   ]
  },
  {
   "cell_type": "markdown",
   "metadata": {},
   "source": [
    "**3)** Faça um Programa que leia um número inteiro menor que 1000 e imprima a quantidade de centenas, dezenas e unidades do mesmo. Observando os termos no plural a colocação do \"e\", da vírgula entre outros. Exemplo:\n",
    "\n",
    "326 = 3 centenas, 2 dezenas e 6 unidades <br>\n",
    "12 = 1 dezena e 2 unidades"
   ]
  },
  {
   "cell_type": "code",
   "execution_count": 30,
   "metadata": {},
   "outputs": [
    {
     "name": "stdout",
     "output_type": "stream",
     "text": [
      "Insira um número de 0 a 999: 999\n",
      "9 centenas , 9 dezenas e 9 unidades\n"
     ]
    }
   ],
   "source": [
    "numero = int(input(\"Insira um número de 0 a 999: \"))\n",
    "\n",
    "while numero > 999 or numero < 0:\n",
    "     numero = int(input(\"Valor inválido, insira um número de 0 a 999: \"))\n",
    "\n",
    "qtde_centenas = numero//100\n",
    "qtde_dezenas = (numero%100)//10\n",
    "qtde_unidades = ((numero%100)%10)\n",
    "\n",
    "cont_j = 0\n",
    "\n",
    "j = [\"centenas\", \"centena\",\"dezenas\",\"dezena\",\"unidades\",\"unidade\"]\n",
    "\n",
    "\n",
    "for i in [\"centenas\",\"dezenas\", \"unidades\"]:\n",
    "        if globals()[\"qtde_\"+i] > 1:\n",
    "            globals()[\"acomp_\"+i] = j[cont_j]\n",
    "            \n",
    "        elif globals()[\"qtde_\"+i] == 1:\n",
    "            globals()[\"acomp_\"+i] = j[cont_j +1]\n",
    "            \n",
    "        else:\n",
    "            globals()[\"qtde_\"+i] =\"\"\n",
    "            globals()[\"acomp_\"+i] =\"\"\n",
    "    \n",
    "        cont_j += 2\n",
    "\n",
    "num_termos = bool(acomp_centenas) + bool(acomp_dezenas) +bool(acomp_unidades)\n",
    "\n",
    "if num_termos == 3:\n",
    "    sep1 = ','\n",
    "    sep2='e'\n",
    "\n",
    "elif num_termos ==2:\n",
    "    sep1 = \"\"\n",
    "    sep2 = \"e\"\n",
    "    \n",
    "else:\n",
    "    sep1 = \"\"\n",
    "    sep2 = \"\"\n",
    "    \n",
    "print(f\"{qtde_centenas} {acomp_centenas} {sep1} {qtde_dezenas} {acomp_dezenas} {sep2} {qtde_unidades} {acomp_unidades}\")"
   ]
  },
  {
   "cell_type": "markdown",
   "metadata": {},
   "source": [
    "**4)** Faça um programa que calcule as raízes de uma equação do segundo grau, na forma:\n",
    "\n",
    "$ax^{2} + bx + c$ \n",
    "\n",
    "O programa deverá pedir os valores de a, b e c, informando ao usuário nas seguintes situações:\n",
    "Se o usuário informar o valor de A igual a zero, a equação não é do segundo grau e o programa não deve fazer pedir os demais valores, sendo encerrado;\n",
    "Se o delta calculado for negativo, a equação não possui raizes reais. Informe ao usuário e encerre o programa;\n",
    "Se o delta calculado for igual a zero a equação possui apenas uma raiz real; informe-a ao usuário;\n",
    "Se o delta for positivo, a equação possui duas raiz reais; informe-as ao usuário;"
   ]
  },
  {
   "cell_type": "code",
   "execution_count": 32,
   "metadata": {},
   "outputs": [
    {
     "name": "stdout",
     "output_type": "stream",
     "text": [
      "Insira o valor de a: 2\n",
      "Insira o valor de b: 3\n",
      "Insira o valor de c: 4\n",
      "A equação não possui raízes reais.\n"
     ]
    }
   ],
   "source": [
    "a = float(input(\"Insira o valor de a: \"))\n",
    "\n",
    "#Se o usuário informar o valor de A igual a zero, \n",
    "#a equação não é do segundo grau e o programa não deve fazer pedir os demais valores, sendo encerrado\n",
    "if a == 0:\n",
    "    while a == 0:\n",
    "        print(\"A equação não é de segundo grau, insira novamente: \")\n",
    "        a = float(input(\"Insira o valor de a: \"))\n",
    "    \n",
    "b = float(input(\"Insira o valor de b: \"))\n",
    "c = float(input(\"Insira o valor de c: \"))\n",
    "\n",
    "#Se o delta calculado for negativo, a equação não possui raizes reais. \n",
    "delta = b**2 - 4*a*c\n",
    "\n",
    "if delta < 0:\n",
    "    print(\"A equação não possui raízes reais.\")\n",
    "\n",
    "elif delta == 0:\n",
    "    raiz = -b/(2*a)\n",
    "    if raiz == -0:\n",
    "        raiz = 0\n",
    "    print(f\"A equação só possui 1 raiz real: {raiz}\")\n",
    "\n",
    "else:\n",
    "    raiz_1 = (-b + delta*(1/2))/(2*a)\n",
    "    raiz_2 = (-b - delta*(1/2))/(2*a)\n",
    "    print(f\"A equação possui duas raízes reais: {raiz_1:.2f} e {raiz_2:.2f}\")\n"
   ]
  },
  {
   "cell_type": "markdown",
   "metadata": {},
   "source": [
    "**5)** Faça um Programa para um caixa eletrônico. O programa deverá perguntar ao usuário o valor do saque e depois informar quantas notas de cada valor serão fornecidas, considerando o valor mínimo de notas possíveis. As notas disponíveis serão as de 1, 5, 10, 50 e 100 reais."
   ]
  },
  {
   "cell_type": "code",
   "execution_count": 87,
   "metadata": {},
   "outputs": [
    {
     "name": "stdout",
     "output_type": "stream",
     "text": [
      "Insira o valor do saque: 1234\n",
      "12\n",
      "0\n",
      "3\n",
      "0\n",
      "4\n"
     ]
    }
   ],
   "source": [
    "valor_saque = int(input(\"Insira o valor do saque: \"))\n",
    "\n",
    "valores = [100,50,10,5,1]\n",
    "mensagem =\"\"\n",
    "\n",
    "notas100 = valor_saque//100\n",
    "valor = valor_saque%100\n",
    "\n",
    "notas50 = valor//50\n",
    "valor = valor%50\n",
    "\n",
    "notas10 = valor//10\n",
    "valor=valor%10\n",
    "\n",
    "notas5 = valor//5\n",
    "valor=valor%5\n",
    "\n",
    "notas1 = valor//1\n",
    "valor=valor%1\n",
    "\n",
   
   ]
  },
  {
   "cell_type": "code",
   "execution_count": 89,
   "metadata": {},
   "outputs": [
    {
     "name": "stdout",
     "output_type": "stream",
     "text": [
      "Insira o valor do saque: 1234\n",
      "Serão necessária(s) 12 notas de 100\n",
      "34\n",
      "0\n",
      "3\n",
      "0\n",
      "4\n",
      "0notas de 50\n",
      "0\n",
      "3\n",
      "0\n",
      "4\n",
      "3notas de 10\n",
      "0\n",
      "3\n",
      "0\n",
      "4\n",
      "0notas de 5\n",
      "0\n",
      "3\n",
      "0\n",
      "4\n",
      "4notas de 1\n"
     ]
    }
   ],
   "source": [
    "valor_saque = int(input(\"Insira o valor do saque: \"))\n",
    "\n",
    "valores = [50,10,5,1]\n",
    "\n",
    "notas100 = valor_saque//100\n",
    "valor = valor_saque%100\n",
    "print(f\"Serão necessária(s) {notas100} notas de 100\")\n",
    "print(valor)\n",
    "\n",
    "for i in range(0,4):\n",
    "    globals()[\"notas\"+str(valores[i])] = valor//(valores[i])\n",
    "    valor = valor%(valores[i])\n",
    "    print(str(globals()[\"notas\"+str(valores[i])]) + \"notas de \" +str((valores[i])))\n",
    "# print(mensagem)\n",
    "\n",
    "# print(notas50)\n",
    "# print(notas10)\n",
    "# print(notas5)\n",
    "# print(notas1)"
   ]
  },
  {
   "cell_type": "markdown",
   "metadata": {},
   "source": [
    "**6)** Faça um Programa que peça os 3 lados de um triângulo. O programa deverá informar se os valores podem ser um triângulo. Indique, caso os lados formem um triângulo, se o mesmo é: equilátero, isósceles ou escaleno.\n",
    "\n",
    "Dicas:\n",
    "- Três lados formam um triângulo quando a soma de quaisquer dois lados for maior que o terceiro;\n",
    "- Triângulo Equilátero: três lados iguais;\n",
    "- Triângulo Isósceles: quaisquer dois lados iguais;\n",
    "- Triângulo Escaleno: três lados diferentes;"
   ]
  },
  {
   "cell_type": "code",
   "execution_count": null,
   "metadata": {},
   "outputs": [],
   "source": [
    "lado_1 = float(input(\"Insira o tamanho do lado 1: \"))\n",
    "lado_2 = float(input(\"Insira o tamanho do lado 2: \"))\n",
    "lado_3 = float(input(\"Insira o tamanho do lado 3: \"))\n",
    "\n",
    "validacao = lado_1 < lado_2+lado_3 and lado_2 < lado_3+lado_1 and lado_3 < lado_2+lado_1\n",
    "\n",
    "while not validacao:\n",
    "    print(\"-------Esses valores não podem ser um triângulo\\n-------Insira novamente:\")\n",
    "    lado_1 = float(input(\"Insira o tamanho do lado 1: \"))\n",
    "    lado_2 = float(input(\"Insira o tamanho do lado 2: \"))\n",
    "    lado_3 = float(input(\"Insira o tamanho do lado 3: \"))\n",
    "        \n",
    "    validacao = lado_1 < lado_2+lado_3 and lado_2 < lado_3+lado_1 and lado_3 < lado_2+lado_1\n",
    "\n",
    "if validacao:\n",
    "    if lado_1 == lado_2 == lado_3:\n",
    "        print(\"O triângulo é equilátero\")\n",
    "#     elif lado_1==(lado_2**2 +lado_3**2)**(0.5) or lado_2==(lado_1**2 +lado_3**2)**(0.5) or lado_3==(lado_1**2 +lado_2**2)**(0.5):\n",
    "#         print(\"O triângulo é retângulo\")\n",
    "    elif lado_1 != lado_2 != lado_3:\n",
    "        print(\"O triângulo é escaleno\")\n",
    "    else:\n",
    "        print(\"O triângulo é isósceles\")"
   ]
  }
 ],
 "metadata": {
  "kernelspec": {
   "display_name": "Python 3",
   "language": "python",
   "name": "python3"
  },
  "language_info": {
   "codemirror_mode": {
    "name": "ipython",
    "version": 3
   },
   "file_extension": ".py",
   "mimetype": "text/x-python",
   "name": "python",
   "nbconvert_exporter": "python",
   "pygments_lexer": "ipython3",
   "version": "3.8.5"
  }
 },
 "nbformat": 4,
 "nbformat_minor": 4
}
