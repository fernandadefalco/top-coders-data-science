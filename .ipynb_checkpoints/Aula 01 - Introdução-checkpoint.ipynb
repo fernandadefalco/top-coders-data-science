{
 "cells": [
  {
   "cell_type": "markdown",
   "metadata": {},
   "source": [
    "## 🎯 Exercícios 🎯 <a class=\"anchor\" id=\"cinco\"></a>"
   ]
  },
  {
   "cell_type": "markdown",
   "metadata": {},
   "source": [
    "<b>1) Faça um Programa que peça as 4 notas bimestrais e mostre a média.</b>"
   ]
  },
  {
   "cell_type": "code",
   "execution_count": 15,
   "metadata": {},
   "outputs": [
    {
     "name": "stdout",
     "output_type": "stream",
     "text": [
      "Insira a primeira nota:  2\n",
      "Insira a segunda nota:  3\n",
      "Insira a terceira nota:  4\n",
      "Insira a quarta nota:  5\n",
      "A média das 4 notas é 3.50\n"
     ]
    }
   ],
   "source": [
    "soma = 0\n",
    "\n",
    "for i in range(0,len(posicao)):\n",
    "    posicao = [\"primeira\",\"segunda\",\"terceira\",\"quarta\"]\n",
    "    nota = float(input(f\"Insira a {posicao[i]} nota:  \"))\n",
    "    soma += nota\n",
    "\n",
    "media = soma/len(posicao)\n",
    "\n",
    "print(f\"A média das {len(posicao)} notas é {media:.2f}\")"
   ]
  },
  {
   "cell_type": "markdown",
   "metadata": {},
   "source": [
    "**2) Faça um Programa que pergunte quanto você ganha por hora e o número de horas trabalhadas no mês. Calcule e mostre o total do seu salário no referido mês**"
   ]
  },
  {
   "cell_type": "code",
   "execution_count": 1,
   "metadata": {},
   "outputs": [
    {
     "name": "stdout",
     "output_type": "stream",
     "text": [
      "Quanto você ganha por hora? 12\n",
      "Quantas horas você trabalha no mês? 3\n",
      "Seu salário no mês é 36.00\n"
     ]
    }
   ],
   "source": [
    "def salario(sal_hora,horas):\n",
    "    return sal_hora*horas\n",
    "\n",
    "ganho_hora = float(input(\"Quanto você ganha por hora? \"))\n",
    "horas = float(input(\"Quantas horas você trabalha no mês? \"))\n",
    "\n",
    "print(f\"Seu salário no mês é R$ {salario(ganho_hora,horas):.2f}\")"
   ]
  },
  {
   "cell_type": "markdown",
   "metadata": {},
   "source": [
    "**4) Faça um Programa que peça a temperatura em graus Fahrenheit, transforme e mostre a temperatura em graus Celsius.<br>**\n",
    "\n",
    "$$ C = \\frac{5 * (F-32)}{9} $$"
   ]
  },
  {
   "cell_type": "code",
   "execution_count": 35,
   "metadata": {},
   "outputs": [
    {
     "name": "stdout",
     "output_type": "stream",
     "text": [
      "Insira um valor de temperatura: 234\n",
      "A temperatura está em Fahrenheit ou Celsius? Insira F ou C: G\n",
      "Valor inválido, a temperatura está em Fahrenheit ou Celsius? Insira F ou C:G\n",
      "Valor inválido, a temperatura está em Fahrenheit ou Celsius? Insira F ou C:F\n",
      "A temperatura de 234.0ºF equivale a 112.2 ºC\n"
     ]
    }
   ],
   "source": [
    "def converte_temperatura(temp, grau):\n",
    "        if grau == \"F\":\n",
    "            return (f\"{(5*(temp-32))/9:.1f} ºC\")\n",
    "        else:\n",
    "            return (f\"{9*temp/5 + 32:.1f} ºF\")\n",
    "\n",
    "\n",
    "temperatura = float(input(\"Insira um valor de temperatura: \"))\n",
    "grau = input(\"A temperatura está em Fahrenheit ou Celsius? Insira F ou C: \").upper()\n",
    "\n",
    "while grau != \"F\" and grau != \"C\":\n",
    "    grau = input(\"Valor inválido, a temperatura está em Fahrenheit ou Celsius? Insira F ou C:\").upper()\n",
    "\n",
    "print(f\"A temperatura de {temperatura}º{grau} equivale a {converte_temperatura(temperatura,grau)}\")"
   ]
  },
  {
   "cell_type": "markdown",
   "metadata": {},
   "source": [
    "**5) Faça um Programa que pergunte quanto você ganha por hora e o número de horas trabalhadas no mês. Calcule e mostre o total do seu salário no referido mês, sabendo-se que são descontados 11% para o Imposto de Renda, 8% para o INSS e 5% para o sindicato, faça um programa que nos dê:**\n",
    "- Salário bruto.\n",
    "- Quanto pagou ao INSS.\n",
    "- Quanto pagou ao sindicato.\n",
    "- O salário líquido."
   ]
  },
  {
   "cell_type": "code",
   "execution_count": 9,
   "metadata": {},
   "outputs": [
    {
     "name": "stdout",
     "output_type": "stream",
     "text": [
      "Quanto você ganha por hora? 2\n",
      "Quantas horas você trabalha no mês? 3\n",
      "O salário bruto é R$6.00\n",
      "Foi descontado 0.66 ao Imposto de Renda\n",
      "Foi descontado 0.48 ao INSS\n",
      "Foi descontado 0.30 ao sindicato\n",
      "O salário líquido é de R$4.56\n"
     ]
    }
   ],
   "source": [
    "ganho_hora = float(input(\"Quanto você ganha por hora? \"))\n",
    "horas = float(input(\"Quantas horas você trabalha no mês? \"))\n",
    "\n",
    "IR = 0.11\n",
    "INSS = 0.08\n",
    "sindicato = 0.05\n",
    "sal_bruto = salario(ganho_hora,horas) \n",
    "\n",
    "print(f'''O salário bruto é R${sal_bruto:.2f}\n",
    "Foi descontado {sal_bruto*IR} ao Imposto de Renda\n",
    "Foi descontado {sal_bruto*INSS} ao INSS\n",
    "Foi descontado {sal_bruto*sindicato:.2f} ao sindicato\n",
    "O salário líquido é de R${(1-(INSS+IR+sindicato))*sal_bruto:.2f}''' )"
   ]
  },
  {
   "cell_type": "markdown",
   "metadata": {},
   "source": [
    "**6) João Papo-de-Pescador, homem de bem, comprou um microcomputador para controlar o rendimento diário de seu trabalho. Toda vez que ele traz um peso de peixes maior que o estabelecido pelo regulamento de pesca do estado de São Paulo (50 quilos) deve pagar uma multa de R$ 4,00 por quilo excedente. João precisa que você faça um programa que leia a variável peso (peso de peixes) e calcule o excesso. Gravar na variável excesso a quantidade de quilos além do limite e na variável multa o valor da multa que João deverá pagar. Imprima os dados do programa com as mensagens adequadas.**"
   ]
  },
  {
   "cell_type": "code",
   "execution_count": 17,
   "metadata": {},
   "outputs": [
    {
     "name": "stdout",
     "output_type": "stream",
     "text": [
      "Insira o peso de peixes (kg): 56\n",
      "Houve um excesso de peso de 6.0 kg, resultando em uma multa de R$24.00\n"
     ]
    }
   ],
   "source": [
    "peso_peixes = float(input(\"Insira o peso de peixes (kg): \"))\n",
    "peso_regulamento = 50\n",
    "multa_excesso = 4\n",
    "excesso = peso_peixes - peso_regulamento\n",
    "\n",
    "if excesso > 0:\n",
    "    multa = multa_excesso*excesso\n",
    "    print(f\"Houve um excesso de peso de {excesso} kg, resultando em uma multa de R${multa:.2f}\")\n",
    "elif excesso == 0:\n",
    "    print(f\"Não será necessário pagar multa.\")\n",
    "else:\n",
    "    print(f\"Peso {abs(excesso)} kg abaixo do limite, não será necessário pagar multa.\")\n",
    "\n",
    "    \n"
   ]
  }
 ],
 "metadata": {
  "kernelspec": {
   "display_name": "Python 3",
   "language": "python",
   "name": "python3"
  },
  "language_info": {
   "codemirror_mode": {
    "name": "ipython",
    "version": 3
   },
   "file_extension": ".py",
   "mimetype": "text/x-python",
   "name": "python",
   "nbconvert_exporter": "python",
   "pygments_lexer": "ipython3",
   "version": "3.8.5"
  }
 },
 "nbformat": 4,
 "nbformat_minor": 4
}
